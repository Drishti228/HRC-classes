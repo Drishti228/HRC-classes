{
 "cells": [
  {
   "cell_type": "markdown",
   "id": "wcq6dWzy1ZR0",
   "metadata": {
    "id": "wcq6dWzy1ZR0"
   },
   "source": [
    "# Payment Date Prediction "
   ]
  },
  {
   "cell_type": "markdown",
   "id": "e1c5a160",
   "metadata": {},
   "source": [
    "### Project By:\n",
    "- Name: Drishti.\n",
    "- HRC ID: HRC60102WK\n",
    "- College Name: Kalinga Institute of Industrial Technology- DU\n",
    "- Submission Date: 25/02/2022"
   ]
  },
  {
   "cell_type": "markdown",
   "id": "2778654e",
   "metadata": {
    "id": "2778654e"
   },
   "source": [
    "\n",
    "### Importing related Libraries "
   ]
  },
  {
   "cell_type": "code",
   "execution_count": 1,
   "id": "304c9e38",
   "metadata": {
    "id": "304c9e38"
   },
   "outputs": [],
   "source": [
    "import pandas as pd\n",
    "import numpy as np\n",
    "import matplotlib.pyplot as plt\n",
    "import seaborn as sns\n",
    "import sklearn.metrics as sm\n",
    "from sklearn.model_selection import RandomizedSearchCV, GridSearchCV\n",
    "import warnings\n",
    "warnings.filterwarnings(\"ignore\")\n",
    "#import xgboost as xgb\n",
    "#from sklearn.ensemble import RandomForestRegressor\n",
    "#from sklearn.tree import DecisionTreeRegressor\n",
    "#from sklearn.linear_model import LinearRegression\n",
    "#from sklearn.svm import SVR"
   ]
  },
  {
   "cell_type": "markdown",
   "id": "8724f5ee",
   "metadata": {
    "id": "8724f5ee"
   },
   "source": [
    "### Store the dataset into the Dataframe\n"
   ]
  },
  {
   "cell_type": "code",
   "execution_count": 2,
   "id": "415db50a",
   "metadata": {
    "id": "415db50a"
   },
   "outputs": [
    {
     "data": {
      "text/html": [
       "<div>\n",
       "<style scoped>\n",
       "    .dataframe tbody tr th:only-of-type {\n",
       "        vertical-align: middle;\n",
       "    }\n",
       "\n",
       "    .dataframe tbody tr th {\n",
       "        vertical-align: top;\n",
       "    }\n",
       "\n",
       "    .dataframe thead th {\n",
       "        text-align: right;\n",
       "    }\n",
       "</style>\n",
       "<table border=\"1\" class=\"dataframe\">\n",
       "  <thead>\n",
       "    <tr style=\"text-align: right;\">\n",
       "      <th></th>\n",
       "      <th>business_code</th>\n",
       "      <th>cust_number</th>\n",
       "      <th>name_customer</th>\n",
       "      <th>clear_date</th>\n",
       "      <th>buisness_year</th>\n",
       "      <th>doc_id</th>\n",
       "      <th>posting_date</th>\n",
       "      <th>document_create_date</th>\n",
       "      <th>document_create_date.1</th>\n",
       "      <th>due_in_date</th>\n",
       "      <th>invoice_currency</th>\n",
       "      <th>document type</th>\n",
       "      <th>posting_id</th>\n",
       "      <th>area_business</th>\n",
       "      <th>total_open_amount</th>\n",
       "      <th>baseline_create_date</th>\n",
       "      <th>cust_payment_terms</th>\n",
       "      <th>invoice_id</th>\n",
       "      <th>isOpen</th>\n",
       "    </tr>\n",
       "  </thead>\n",
       "  <tbody>\n",
       "    <tr>\n",
       "      <th>0</th>\n",
       "      <td>U001</td>\n",
       "      <td>0200769623</td>\n",
       "      <td>WAL-MAR corp</td>\n",
       "      <td>2020-02-11 00:00:00</td>\n",
       "      <td>2020.0</td>\n",
       "      <td>1.930438e+09</td>\n",
       "      <td>2020-01-26</td>\n",
       "      <td>20200125</td>\n",
       "      <td>20200126</td>\n",
       "      <td>20200210.0</td>\n",
       "      <td>USD</td>\n",
       "      <td>RV</td>\n",
       "      <td>1.0</td>\n",
       "      <td>NaN</td>\n",
       "      <td>54273.28</td>\n",
       "      <td>20200126.0</td>\n",
       "      <td>NAH4</td>\n",
       "      <td>1.930438e+09</td>\n",
       "      <td>0</td>\n",
       "    </tr>\n",
       "    <tr>\n",
       "      <th>1</th>\n",
       "      <td>U001</td>\n",
       "      <td>0200980828</td>\n",
       "      <td>BEN E</td>\n",
       "      <td>2019-08-08 00:00:00</td>\n",
       "      <td>2019.0</td>\n",
       "      <td>1.929646e+09</td>\n",
       "      <td>2019-07-22</td>\n",
       "      <td>20190722</td>\n",
       "      <td>20190722</td>\n",
       "      <td>20190811.0</td>\n",
       "      <td>USD</td>\n",
       "      <td>RV</td>\n",
       "      <td>1.0</td>\n",
       "      <td>NaN</td>\n",
       "      <td>79656.60</td>\n",
       "      <td>20190722.0</td>\n",
       "      <td>NAD1</td>\n",
       "      <td>1.929646e+09</td>\n",
       "      <td>0</td>\n",
       "    </tr>\n",
       "    <tr>\n",
       "      <th>2</th>\n",
       "      <td>U001</td>\n",
       "      <td>0200792734</td>\n",
       "      <td>MDV/ trust</td>\n",
       "      <td>2019-12-30 00:00:00</td>\n",
       "      <td>2019.0</td>\n",
       "      <td>1.929874e+09</td>\n",
       "      <td>2019-09-14</td>\n",
       "      <td>20190914</td>\n",
       "      <td>20190914</td>\n",
       "      <td>20190929.0</td>\n",
       "      <td>USD</td>\n",
       "      <td>RV</td>\n",
       "      <td>1.0</td>\n",
       "      <td>NaN</td>\n",
       "      <td>2253.86</td>\n",
       "      <td>20190914.0</td>\n",
       "      <td>NAA8</td>\n",
       "      <td>1.929874e+09</td>\n",
       "      <td>0</td>\n",
       "    </tr>\n",
       "    <tr>\n",
       "      <th>3</th>\n",
       "      <td>CA02</td>\n",
       "      <td>0140105686</td>\n",
       "      <td>SYSC llc</td>\n",
       "      <td>NaN</td>\n",
       "      <td>2020.0</td>\n",
       "      <td>2.960623e+09</td>\n",
       "      <td>2020-03-30</td>\n",
       "      <td>20200330</td>\n",
       "      <td>20200330</td>\n",
       "      <td>20200410.0</td>\n",
       "      <td>CAD</td>\n",
       "      <td>RV</td>\n",
       "      <td>1.0</td>\n",
       "      <td>NaN</td>\n",
       "      <td>3299.70</td>\n",
       "      <td>20200331.0</td>\n",
       "      <td>CA10</td>\n",
       "      <td>2.960623e+09</td>\n",
       "      <td>1</td>\n",
       "    </tr>\n",
       "    <tr>\n",
       "      <th>4</th>\n",
       "      <td>U001</td>\n",
       "      <td>0200769623</td>\n",
       "      <td>WAL-MAR foundation</td>\n",
       "      <td>2019-11-25 00:00:00</td>\n",
       "      <td>2019.0</td>\n",
       "      <td>1.930148e+09</td>\n",
       "      <td>2019-11-13</td>\n",
       "      <td>20191113</td>\n",
       "      <td>20191113</td>\n",
       "      <td>20191128.0</td>\n",
       "      <td>USD</td>\n",
       "      <td>RV</td>\n",
       "      <td>1.0</td>\n",
       "      <td>NaN</td>\n",
       "      <td>33133.29</td>\n",
       "      <td>20191113.0</td>\n",
       "      <td>NAH4</td>\n",
       "      <td>1.930148e+09</td>\n",
       "      <td>0</td>\n",
       "    </tr>\n",
       "    <tr>\n",
       "      <th>...</th>\n",
       "      <td>...</td>\n",
       "      <td>...</td>\n",
       "      <td>...</td>\n",
       "      <td>...</td>\n",
       "      <td>...</td>\n",
       "      <td>...</td>\n",
       "      <td>...</td>\n",
       "      <td>...</td>\n",
       "      <td>...</td>\n",
       "      <td>...</td>\n",
       "      <td>...</td>\n",
       "      <td>...</td>\n",
       "      <td>...</td>\n",
       "      <td>...</td>\n",
       "      <td>...</td>\n",
       "      <td>...</td>\n",
       "      <td>...</td>\n",
       "      <td>...</td>\n",
       "      <td>...</td>\n",
       "    </tr>\n",
       "    <tr>\n",
       "      <th>49995</th>\n",
       "      <td>U001</td>\n",
       "      <td>0200561861</td>\n",
       "      <td>CO corporation</td>\n",
       "      <td>NaN</td>\n",
       "      <td>2020.0</td>\n",
       "      <td>1.930797e+09</td>\n",
       "      <td>2020-04-21</td>\n",
       "      <td>20200417</td>\n",
       "      <td>20200421</td>\n",
       "      <td>20200506.0</td>\n",
       "      <td>USD</td>\n",
       "      <td>RV</td>\n",
       "      <td>1.0</td>\n",
       "      <td>NaN</td>\n",
       "      <td>3187.86</td>\n",
       "      <td>20200421.0</td>\n",
       "      <td>NAA8</td>\n",
       "      <td>1.930797e+09</td>\n",
       "      <td>1</td>\n",
       "    </tr>\n",
       "    <tr>\n",
       "      <th>49996</th>\n",
       "      <td>U001</td>\n",
       "      <td>0200769623</td>\n",
       "      <td>WAL-MAR co</td>\n",
       "      <td>2019-09-03 00:00:00</td>\n",
       "      <td>2019.0</td>\n",
       "      <td>1.929744e+09</td>\n",
       "      <td>2019-08-15</td>\n",
       "      <td>20190814</td>\n",
       "      <td>20190815</td>\n",
       "      <td>20190830.0</td>\n",
       "      <td>USD</td>\n",
       "      <td>RV</td>\n",
       "      <td>1.0</td>\n",
       "      <td>NaN</td>\n",
       "      <td>6766.54</td>\n",
       "      <td>20190815.0</td>\n",
       "      <td>NAH4</td>\n",
       "      <td>1.929744e+09</td>\n",
       "      <td>0</td>\n",
       "    </tr>\n",
       "    <tr>\n",
       "      <th>49997</th>\n",
       "      <td>U001</td>\n",
       "      <td>0200772595</td>\n",
       "      <td>SAFEW associates</td>\n",
       "      <td>2020-03-05 00:00:00</td>\n",
       "      <td>2020.0</td>\n",
       "      <td>1.930537e+09</td>\n",
       "      <td>2020-02-19</td>\n",
       "      <td>20200218</td>\n",
       "      <td>20200219</td>\n",
       "      <td>20200305.0</td>\n",
       "      <td>USD</td>\n",
       "      <td>RV</td>\n",
       "      <td>1.0</td>\n",
       "      <td>NaN</td>\n",
       "      <td>6120.86</td>\n",
       "      <td>20200219.0</td>\n",
       "      <td>NAA8</td>\n",
       "      <td>1.930537e+09</td>\n",
       "      <td>0</td>\n",
       "    </tr>\n",
       "    <tr>\n",
       "      <th>49998</th>\n",
       "      <td>U001</td>\n",
       "      <td>0200726979</td>\n",
       "      <td>BJ'S  llc</td>\n",
       "      <td>2019-12-12 00:00:00</td>\n",
       "      <td>2019.0</td>\n",
       "      <td>1.930199e+09</td>\n",
       "      <td>2019-11-27</td>\n",
       "      <td>20191126</td>\n",
       "      <td>20191127</td>\n",
       "      <td>20191212.0</td>\n",
       "      <td>USD</td>\n",
       "      <td>RV</td>\n",
       "      <td>1.0</td>\n",
       "      <td>NaN</td>\n",
       "      <td>63.48</td>\n",
       "      <td>20191127.0</td>\n",
       "      <td>NAA8</td>\n",
       "      <td>1.930199e+09</td>\n",
       "      <td>0</td>\n",
       "    </tr>\n",
       "    <tr>\n",
       "      <th>49999</th>\n",
       "      <td>U001</td>\n",
       "      <td>0200020431</td>\n",
       "      <td>DEC corp</td>\n",
       "      <td>2019-01-15 00:00:00</td>\n",
       "      <td>2019.0</td>\n",
       "      <td>1.928576e+09</td>\n",
       "      <td>2019-01-05</td>\n",
       "      <td>20190105</td>\n",
       "      <td>20190105</td>\n",
       "      <td>20190124.0</td>\n",
       "      <td>USD</td>\n",
       "      <td>RV</td>\n",
       "      <td>1.0</td>\n",
       "      <td>NaN</td>\n",
       "      <td>1790.30</td>\n",
       "      <td>20190101.0</td>\n",
       "      <td>NAM4</td>\n",
       "      <td>1.928576e+09</td>\n",
       "      <td>0</td>\n",
       "    </tr>\n",
       "  </tbody>\n",
       "</table>\n",
       "<p>50000 rows × 19 columns</p>\n",
       "</div>"
      ],
      "text/plain": [
       "      business_code cust_number       name_customer           clear_date  \\\n",
       "0              U001  0200769623        WAL-MAR corp  2020-02-11 00:00:00   \n",
       "1              U001  0200980828              BEN E   2019-08-08 00:00:00   \n",
       "2              U001  0200792734          MDV/ trust  2019-12-30 00:00:00   \n",
       "3              CA02  0140105686            SYSC llc                  NaN   \n",
       "4              U001  0200769623  WAL-MAR foundation  2019-11-25 00:00:00   \n",
       "...             ...         ...                 ...                  ...   \n",
       "49995          U001  0200561861      CO corporation                  NaN   \n",
       "49996          U001  0200769623          WAL-MAR co  2019-09-03 00:00:00   \n",
       "49997          U001  0200772595    SAFEW associates  2020-03-05 00:00:00   \n",
       "49998          U001  0200726979           BJ'S  llc  2019-12-12 00:00:00   \n",
       "49999          U001  0200020431            DEC corp  2019-01-15 00:00:00   \n",
       "\n",
       "       buisness_year        doc_id posting_date  document_create_date  \\\n",
       "0             2020.0  1.930438e+09   2020-01-26              20200125   \n",
       "1             2019.0  1.929646e+09   2019-07-22              20190722   \n",
       "2             2019.0  1.929874e+09   2019-09-14              20190914   \n",
       "3             2020.0  2.960623e+09   2020-03-30              20200330   \n",
       "4             2019.0  1.930148e+09   2019-11-13              20191113   \n",
       "...              ...           ...          ...                   ...   \n",
       "49995         2020.0  1.930797e+09   2020-04-21              20200417   \n",
       "49996         2019.0  1.929744e+09   2019-08-15              20190814   \n",
       "49997         2020.0  1.930537e+09   2020-02-19              20200218   \n",
       "49998         2019.0  1.930199e+09   2019-11-27              20191126   \n",
       "49999         2019.0  1.928576e+09   2019-01-05              20190105   \n",
       "\n",
       "       document_create_date.1  due_in_date invoice_currency document type  \\\n",
       "0                    20200126   20200210.0              USD            RV   \n",
       "1                    20190722   20190811.0              USD            RV   \n",
       "2                    20190914   20190929.0              USD            RV   \n",
       "3                    20200330   20200410.0              CAD            RV   \n",
       "4                    20191113   20191128.0              USD            RV   \n",
       "...                       ...          ...              ...           ...   \n",
       "49995                20200421   20200506.0              USD            RV   \n",
       "49996                20190815   20190830.0              USD            RV   \n",
       "49997                20200219   20200305.0              USD            RV   \n",
       "49998                20191127   20191212.0              USD            RV   \n",
       "49999                20190105   20190124.0              USD            RV   \n",
       "\n",
       "       posting_id  area_business  total_open_amount  baseline_create_date  \\\n",
       "0             1.0            NaN           54273.28            20200126.0   \n",
       "1             1.0            NaN           79656.60            20190722.0   \n",
       "2             1.0            NaN            2253.86            20190914.0   \n",
       "3             1.0            NaN            3299.70            20200331.0   \n",
       "4             1.0            NaN           33133.29            20191113.0   \n",
       "...           ...            ...                ...                   ...   \n",
       "49995         1.0            NaN            3187.86            20200421.0   \n",
       "49996         1.0            NaN            6766.54            20190815.0   \n",
       "49997         1.0            NaN            6120.86            20200219.0   \n",
       "49998         1.0            NaN              63.48            20191127.0   \n",
       "49999         1.0            NaN            1790.30            20190101.0   \n",
       "\n",
       "      cust_payment_terms    invoice_id  isOpen  \n",
       "0                   NAH4  1.930438e+09       0  \n",
       "1                   NAD1  1.929646e+09       0  \n",
       "2                   NAA8  1.929874e+09       0  \n",
       "3                   CA10  2.960623e+09       1  \n",
       "4                   NAH4  1.930148e+09       0  \n",
       "...                  ...           ...     ...  \n",
       "49995               NAA8  1.930797e+09       1  \n",
       "49996               NAH4  1.929744e+09       0  \n",
       "49997               NAA8  1.930537e+09       0  \n",
       "49998               NAA8  1.930199e+09       0  \n",
       "49999               NAM4  1.928576e+09       0  \n",
       "\n",
       "[50000 rows x 19 columns]"
      ]
     },
     "execution_count": 2,
     "metadata": {},
     "output_type": "execute_result"
    }
   ],
   "source": [
    "df = pd.read_csv(\"C:\\\\Users\\\\KIIT\\\\Desktop\\\\Internships\\\\HighRadius\\\\Dataset\\\\HRC60102WKdataset.csv\")\n",
    "df"
   ]
  },
  {
   "cell_type": "markdown",
   "id": "42e37f05",
   "metadata": {
    "id": "42e37f05"
   },
   "source": [
    "### Check the shape of the dataframe\n"
   ]
  },
  {
   "cell_type": "code",
   "execution_count": 3,
   "id": "27cc0907",
   "metadata": {
    "id": "27cc0907"
   },
   "outputs": [
    {
     "data": {
      "text/plain": [
       "(50000, 19)"
      ]
     },
     "execution_count": 3,
     "metadata": {},
     "output_type": "execute_result"
    }
   ],
   "source": [
    "df.shape"
   ]
  },
  {
   "cell_type": "markdown",
   "id": "b68c955d",
   "metadata": {
    "id": "b68c955d"
   },
   "source": [
    "### Check the Detail information of the dataframe"
   ]
  },
  {
   "cell_type": "code",
   "execution_count": 4,
   "id": "e092ec9e",
   "metadata": {
    "id": "e092ec9e"
   },
   "outputs": [
    {
     "name": "stdout",
     "output_type": "stream",
     "text": [
      "<class 'pandas.core.frame.DataFrame'>\n",
      "RangeIndex: 50000 entries, 0 to 49999\n",
      "Data columns (total 19 columns):\n",
      " #   Column                  Non-Null Count  Dtype  \n",
      "---  ------                  --------------  -----  \n",
      " 0   business_code           50000 non-null  object \n",
      " 1   cust_number             50000 non-null  object \n",
      " 2   name_customer           50000 non-null  object \n",
      " 3   clear_date              40000 non-null  object \n",
      " 4   buisness_year           50000 non-null  float64\n",
      " 5   doc_id                  50000 non-null  float64\n",
      " 6   posting_date            50000 non-null  object \n",
      " 7   document_create_date    50000 non-null  int64  \n",
      " 8   document_create_date.1  50000 non-null  int64  \n",
      " 9   due_in_date             50000 non-null  float64\n",
      " 10  invoice_currency        50000 non-null  object \n",
      " 11  document type           50000 non-null  object \n",
      " 12  posting_id              50000 non-null  float64\n",
      " 13  area_business           0 non-null      float64\n",
      " 14  total_open_amount       50000 non-null  float64\n",
      " 15  baseline_create_date    50000 non-null  float64\n",
      " 16  cust_payment_terms      50000 non-null  object \n",
      " 17  invoice_id              49994 non-null  float64\n",
      " 18  isOpen                  50000 non-null  int64  \n",
      "dtypes: float64(8), int64(3), object(8)\n",
      "memory usage: 7.2+ MB\n"
     ]
    }
   ],
   "source": [
    "df.info()"
   ]
  },
  {
   "cell_type": "markdown",
   "id": "112f2d0e",
   "metadata": {
    "id": "112f2d0e"
   },
   "source": [
    "### Display All the column names"
   ]
  },
  {
   "cell_type": "code",
   "execution_count": 5,
   "id": "1416e2fd",
   "metadata": {
    "id": "1416e2fd"
   },
   "outputs": [
    {
     "data": {
      "text/plain": [
       "Index(['business_code', 'cust_number', 'name_customer', 'clear_date',\n",
       "       'buisness_year', 'doc_id', 'posting_date', 'document_create_date',\n",
       "       'document_create_date.1', 'due_in_date', 'invoice_currency',\n",
       "       'document type', 'posting_id', 'area_business', 'total_open_amount',\n",
       "       'baseline_create_date', 'cust_payment_terms', 'invoice_id', 'isOpen'],\n",
       "      dtype='object')"
      ]
     },
     "execution_count": 5,
     "metadata": {},
     "output_type": "execute_result"
    }
   ],
   "source": [
    "df.columns"
   ]
  },
  {
   "cell_type": "markdown",
   "id": "d465ed7a",
   "metadata": {
    "id": "d465ed7a"
   },
   "source": [
    "### Describe the entire dataset"
   ]
  },
  {
   "cell_type": "code",
   "execution_count": 6,
   "id": "25f65e1b",
   "metadata": {
    "id": "25f65e1b"
   },
   "outputs": [
    {
     "data": {
      "text/html": [
       "<div>\n",
       "<style scoped>\n",
       "    .dataframe tbody tr th:only-of-type {\n",
       "        vertical-align: middle;\n",
       "    }\n",
       "\n",
       "    .dataframe tbody tr th {\n",
       "        vertical-align: top;\n",
       "    }\n",
       "\n",
       "    .dataframe thead th {\n",
       "        text-align: right;\n",
       "    }\n",
       "</style>\n",
       "<table border=\"1\" class=\"dataframe\">\n",
       "  <thead>\n",
       "    <tr style=\"text-align: right;\">\n",
       "      <th></th>\n",
       "      <th>buisness_year</th>\n",
       "      <th>doc_id</th>\n",
       "      <th>document_create_date</th>\n",
       "      <th>document_create_date.1</th>\n",
       "      <th>due_in_date</th>\n",
       "      <th>posting_id</th>\n",
       "      <th>area_business</th>\n",
       "      <th>total_open_amount</th>\n",
       "      <th>baseline_create_date</th>\n",
       "      <th>invoice_id</th>\n",
       "      <th>isOpen</th>\n",
       "    </tr>\n",
       "  </thead>\n",
       "  <tbody>\n",
       "    <tr>\n",
       "      <th>count</th>\n",
       "      <td>50000.000000</td>\n",
       "      <td>5.000000e+04</td>\n",
       "      <td>5.000000e+04</td>\n",
       "      <td>5.000000e+04</td>\n",
       "      <td>5.000000e+04</td>\n",
       "      <td>50000.0</td>\n",
       "      <td>0.0</td>\n",
       "      <td>50000.000000</td>\n",
       "      <td>5.000000e+04</td>\n",
       "      <td>4.999400e+04</td>\n",
       "      <td>50000.000000</td>\n",
       "    </tr>\n",
       "    <tr>\n",
       "      <th>mean</th>\n",
       "      <td>2019.305700</td>\n",
       "      <td>2.012238e+09</td>\n",
       "      <td>2.019351e+07</td>\n",
       "      <td>2.019354e+07</td>\n",
       "      <td>2.019368e+07</td>\n",
       "      <td>1.0</td>\n",
       "      <td>NaN</td>\n",
       "      <td>32337.021651</td>\n",
       "      <td>2.019354e+07</td>\n",
       "      <td>2.011340e+09</td>\n",
       "      <td>0.200000</td>\n",
       "    </tr>\n",
       "    <tr>\n",
       "      <th>std</th>\n",
       "      <td>0.460708</td>\n",
       "      <td>2.885235e+08</td>\n",
       "      <td>4.496041e+03</td>\n",
       "      <td>4.482134e+03</td>\n",
       "      <td>4.470614e+03</td>\n",
       "      <td>0.0</td>\n",
       "      <td>NaN</td>\n",
       "      <td>39205.975231</td>\n",
       "      <td>4.482701e+03</td>\n",
       "      <td>2.766335e+08</td>\n",
       "      <td>0.400004</td>\n",
       "    </tr>\n",
       "    <tr>\n",
       "      <th>min</th>\n",
       "      <td>2019.000000</td>\n",
       "      <td>1.928502e+09</td>\n",
       "      <td>2.018123e+07</td>\n",
       "      <td>2.018123e+07</td>\n",
       "      <td>2.018122e+07</td>\n",
       "      <td>1.0</td>\n",
       "      <td>NaN</td>\n",
       "      <td>0.720000</td>\n",
       "      <td>2.018121e+07</td>\n",
       "      <td>1.928502e+09</td>\n",
       "      <td>0.000000</td>\n",
       "    </tr>\n",
       "    <tr>\n",
       "      <th>25%</th>\n",
       "      <td>2019.000000</td>\n",
       "      <td>1.929342e+09</td>\n",
       "      <td>2.019050e+07</td>\n",
       "      <td>2.019051e+07</td>\n",
       "      <td>2.019052e+07</td>\n",
       "      <td>1.0</td>\n",
       "      <td>NaN</td>\n",
       "      <td>4928.312500</td>\n",
       "      <td>2.019050e+07</td>\n",
       "      <td>1.929342e+09</td>\n",
       "      <td>0.000000</td>\n",
       "    </tr>\n",
       "    <tr>\n",
       "      <th>50%</th>\n",
       "      <td>2019.000000</td>\n",
       "      <td>1.929964e+09</td>\n",
       "      <td>2.019091e+07</td>\n",
       "      <td>2.019091e+07</td>\n",
       "      <td>2.019093e+07</td>\n",
       "      <td>1.0</td>\n",
       "      <td>NaN</td>\n",
       "      <td>17609.010000</td>\n",
       "      <td>2.019091e+07</td>\n",
       "      <td>1.929964e+09</td>\n",
       "      <td>0.000000</td>\n",
       "    </tr>\n",
       "    <tr>\n",
       "      <th>75%</th>\n",
       "      <td>2020.000000</td>\n",
       "      <td>1.930619e+09</td>\n",
       "      <td>2.020013e+07</td>\n",
       "      <td>2.020013e+07</td>\n",
       "      <td>2.020022e+07</td>\n",
       "      <td>1.0</td>\n",
       "      <td>NaN</td>\n",
       "      <td>47133.635000</td>\n",
       "      <td>2.020013e+07</td>\n",
       "      <td>1.930619e+09</td>\n",
       "      <td>0.000000</td>\n",
       "    </tr>\n",
       "    <tr>\n",
       "      <th>max</th>\n",
       "      <td>2020.000000</td>\n",
       "      <td>9.500000e+09</td>\n",
       "      <td>2.020052e+07</td>\n",
       "      <td>2.020052e+07</td>\n",
       "      <td>2.020071e+07</td>\n",
       "      <td>1.0</td>\n",
       "      <td>NaN</td>\n",
       "      <td>668593.360000</td>\n",
       "      <td>2.020052e+07</td>\n",
       "      <td>2.960636e+09</td>\n",
       "      <td>1.000000</td>\n",
       "    </tr>\n",
       "  </tbody>\n",
       "</table>\n",
       "</div>"
      ],
      "text/plain": [
       "       buisness_year        doc_id  document_create_date  \\\n",
       "count   50000.000000  5.000000e+04          5.000000e+04   \n",
       "mean     2019.305700  2.012238e+09          2.019351e+07   \n",
       "std         0.460708  2.885235e+08          4.496041e+03   \n",
       "min      2019.000000  1.928502e+09          2.018123e+07   \n",
       "25%      2019.000000  1.929342e+09          2.019050e+07   \n",
       "50%      2019.000000  1.929964e+09          2.019091e+07   \n",
       "75%      2020.000000  1.930619e+09          2.020013e+07   \n",
       "max      2020.000000  9.500000e+09          2.020052e+07   \n",
       "\n",
       "       document_create_date.1   due_in_date  posting_id  area_business  \\\n",
       "count            5.000000e+04  5.000000e+04     50000.0            0.0   \n",
       "mean             2.019354e+07  2.019368e+07         1.0            NaN   \n",
       "std              4.482134e+03  4.470614e+03         0.0            NaN   \n",
       "min              2.018123e+07  2.018122e+07         1.0            NaN   \n",
       "25%              2.019051e+07  2.019052e+07         1.0            NaN   \n",
       "50%              2.019091e+07  2.019093e+07         1.0            NaN   \n",
       "75%              2.020013e+07  2.020022e+07         1.0            NaN   \n",
       "max              2.020052e+07  2.020071e+07         1.0            NaN   \n",
       "\n",
       "       total_open_amount  baseline_create_date    invoice_id        isOpen  \n",
       "count       50000.000000          5.000000e+04  4.999400e+04  50000.000000  \n",
       "mean        32337.021651          2.019354e+07  2.011340e+09      0.200000  \n",
       "std         39205.975231          4.482701e+03  2.766335e+08      0.400004  \n",
       "min             0.720000          2.018121e+07  1.928502e+09      0.000000  \n",
       "25%          4928.312500          2.019050e+07  1.929342e+09      0.000000  \n",
       "50%         17609.010000          2.019091e+07  1.929964e+09      0.000000  \n",
       "75%         47133.635000          2.020013e+07  1.930619e+09      0.000000  \n",
       "max        668593.360000          2.020052e+07  2.960636e+09      1.000000  "
      ]
     },
     "execution_count": 6,
     "metadata": {},
     "output_type": "execute_result"
    }
   ],
   "source": [
    "df.describe()"
   ]
  },
  {
   "cell_type": "markdown",
   "id": "0f2c8d02",
   "metadata": {
    "id": "0f2c8d02"
   },
   "source": [
    "# Data Cleaning\n",
    "\n",
    "- Show top 5 records from the dataset"
   ]
  },
  {
   "cell_type": "code",
   "execution_count": 7,
   "id": "8f876212",
   "metadata": {
    "id": "8f876212"
   },
   "outputs": [
    {
     "data": {
      "text/html": [
       "<div>\n",
       "<style scoped>\n",
       "    .dataframe tbody tr th:only-of-type {\n",
       "        vertical-align: middle;\n",
       "    }\n",
       "\n",
       "    .dataframe tbody tr th {\n",
       "        vertical-align: top;\n",
       "    }\n",
       "\n",
       "    .dataframe thead th {\n",
       "        text-align: right;\n",
       "    }\n",
       "</style>\n",
       "<table border=\"1\" class=\"dataframe\">\n",
       "  <thead>\n",
       "    <tr style=\"text-align: right;\">\n",
       "      <th></th>\n",
       "      <th>business_code</th>\n",
       "      <th>cust_number</th>\n",
       "      <th>name_customer</th>\n",
       "      <th>clear_date</th>\n",
       "      <th>buisness_year</th>\n",
       "      <th>doc_id</th>\n",
       "      <th>posting_date</th>\n",
       "      <th>document_create_date</th>\n",
       "      <th>document_create_date.1</th>\n",
       "      <th>due_in_date</th>\n",
       "      <th>invoice_currency</th>\n",
       "      <th>document type</th>\n",
       "      <th>posting_id</th>\n",
       "      <th>area_business</th>\n",
       "      <th>total_open_amount</th>\n",
       "      <th>baseline_create_date</th>\n",
       "      <th>cust_payment_terms</th>\n",
       "      <th>invoice_id</th>\n",
       "      <th>isOpen</th>\n",
       "    </tr>\n",
       "  </thead>\n",
       "  <tbody>\n",
       "    <tr>\n",
       "      <th>0</th>\n",
       "      <td>U001</td>\n",
       "      <td>0200769623</td>\n",
       "      <td>WAL-MAR corp</td>\n",
       "      <td>2020-02-11 00:00:00</td>\n",
       "      <td>2020.0</td>\n",
       "      <td>1.930438e+09</td>\n",
       "      <td>2020-01-26</td>\n",
       "      <td>20200125</td>\n",
       "      <td>20200126</td>\n",
       "      <td>20200210.0</td>\n",
       "      <td>USD</td>\n",
       "      <td>RV</td>\n",
       "      <td>1.0</td>\n",
       "      <td>NaN</td>\n",
       "      <td>54273.28</td>\n",
       "      <td>20200126.0</td>\n",
       "      <td>NAH4</td>\n",
       "      <td>1.930438e+09</td>\n",
       "      <td>0</td>\n",
       "    </tr>\n",
       "    <tr>\n",
       "      <th>1</th>\n",
       "      <td>U001</td>\n",
       "      <td>0200980828</td>\n",
       "      <td>BEN E</td>\n",
       "      <td>2019-08-08 00:00:00</td>\n",
       "      <td>2019.0</td>\n",
       "      <td>1.929646e+09</td>\n",
       "      <td>2019-07-22</td>\n",
       "      <td>20190722</td>\n",
       "      <td>20190722</td>\n",
       "      <td>20190811.0</td>\n",
       "      <td>USD</td>\n",
       "      <td>RV</td>\n",
       "      <td>1.0</td>\n",
       "      <td>NaN</td>\n",
       "      <td>79656.60</td>\n",
       "      <td>20190722.0</td>\n",
       "      <td>NAD1</td>\n",
       "      <td>1.929646e+09</td>\n",
       "      <td>0</td>\n",
       "    </tr>\n",
       "    <tr>\n",
       "      <th>2</th>\n",
       "      <td>U001</td>\n",
       "      <td>0200792734</td>\n",
       "      <td>MDV/ trust</td>\n",
       "      <td>2019-12-30 00:00:00</td>\n",
       "      <td>2019.0</td>\n",
       "      <td>1.929874e+09</td>\n",
       "      <td>2019-09-14</td>\n",
       "      <td>20190914</td>\n",
       "      <td>20190914</td>\n",
       "      <td>20190929.0</td>\n",
       "      <td>USD</td>\n",
       "      <td>RV</td>\n",
       "      <td>1.0</td>\n",
       "      <td>NaN</td>\n",
       "      <td>2253.86</td>\n",
       "      <td>20190914.0</td>\n",
       "      <td>NAA8</td>\n",
       "      <td>1.929874e+09</td>\n",
       "      <td>0</td>\n",
       "    </tr>\n",
       "    <tr>\n",
       "      <th>3</th>\n",
       "      <td>CA02</td>\n",
       "      <td>0140105686</td>\n",
       "      <td>SYSC llc</td>\n",
       "      <td>NaN</td>\n",
       "      <td>2020.0</td>\n",
       "      <td>2.960623e+09</td>\n",
       "      <td>2020-03-30</td>\n",
       "      <td>20200330</td>\n",
       "      <td>20200330</td>\n",
       "      <td>20200410.0</td>\n",
       "      <td>CAD</td>\n",
       "      <td>RV</td>\n",
       "      <td>1.0</td>\n",
       "      <td>NaN</td>\n",
       "      <td>3299.70</td>\n",
       "      <td>20200331.0</td>\n",
       "      <td>CA10</td>\n",
       "      <td>2.960623e+09</td>\n",
       "      <td>1</td>\n",
       "    </tr>\n",
       "    <tr>\n",
       "      <th>4</th>\n",
       "      <td>U001</td>\n",
       "      <td>0200769623</td>\n",
       "      <td>WAL-MAR foundation</td>\n",
       "      <td>2019-11-25 00:00:00</td>\n",
       "      <td>2019.0</td>\n",
       "      <td>1.930148e+09</td>\n",
       "      <td>2019-11-13</td>\n",
       "      <td>20191113</td>\n",
       "      <td>20191113</td>\n",
       "      <td>20191128.0</td>\n",
       "      <td>USD</td>\n",
       "      <td>RV</td>\n",
       "      <td>1.0</td>\n",
       "      <td>NaN</td>\n",
       "      <td>33133.29</td>\n",
       "      <td>20191113.0</td>\n",
       "      <td>NAH4</td>\n",
       "      <td>1.930148e+09</td>\n",
       "      <td>0</td>\n",
       "    </tr>\n",
       "  </tbody>\n",
       "</table>\n",
       "</div>"
      ],
      "text/plain": [
       "  business_code cust_number       name_customer           clear_date  \\\n",
       "0          U001  0200769623        WAL-MAR corp  2020-02-11 00:00:00   \n",
       "1          U001  0200980828              BEN E   2019-08-08 00:00:00   \n",
       "2          U001  0200792734          MDV/ trust  2019-12-30 00:00:00   \n",
       "3          CA02  0140105686            SYSC llc                  NaN   \n",
       "4          U001  0200769623  WAL-MAR foundation  2019-11-25 00:00:00   \n",
       "\n",
       "   buisness_year        doc_id posting_date  document_create_date  \\\n",
       "0         2020.0  1.930438e+09   2020-01-26              20200125   \n",
       "1         2019.0  1.929646e+09   2019-07-22              20190722   \n",
       "2         2019.0  1.929874e+09   2019-09-14              20190914   \n",
       "3         2020.0  2.960623e+09   2020-03-30              20200330   \n",
       "4         2019.0  1.930148e+09   2019-11-13              20191113   \n",
       "\n",
       "   document_create_date.1  due_in_date invoice_currency document type  \\\n",
       "0                20200126   20200210.0              USD            RV   \n",
       "1                20190722   20190811.0              USD            RV   \n",
       "2                20190914   20190929.0              USD            RV   \n",
       "3                20200330   20200410.0              CAD            RV   \n",
       "4                20191113   20191128.0              USD            RV   \n",
       "\n",
       "   posting_id  area_business  total_open_amount  baseline_create_date  \\\n",
       "0         1.0            NaN           54273.28            20200126.0   \n",
       "1         1.0            NaN           79656.60            20190722.0   \n",
       "2         1.0            NaN            2253.86            20190914.0   \n",
       "3         1.0            NaN            3299.70            20200331.0   \n",
       "4         1.0            NaN           33133.29            20191113.0   \n",
       "\n",
       "  cust_payment_terms    invoice_id  isOpen  \n",
       "0               NAH4  1.930438e+09       0  \n",
       "1               NAD1  1.929646e+09       0  \n",
       "2               NAA8  1.929874e+09       0  \n",
       "3               CA10  2.960623e+09       1  \n",
       "4               NAH4  1.930148e+09       0  "
      ]
     },
     "execution_count": 7,
     "metadata": {},
     "output_type": "execute_result"
    }
   ],
   "source": [
    "df.head(5)"
   ]
  },
  {
   "cell_type": "markdown",
   "id": "92b044e4",
   "metadata": {
    "id": "92b044e4"
   },
   "source": [
    "### Display the Null values percentage against every columns (compare to the total number of records)\n",
    "\n",
    "- Output expected : area_business - 100% null, clear_data = 20% null, invoice_id = 0.12% null"
   ]
  },
  {
   "cell_type": "code",
   "execution_count": 8,
   "id": "24c7b13d",
   "metadata": {
    "id": "24c7b13d"
   },
   "outputs": [
    {
     "data": {
      "text/plain": [
       "business_code               0.000\n",
       "cust_number                 0.000\n",
       "name_customer               0.000\n",
       "clear_date                 20.000\n",
       "buisness_year               0.000\n",
       "doc_id                      0.000\n",
       "posting_date                0.000\n",
       "document_create_date        0.000\n",
       "document_create_date.1      0.000\n",
       "due_in_date                 0.000\n",
       "invoice_currency            0.000\n",
       "document type               0.000\n",
       "posting_id                  0.000\n",
       "area_business             100.000\n",
       "total_open_amount           0.000\n",
       "baseline_create_date        0.000\n",
       "cust_payment_terms          0.000\n",
       "invoice_id                  0.012\n",
       "isOpen                      0.000\n",
       "dtype: float64"
      ]
     },
     "execution_count": 8,
     "metadata": {},
     "output_type": "execute_result"
    }
   ],
   "source": [
    "(df.isnull().sum()*100)/50000"
   ]
  },
  {
   "cell_type": "markdown",
   "id": "2c46a98b",
   "metadata": {
    "id": "2c46a98b"
   },
   "source": [
    "### Display Invoice_id and Doc_Id\n",
    "\n",
    "- Note - Many of the would have same invoice_id and doc_id\n"
   ]
  },
  {
   "cell_type": "code",
   "execution_count": 9,
   "id": "038f24bb",
   "metadata": {
    "id": "038f24bb"
   },
   "outputs": [
    {
     "data": {
      "text/html": [
       "<div>\n",
       "<style scoped>\n",
       "    .dataframe tbody tr th:only-of-type {\n",
       "        vertical-align: middle;\n",
       "    }\n",
       "\n",
       "    .dataframe tbody tr th {\n",
       "        vertical-align: top;\n",
       "    }\n",
       "\n",
       "    .dataframe thead th {\n",
       "        text-align: right;\n",
       "    }\n",
       "</style>\n",
       "<table border=\"1\" class=\"dataframe\">\n",
       "  <thead>\n",
       "    <tr style=\"text-align: right;\">\n",
       "      <th></th>\n",
       "      <th>invoice_id</th>\n",
       "      <th>doc_id</th>\n",
       "    </tr>\n",
       "  </thead>\n",
       "  <tbody>\n",
       "    <tr>\n",
       "      <th>0</th>\n",
       "      <td>1.930438e+09</td>\n",
       "      <td>1.930438e+09</td>\n",
       "    </tr>\n",
       "    <tr>\n",
       "      <th>1</th>\n",
       "      <td>1.929646e+09</td>\n",
       "      <td>1.929646e+09</td>\n",
       "    </tr>\n",
       "    <tr>\n",
       "      <th>2</th>\n",
       "      <td>1.929874e+09</td>\n",
       "      <td>1.929874e+09</td>\n",
       "    </tr>\n",
       "    <tr>\n",
       "      <th>3</th>\n",
       "      <td>2.960623e+09</td>\n",
       "      <td>2.960623e+09</td>\n",
       "    </tr>\n",
       "    <tr>\n",
       "      <th>4</th>\n",
       "      <td>1.930148e+09</td>\n",
       "      <td>1.930148e+09</td>\n",
       "    </tr>\n",
       "  </tbody>\n",
       "</table>\n",
       "</div>"
      ],
      "text/plain": [
       "     invoice_id        doc_id\n",
       "0  1.930438e+09  1.930438e+09\n",
       "1  1.929646e+09  1.929646e+09\n",
       "2  1.929874e+09  1.929874e+09\n",
       "3  2.960623e+09  2.960623e+09\n",
       "4  1.930148e+09  1.930148e+09"
      ]
     },
     "execution_count": 9,
     "metadata": {},
     "output_type": "execute_result"
    }
   ],
   "source": [
    "df.loc[0:4,['invoice_id','doc_id']]"
   ]
  },
  {
   "cell_type": "markdown",
   "id": "18cfe10a",
   "metadata": {
    "id": "18cfe10a"
   },
   "source": [
    "#### Write a code to check - 'baseline_create_date',\"document_create_date\",'document_create_date.1' - these columns are almost same.\n",
    "\n",
    "- Please note, if they are same, we need to drop them later\n",
    "\n"
   ]
  },
  {
   "cell_type": "markdown",
   "id": "e511a7f9",
   "metadata": {},
   "source": [
    "## Check here"
   ]
  },
  {
   "cell_type": "code",
   "execution_count": 10,
   "id": "cfddb5ed",
   "metadata": {
    "scrolled": true
   },
   "outputs": [
    {
     "data": {
      "text/html": [
       "<div>\n",
       "<style scoped>\n",
       "    .dataframe tbody tr th:only-of-type {\n",
       "        vertical-align: middle;\n",
       "    }\n",
       "\n",
       "    .dataframe tbody tr th {\n",
       "        vertical-align: top;\n",
       "    }\n",
       "\n",
       "    .dataframe thead th {\n",
       "        text-align: right;\n",
       "    }\n",
       "</style>\n",
       "<table border=\"1\" class=\"dataframe\">\n",
       "  <thead>\n",
       "    <tr style=\"text-align: right;\">\n",
       "      <th></th>\n",
       "      <th>baseline_create_date</th>\n",
       "      <th>document_create_date</th>\n",
       "      <th>document_create_date.1</th>\n",
       "    </tr>\n",
       "  </thead>\n",
       "  <tbody>\n",
       "    <tr>\n",
       "      <th>baseline_create_date</th>\n",
       "      <td>1.000000</td>\n",
       "      <td>0.994078</td>\n",
       "      <td>0.999527</td>\n",
       "    </tr>\n",
       "    <tr>\n",
       "      <th>document_create_date</th>\n",
       "      <td>0.994078</td>\n",
       "      <td>1.000000</td>\n",
       "      <td>0.994547</td>\n",
       "    </tr>\n",
       "    <tr>\n",
       "      <th>document_create_date.1</th>\n",
       "      <td>0.999527</td>\n",
       "      <td>0.994547</td>\n",
       "      <td>1.000000</td>\n",
       "    </tr>\n",
       "  </tbody>\n",
       "</table>\n",
       "</div>"
      ],
      "text/plain": [
       "                        baseline_create_date  document_create_date  \\\n",
       "baseline_create_date                1.000000              0.994078   \n",
       "document_create_date                0.994078              1.000000   \n",
       "document_create_date.1              0.999527              0.994547   \n",
       "\n",
       "                        document_create_date.1  \n",
       "baseline_create_date                  0.999527  \n",
       "document_create_date                  0.994547  \n",
       "document_create_date.1                1.000000  "
      ]
     },
     "execution_count": 10,
     "metadata": {},
     "output_type": "execute_result"
    }
   ],
   "source": [
    "df[[\"baseline_create_date\",\"document_create_date\",\"document_create_date.1\"]].corr()"
   ]
  },
  {
   "cell_type": "code",
   "execution_count": 11,
   "id": "cf5b40ff",
   "metadata": {
    "id": "cf5b40ff",
    "scrolled": false
   },
   "outputs": [
    {
     "data": {
      "text/html": [
       "<div>\n",
       "<style scoped>\n",
       "    .dataframe tbody tr th:only-of-type {\n",
       "        vertical-align: middle;\n",
       "    }\n",
       "\n",
       "    .dataframe tbody tr th {\n",
       "        vertical-align: top;\n",
       "    }\n",
       "\n",
       "    .dataframe thead th {\n",
       "        text-align: right;\n",
       "    }\n",
       "</style>\n",
       "<table border=\"1\" class=\"dataframe\">\n",
       "  <thead>\n",
       "    <tr style=\"text-align: right;\">\n",
       "      <th></th>\n",
       "      <th>document_create_date.1</th>\n",
       "      <th>document_create_date</th>\n",
       "      <th>baseline_create_date</th>\n",
       "    </tr>\n",
       "  </thead>\n",
       "  <tbody>\n",
       "    <tr>\n",
       "      <th>0</th>\n",
       "      <td>2020-01-26</td>\n",
       "      <td>2020-01-25</td>\n",
       "      <td>2020-01-26</td>\n",
       "    </tr>\n",
       "    <tr>\n",
       "      <th>1</th>\n",
       "      <td>2019-07-22</td>\n",
       "      <td>2019-07-22</td>\n",
       "      <td>2019-07-22</td>\n",
       "    </tr>\n",
       "    <tr>\n",
       "      <th>2</th>\n",
       "      <td>2019-09-14</td>\n",
       "      <td>2019-09-14</td>\n",
       "      <td>2019-09-14</td>\n",
       "    </tr>\n",
       "    <tr>\n",
       "      <th>3</th>\n",
       "      <td>2020-03-30</td>\n",
       "      <td>2020-03-30</td>\n",
       "      <td>2020-03-31</td>\n",
       "    </tr>\n",
       "    <tr>\n",
       "      <th>4</th>\n",
       "      <td>2019-11-13</td>\n",
       "      <td>2019-11-13</td>\n",
       "      <td>2019-11-13</td>\n",
       "    </tr>\n",
       "    <tr>\n",
       "      <th>5</th>\n",
       "      <td>2019-09-20</td>\n",
       "      <td>2019-09-20</td>\n",
       "      <td>2019-09-24</td>\n",
       "    </tr>\n",
       "    <tr>\n",
       "      <th>6</th>\n",
       "      <td>2019-11-01</td>\n",
       "      <td>2019-10-31</td>\n",
       "      <td>2019-11-01</td>\n",
       "    </tr>\n",
       "    <tr>\n",
       "      <th>7</th>\n",
       "      <td>2020-03-19</td>\n",
       "      <td>2020-03-18</td>\n",
       "      <td>2020-03-19</td>\n",
       "    </tr>\n",
       "    <tr>\n",
       "      <th>8</th>\n",
       "      <td>2019-06-07</td>\n",
       "      <td>2019-06-05</td>\n",
       "      <td>2019-06-07</td>\n",
       "    </tr>\n",
       "  </tbody>\n",
       "</table>\n",
       "</div>"
      ],
      "text/plain": [
       "  document_create_date.1 document_create_date baseline_create_date\n",
       "0             2020-01-26           2020-01-25           2020-01-26\n",
       "1             2019-07-22           2019-07-22           2019-07-22\n",
       "2             2019-09-14           2019-09-14           2019-09-14\n",
       "3             2020-03-30           2020-03-30           2020-03-31\n",
       "4             2019-11-13           2019-11-13           2019-11-13\n",
       "5             2019-09-20           2019-09-20           2019-09-24\n",
       "6             2019-11-01           2019-10-31           2019-11-01\n",
       "7             2020-03-19           2020-03-18           2020-03-19\n",
       "8             2019-06-07           2019-06-05           2019-06-07"
      ]
     },
     "execution_count": 11,
     "metadata": {},
     "output_type": "execute_result"
    }
   ],
   "source": [
    "df['document_create_date.1']=pd.to_datetime(df['document_create_date.1'],format='%Y%m%d')\n",
    "df['baseline_create_date']=pd.to_datetime(df['baseline_create_date'],format='%Y%m%d')\n",
    "df['document_create_date']=pd.to_datetime(df['document_create_date'],format='%Y%m%d')\n",
    "df.loc[0:8,['document_create_date.1','document_create_date','baseline_create_date']]"
   ]
  },
  {
   "cell_type": "markdown",
   "id": "24528ea4",
   "metadata": {},
   "source": [
    "We can see these are very similar to each other, in all the columns few dates are very same.we need to drop two of them later, just to ignore the discripencies. "
   ]
  },
  {
   "cell_type": "markdown",
   "id": "33110576",
   "metadata": {
    "id": "33110576"
   },
   "source": [
    "#### Please check, Column 'posting_id' is constant columns or not\n"
   ]
  },
  {
   "cell_type": "markdown",
   "id": "e5fb8daf",
   "metadata": {
    "id": "e5fb8daf"
   },
   "source": [
    "#### Please check 'isOpen' is a constant column and relevant column for this project or not"
   ]
  },
  {
   "cell_type": "code",
   "execution_count": 12,
   "id": "8db9956b",
   "metadata": {
    "id": "8db9956b"
   },
   "outputs": [
    {
     "name": "stdout",
     "output_type": "stream",
     "text": [
      "business_code - 6\n",
      "cust_number - 1425\n",
      "name_customer - 4197\n",
      "clear_date - 403\n",
      "buisness_year - 2\n",
      "doc_id - 48839\n",
      "posting_date - 506\n",
      "document_create_date - 507\n",
      "document_create_date.1 - 506\n",
      "due_in_date - 547\n",
      "invoice_currency - 2\n",
      "document type - 2\n",
      "posting_id - 1\n",
      "area_business - 0\n",
      "total_open_amount - 44349\n",
      "baseline_create_date - 506\n",
      "cust_payment_terms - 74\n",
      "invoice_id - 48833\n",
      "isOpen - 2\n"
     ]
    }
   ],
   "source": [
    "for cols in df.columns:   \n",
    "    print(f\"{cols} - {df[f'{cols}'].nunique()}\")"
   ]
  },
  {
   "cell_type": "markdown",
   "id": "71098aa1",
   "metadata": {},
   "source": [
    "Here we can see that there are only 1 unique value in the posting Id and IsOpen has only 2 unique values, looking at these unique values we need to drop "
   ]
  },
  {
   "cell_type": "markdown",
   "id": "45a11a62",
   "metadata": {
    "id": "45a11a62"
   },
   "source": [
    "### Write the code to drop all the following columns from the dataframe \n",
    "\n",
    "- 'area_business'\n",
    "- \"posting_id\"\n",
    "- \"invoice_id\"\n",
    "- \"document_create_date\"\n",
    "- \"isOpen\"\n",
    "- 'document type' \n",
    "- 'document_create_date.1"
   ]
  },
  {
   "cell_type": "code",
   "execution_count": 13,
   "id": "270d85d1",
   "metadata": {
    "id": "270d85d1"
   },
   "outputs": [],
   "source": [
    "df = df.drop(['area_business', 'posting_id', 'invoice_id', 'document_create_date', 'isOpen', 'document type', 'document_create_date.1'], axis = 1)"
   ]
  },
  {
   "cell_type": "markdown",
   "id": "K5LHAM2XVGnk",
   "metadata": {
    "id": "K5LHAM2XVGnk"
   },
   "source": [
    "### Please check from the dataframe whether all the columns are removed or not "
   ]
  },
  {
   "cell_type": "code",
   "execution_count": 14,
   "id": "ef3f7d2b",
   "metadata": {
    "id": "ef3f7d2b",
    "scrolled": false
   },
   "outputs": [
    {
     "data": {
      "text/html": [
       "<div>\n",
       "<style scoped>\n",
       "    .dataframe tbody tr th:only-of-type {\n",
       "        vertical-align: middle;\n",
       "    }\n",
       "\n",
       "    .dataframe tbody tr th {\n",
       "        vertical-align: top;\n",
       "    }\n",
       "\n",
       "    .dataframe thead th {\n",
       "        text-align: right;\n",
       "    }\n",
       "</style>\n",
       "<table border=\"1\" class=\"dataframe\">\n",
       "  <thead>\n",
       "    <tr style=\"text-align: right;\">\n",
       "      <th></th>\n",
       "      <th>business_code</th>\n",
       "      <th>cust_number</th>\n",
       "      <th>name_customer</th>\n",
       "      <th>clear_date</th>\n",
       "      <th>buisness_year</th>\n",
       "      <th>doc_id</th>\n",
       "      <th>posting_date</th>\n",
       "      <th>due_in_date</th>\n",
       "      <th>invoice_currency</th>\n",
       "      <th>total_open_amount</th>\n",
       "      <th>baseline_create_date</th>\n",
       "      <th>cust_payment_terms</th>\n",
       "    </tr>\n",
       "  </thead>\n",
       "  <tbody>\n",
       "    <tr>\n",
       "      <th>0</th>\n",
       "      <td>U001</td>\n",
       "      <td>0200769623</td>\n",
       "      <td>WAL-MAR corp</td>\n",
       "      <td>2020-02-11 00:00:00</td>\n",
       "      <td>2020.0</td>\n",
       "      <td>1.930438e+09</td>\n",
       "      <td>2020-01-26</td>\n",
       "      <td>20200210.0</td>\n",
       "      <td>USD</td>\n",
       "      <td>54273.28</td>\n",
       "      <td>2020-01-26</td>\n",
       "      <td>NAH4</td>\n",
       "    </tr>\n",
       "    <tr>\n",
       "      <th>1</th>\n",
       "      <td>U001</td>\n",
       "      <td>0200980828</td>\n",
       "      <td>BEN E</td>\n",
       "      <td>2019-08-08 00:00:00</td>\n",
       "      <td>2019.0</td>\n",
       "      <td>1.929646e+09</td>\n",
       "      <td>2019-07-22</td>\n",
       "      <td>20190811.0</td>\n",
       "      <td>USD</td>\n",
       "      <td>79656.60</td>\n",
       "      <td>2019-07-22</td>\n",
       "      <td>NAD1</td>\n",
       "    </tr>\n",
       "  </tbody>\n",
       "</table>\n",
       "</div>"
      ],
      "text/plain": [
       "  business_code cust_number name_customer           clear_date  buisness_year  \\\n",
       "0          U001  0200769623  WAL-MAR corp  2020-02-11 00:00:00         2020.0   \n",
       "1          U001  0200980828        BEN E   2019-08-08 00:00:00         2019.0   \n",
       "\n",
       "         doc_id posting_date  due_in_date invoice_currency  total_open_amount  \\\n",
       "0  1.930438e+09   2020-01-26   20200210.0              USD           54273.28   \n",
       "1  1.929646e+09   2019-07-22   20190811.0              USD           79656.60   \n",
       "\n",
       "  baseline_create_date cust_payment_terms  \n",
       "0           2020-01-26               NAH4  \n",
       "1           2019-07-22               NAD1  "
      ]
     },
     "execution_count": 14,
     "metadata": {},
     "output_type": "execute_result"
    }
   ],
   "source": [
    "df.head(2)"
   ]
  },
  {
   "cell_type": "code",
   "execution_count": 15,
   "id": "ba24fb25",
   "metadata": {},
   "outputs": [
    {
     "name": "stdout",
     "output_type": "stream",
     "text": [
      "All the columns are removed.\n"
     ]
    }
   ],
   "source": [
    "#checking if removed or not in the df_drop\n",
    "if set(['area_business', 'posting_id', 'invoice_id', 'document_create_date', 'isOpen', 'document type', 'document_create_date.1']).issubset(df.columns):\n",
    "    print(\"Columns are still there.\")\n",
    "else:\n",
    "    print(\"All the columns are removed.\")"
   ]
  },
  {
   "cell_type": "markdown",
   "id": "6bc052c7",
   "metadata": {
    "id": "6bc052c7"
   },
   "source": [
    "### Show all the Duplicate rows from the dataframe "
   ]
  },
  {
   "cell_type": "code",
   "execution_count": 16,
   "id": "ef4a52ab",
   "metadata": {},
   "outputs": [
    {
     "name": "stdout",
     "output_type": "stream",
     "text": [
      "Duplicate Rows :\n"
     ]
    },
    {
     "data": {
      "text/html": [
       "<div>\n",
       "<style scoped>\n",
       "    .dataframe tbody tr th:only-of-type {\n",
       "        vertical-align: middle;\n",
       "    }\n",
       "\n",
       "    .dataframe tbody tr th {\n",
       "        vertical-align: top;\n",
       "    }\n",
       "\n",
       "    .dataframe thead th {\n",
       "        text-align: right;\n",
       "    }\n",
       "</style>\n",
       "<table border=\"1\" class=\"dataframe\">\n",
       "  <thead>\n",
       "    <tr style=\"text-align: right;\">\n",
       "      <th></th>\n",
       "      <th>business_code</th>\n",
       "      <th>cust_number</th>\n",
       "      <th>name_customer</th>\n",
       "      <th>clear_date</th>\n",
       "      <th>buisness_year</th>\n",
       "      <th>doc_id</th>\n",
       "      <th>posting_date</th>\n",
       "      <th>due_in_date</th>\n",
       "      <th>invoice_currency</th>\n",
       "      <th>total_open_amount</th>\n",
       "      <th>baseline_create_date</th>\n",
       "      <th>cust_payment_terms</th>\n",
       "    </tr>\n",
       "  </thead>\n",
       "  <tbody>\n",
       "    <tr>\n",
       "      <th>1041</th>\n",
       "      <td>U001</td>\n",
       "      <td>0200769623</td>\n",
       "      <td>WAL-MAR in</td>\n",
       "      <td>2019-03-12 00:00:00</td>\n",
       "      <td>2019.0</td>\n",
       "      <td>1.928870e+09</td>\n",
       "      <td>2019-02-28</td>\n",
       "      <td>20190315.0</td>\n",
       "      <td>USD</td>\n",
       "      <td>19557.41</td>\n",
       "      <td>2019-02-28</td>\n",
       "      <td>NAH4</td>\n",
       "    </tr>\n",
       "    <tr>\n",
       "      <th>2400</th>\n",
       "      <td>U001</td>\n",
       "      <td>0200769623</td>\n",
       "      <td>WAL-MAR trust</td>\n",
       "      <td>2019-08-28 00:00:00</td>\n",
       "      <td>2019.0</td>\n",
       "      <td>1.929758e+09</td>\n",
       "      <td>2019-08-18</td>\n",
       "      <td>20190902.0</td>\n",
       "      <td>USD</td>\n",
       "      <td>5600.41</td>\n",
       "      <td>2019-08-18</td>\n",
       "      <td>NAH4</td>\n",
       "    </tr>\n",
       "    <tr>\n",
       "      <th>2584</th>\n",
       "      <td>U001</td>\n",
       "      <td>0200769623</td>\n",
       "      <td>WAL-MAR corporation</td>\n",
       "      <td>2019-12-16 00:00:00</td>\n",
       "      <td>2019.0</td>\n",
       "      <td>1.930217e+09</td>\n",
       "      <td>2019-12-04</td>\n",
       "      <td>20191219.0</td>\n",
       "      <td>USD</td>\n",
       "      <td>35352.17</td>\n",
       "      <td>2019-12-04</td>\n",
       "      <td>NAH4</td>\n",
       "    </tr>\n",
       "    <tr>\n",
       "      <th>3755</th>\n",
       "      <td>U001</td>\n",
       "      <td>0200769623</td>\n",
       "      <td>WAL-MAR</td>\n",
       "      <td>2019-11-22 00:00:00</td>\n",
       "      <td>2019.0</td>\n",
       "      <td>1.930137e+09</td>\n",
       "      <td>2019-11-12</td>\n",
       "      <td>20191127.0</td>\n",
       "      <td>USD</td>\n",
       "      <td>2982.64</td>\n",
       "      <td>2019-11-12</td>\n",
       "      <td>NAH4</td>\n",
       "    </tr>\n",
       "    <tr>\n",
       "      <th>3873</th>\n",
       "      <td>CA02</td>\n",
       "      <td>0140104409</td>\n",
       "      <td>LOB associates</td>\n",
       "      <td>NaN</td>\n",
       "      <td>2020.0</td>\n",
       "      <td>2.960629e+09</td>\n",
       "      <td>2020-04-14</td>\n",
       "      <td>20200425.0</td>\n",
       "      <td>CAD</td>\n",
       "      <td>82975.82</td>\n",
       "      <td>2020-04-15</td>\n",
       "      <td>CA10</td>\n",
       "    </tr>\n",
       "    <tr>\n",
       "      <th>...</th>\n",
       "      <td>...</td>\n",
       "      <td>...</td>\n",
       "      <td>...</td>\n",
       "      <td>...</td>\n",
       "      <td>...</td>\n",
       "      <td>...</td>\n",
       "      <td>...</td>\n",
       "      <td>...</td>\n",
       "      <td>...</td>\n",
       "      <td>...</td>\n",
       "      <td>...</td>\n",
       "      <td>...</td>\n",
       "    </tr>\n",
       "    <tr>\n",
       "      <th>49928</th>\n",
       "      <td>U001</td>\n",
       "      <td>0200915438</td>\n",
       "      <td>GROC trust</td>\n",
       "      <td>2019-08-15 00:00:00</td>\n",
       "      <td>2019.0</td>\n",
       "      <td>1.929646e+09</td>\n",
       "      <td>2019-07-25</td>\n",
       "      <td>20190809.0</td>\n",
       "      <td>USD</td>\n",
       "      <td>6969.00</td>\n",
       "      <td>2019-07-25</td>\n",
       "      <td>NAA8</td>\n",
       "    </tr>\n",
       "    <tr>\n",
       "      <th>49963</th>\n",
       "      <td>U001</td>\n",
       "      <td>0200759878</td>\n",
       "      <td>SA us</td>\n",
       "      <td>2019-01-29 00:00:00</td>\n",
       "      <td>2019.0</td>\n",
       "      <td>1.928614e+09</td>\n",
       "      <td>2019-01-13</td>\n",
       "      <td>20190128.0</td>\n",
       "      <td>USD</td>\n",
       "      <td>10968.24</td>\n",
       "      <td>2019-01-13</td>\n",
       "      <td>NAH4</td>\n",
       "    </tr>\n",
       "    <tr>\n",
       "      <th>49986</th>\n",
       "      <td>U001</td>\n",
       "      <td>0200772670</td>\n",
       "      <td>ASSOCIAT foundation</td>\n",
       "      <td>2019-06-12 00:00:00</td>\n",
       "      <td>2019.0</td>\n",
       "      <td>1.929403e+09</td>\n",
       "      <td>2019-05-29</td>\n",
       "      <td>20190613.0</td>\n",
       "      <td>USD</td>\n",
       "      <td>155837.53</td>\n",
       "      <td>2019-05-29</td>\n",
       "      <td>NAU5</td>\n",
       "    </tr>\n",
       "    <tr>\n",
       "      <th>49990</th>\n",
       "      <td>U001</td>\n",
       "      <td>0200765011</td>\n",
       "      <td>MAINES llc</td>\n",
       "      <td>2019-06-06 00:00:00</td>\n",
       "      <td>2019.0</td>\n",
       "      <td>1.929365e+09</td>\n",
       "      <td>2019-05-22</td>\n",
       "      <td>20190606.0</td>\n",
       "      <td>USD</td>\n",
       "      <td>4008.05</td>\n",
       "      <td>2019-05-22</td>\n",
       "      <td>NAA8</td>\n",
       "    </tr>\n",
       "    <tr>\n",
       "      <th>49991</th>\n",
       "      <td>U001</td>\n",
       "      <td>0200704045</td>\n",
       "      <td>RA trust</td>\n",
       "      <td>2019-10-25 00:00:00</td>\n",
       "      <td>2019.0</td>\n",
       "      <td>1.930001e+09</td>\n",
       "      <td>2019-10-10</td>\n",
       "      <td>20191025.0</td>\n",
       "      <td>USD</td>\n",
       "      <td>73002.24</td>\n",
       "      <td>2019-10-10</td>\n",
       "      <td>NAA8</td>\n",
       "    </tr>\n",
       "  </tbody>\n",
       "</table>\n",
       "<p>1161 rows × 12 columns</p>\n",
       "</div>"
      ],
      "text/plain": [
       "      business_code cust_number        name_customer           clear_date  \\\n",
       "1041           U001  0200769623           WAL-MAR in  2019-03-12 00:00:00   \n",
       "2400           U001  0200769623        WAL-MAR trust  2019-08-28 00:00:00   \n",
       "2584           U001  0200769623  WAL-MAR corporation  2019-12-16 00:00:00   \n",
       "3755           U001  0200769623             WAL-MAR   2019-11-22 00:00:00   \n",
       "3873           CA02  0140104409       LOB associates                  NaN   \n",
       "...             ...         ...                  ...                  ...   \n",
       "49928          U001  0200915438           GROC trust  2019-08-15 00:00:00   \n",
       "49963          U001  0200759878                SA us  2019-01-29 00:00:00   \n",
       "49986          U001  0200772670  ASSOCIAT foundation  2019-06-12 00:00:00   \n",
       "49990          U001  0200765011           MAINES llc  2019-06-06 00:00:00   \n",
       "49991          U001  0200704045             RA trust  2019-10-25 00:00:00   \n",
       "\n",
       "       buisness_year        doc_id posting_date  due_in_date invoice_currency  \\\n",
       "1041          2019.0  1.928870e+09   2019-02-28   20190315.0              USD   \n",
       "2400          2019.0  1.929758e+09   2019-08-18   20190902.0              USD   \n",
       "2584          2019.0  1.930217e+09   2019-12-04   20191219.0              USD   \n",
       "3755          2019.0  1.930137e+09   2019-11-12   20191127.0              USD   \n",
       "3873          2020.0  2.960629e+09   2020-04-14   20200425.0              CAD   \n",
       "...              ...           ...          ...          ...              ...   \n",
       "49928         2019.0  1.929646e+09   2019-07-25   20190809.0              USD   \n",
       "49963         2019.0  1.928614e+09   2019-01-13   20190128.0              USD   \n",
       "49986         2019.0  1.929403e+09   2019-05-29   20190613.0              USD   \n",
       "49990         2019.0  1.929365e+09   2019-05-22   20190606.0              USD   \n",
       "49991         2019.0  1.930001e+09   2019-10-10   20191025.0              USD   \n",
       "\n",
       "       total_open_amount baseline_create_date cust_payment_terms  \n",
       "1041            19557.41           2019-02-28               NAH4  \n",
       "2400             5600.41           2019-08-18               NAH4  \n",
       "2584            35352.17           2019-12-04               NAH4  \n",
       "3755             2982.64           2019-11-12               NAH4  \n",
       "3873            82975.82           2020-04-15               CA10  \n",
       "...                  ...                  ...                ...  \n",
       "49928            6969.00           2019-07-25               NAA8  \n",
       "49963           10968.24           2019-01-13               NAH4  \n",
       "49986          155837.53           2019-05-29               NAU5  \n",
       "49990            4008.05           2019-05-22               NAA8  \n",
       "49991           73002.24           2019-10-10               NAA8  \n",
       "\n",
       "[1161 rows x 12 columns]"
      ]
     },
     "execution_count": 16,
     "metadata": {},
     "output_type": "execute_result"
    }
   ],
   "source": [
    "duplicate = df[df.duplicated()]\n",
    " \n",
    "print(\"Duplicate Rows :\")\n",
    "duplicate"
   ]
  },
  {
   "cell_type": "code",
   "execution_count": 17,
   "id": "1ae3c7e4",
   "metadata": {
    "id": "1ae3c7e4",
    "scrolled": true
   },
   "outputs": [],
   "source": [
    "#df.duplicated().sum()"
   ]
  },
  {
   "cell_type": "code",
   "execution_count": 18,
   "id": "ecb10ecd",
   "metadata": {},
   "outputs": [],
   "source": [
    "#duplicate = df[df.duplicated(subset = ['business_code', 'cust_number', 'name_customer', 'clear_date','buisness_year', 'doc_id', 'posting_date', 'due_in_date','invoice_currency', 'total_open_amount', 'baseline_create_date','cust_payment_terms'] )]\n",
    "#duplicate"
   ]
  },
  {
   "cell_type": "markdown",
   "id": "464fab09",
   "metadata": {
    "id": "464fab09"
   },
   "source": [
    "### Display the Number of Duplicate Rows (in duplicate)"
   ]
  },
  {
   "cell_type": "code",
   "execution_count": 19,
   "id": "b1ea2397",
   "metadata": {
    "id": "b1ea2397"
   },
   "outputs": [
    {
     "name": "stdout",
     "output_type": "stream",
     "text": [
      "Number of rows are:  1161\n"
     ]
    }
   ],
   "source": [
    "rows = len(duplicate.axes[0])\n",
    "print(\"Number of rows are: \", rows)"
   ]
  },
  {
   "cell_type": "markdown",
   "id": "827a6718",
   "metadata": {
    "id": "827a6718"
   },
   "source": [
    "### Drop all the Duplicate Rows"
   ]
  },
  {
   "cell_type": "code",
   "execution_count": 20,
   "id": "35b49367",
   "metadata": {},
   "outputs": [],
   "source": [
    "df.drop_duplicates(subset = ['business_code','cust_number','name_customer','clear_date','buisness_year','doc_id','posting_date','due_in_date','invoice_currency','total_open_amount','baseline_create_date','cust_payment_terms'],keep = 'last',inplace=True)"
   ]
  },
  {
   "cell_type": "code",
   "execution_count": 21,
   "id": "ccdcbefb",
   "metadata": {},
   "outputs": [
    {
     "data": {
      "text/plain": [
       "(48839, 12)"
      ]
     },
     "execution_count": 21,
     "metadata": {},
     "output_type": "execute_result"
    }
   ],
   "source": [
    "df.shape"
   ]
  },
  {
   "cell_type": "markdown",
   "id": "7e5d1f9b",
   "metadata": {
    "id": "7e5d1f9b"
   },
   "source": [
    "#### Now check for all duplicate rows now\n",
    "\n",
    "- Note - It must be 0 by now"
   ]
  },
  {
   "cell_type": "code",
   "execution_count": 22,
   "id": "661287db",
   "metadata": {
    "scrolled": true
   },
   "outputs": [
    {
     "name": "stdout",
     "output_type": "stream",
     "text": [
      "Duplicate Rows :\n"
     ]
    },
    {
     "data": {
      "text/html": [
       "<div>\n",
       "<style scoped>\n",
       "    .dataframe tbody tr th:only-of-type {\n",
       "        vertical-align: middle;\n",
       "    }\n",
       "\n",
       "    .dataframe tbody tr th {\n",
       "        vertical-align: top;\n",
       "    }\n",
       "\n",
       "    .dataframe thead th {\n",
       "        text-align: right;\n",
       "    }\n",
       "</style>\n",
       "<table border=\"1\" class=\"dataframe\">\n",
       "  <thead>\n",
       "    <tr style=\"text-align: right;\">\n",
       "      <th></th>\n",
       "      <th>business_code</th>\n",
       "      <th>cust_number</th>\n",
       "      <th>name_customer</th>\n",
       "      <th>clear_date</th>\n",
       "      <th>buisness_year</th>\n",
       "      <th>doc_id</th>\n",
       "      <th>posting_date</th>\n",
       "      <th>due_in_date</th>\n",
       "      <th>invoice_currency</th>\n",
       "      <th>total_open_amount</th>\n",
       "      <th>baseline_create_date</th>\n",
       "      <th>cust_payment_terms</th>\n",
       "    </tr>\n",
       "  </thead>\n",
       "  <tbody>\n",
       "  </tbody>\n",
       "</table>\n",
       "</div>"
      ],
      "text/plain": [
       "Empty DataFrame\n",
       "Columns: [business_code, cust_number, name_customer, clear_date, buisness_year, doc_id, posting_date, due_in_date, invoice_currency, total_open_amount, baseline_create_date, cust_payment_terms]\n",
       "Index: []"
      ]
     },
     "execution_count": 22,
     "metadata": {},
     "output_type": "execute_result"
    }
   ],
   "source": [
    "#checking stat\n",
    "duplicate_1 = df[df.duplicated()]\n",
    " \n",
    "print(\"Duplicate Rows :\")\n",
    "duplicate_1"
   ]
  },
  {
   "cell_type": "code",
   "execution_count": 23,
   "id": "9accc9fc",
   "metadata": {
    "id": "9accc9fc",
    "scrolled": false
   },
   "outputs": [
    {
     "name": "stdout",
     "output_type": "stream",
     "text": [
      "Now the number of duplicated rows are:  0\n"
     ]
    }
   ],
   "source": [
    "rows = len(duplicate_1.axes[0])\n",
    "print(\"Now the number of duplicated rows are: \", rows)"
   ]
  },
  {
   "cell_type": "markdown",
   "id": "7ddfb38b",
   "metadata": {},
   "source": [
    "Above we can see there are no values in the column, hence it represents no duplicate values(rows) and we will be using dup01 fOr future processing."
   ]
  },
  {
   "cell_type": "markdown",
   "id": "d0704898",
   "metadata": {
    "id": "d0704898"
   },
   "source": [
    "### Check for the number of Rows and Columns in your dataset"
   ]
  },
  {
   "cell_type": "code",
   "execution_count": 24,
   "id": "582748a8",
   "metadata": {
    "id": "582748a8",
    "scrolled": true
   },
   "outputs": [
    {
     "name": "stdout",
     "output_type": "stream",
     "text": [
      "Number of rows are:  48839\n",
      "Number of columns are:  12\n"
     ]
    }
   ],
   "source": [
    "rows = len(df.axes[0])\n",
    "columns = len(df.axes[1])\n",
    "print(\"Number of rows are: \",rows)\n",
    "print(\"Number of columns are: \", columns)"
   ]
  },
  {
   "cell_type": "code",
   "execution_count": 25,
   "id": "ab0fca59",
   "metadata": {},
   "outputs": [
    {
     "data": {
      "text/plain": [
       "(48839, 12)"
      ]
     },
     "execution_count": 25,
     "metadata": {},
     "output_type": "execute_result"
    }
   ],
   "source": [
    "df.shape"
   ]
  },
  {
   "cell_type": "markdown",
   "id": "4o9c5UodWRtl",
   "metadata": {
    "id": "4o9c5UodWRtl"
   },
   "source": [
    "### Find out the total count of null values in each columns"
   ]
  },
  {
   "cell_type": "code",
   "execution_count": 26,
   "id": "b0612cb5",
   "metadata": {
    "id": "b0612cb5"
   },
   "outputs": [
    {
     "data": {
      "text/plain": [
       "business_code              0\n",
       "cust_number                0\n",
       "name_customer              0\n",
       "clear_date              9681\n",
       "buisness_year              0\n",
       "doc_id                     0\n",
       "posting_date               0\n",
       "due_in_date                0\n",
       "invoice_currency           0\n",
       "total_open_amount          0\n",
       "baseline_create_date       0\n",
       "cust_payment_terms         0\n",
       "dtype: int64"
      ]
     },
     "execution_count": 26,
     "metadata": {},
     "output_type": "execute_result"
    }
   ],
   "source": [
    "df.isnull().sum()"
   ]
  },
  {
   "cell_type": "markdown",
   "id": "7abdb98b",
   "metadata": {
    "id": "7abdb98b"
   },
   "source": [
    "# Data type Conversion"
   ]
  },
  {
   "cell_type": "markdown",
   "id": "LPfSUSp-WpPj",
   "metadata": {
    "id": "LPfSUSp-WpPj"
   },
   "source": [
    "### Please check the data type of each column of the dataframe"
   ]
  },
  {
   "cell_type": "code",
   "execution_count": 27,
   "id": "689c8592",
   "metadata": {
    "id": "689c8592"
   },
   "outputs": [
    {
     "data": {
      "text/plain": [
       "business_code                   object\n",
       "cust_number                     object\n",
       "name_customer                   object\n",
       "clear_date                      object\n",
       "buisness_year                  float64\n",
       "doc_id                         float64\n",
       "posting_date                    object\n",
       "due_in_date                    float64\n",
       "invoice_currency                object\n",
       "total_open_amount              float64\n",
       "baseline_create_date    datetime64[ns]\n",
       "cust_payment_terms              object\n",
       "dtype: object"
      ]
     },
     "execution_count": 27,
     "metadata": {},
     "output_type": "execute_result"
    }
   ],
   "source": [
    "df.dtypes"
   ]
  },
  {
   "cell_type": "markdown",
   "id": "0nsem0_3XzOt",
   "metadata": {
    "id": "0nsem0_3XzOt"
   },
   "source": [
    "### Check the datatype format of below columns\n",
    "\n",
    "- clear_date  \n",
    "- posting_date\n",
    "- due_in_date \n",
    "- baseline_create_date"
   ]
  },
  {
   "cell_type": "code",
   "execution_count": 28,
   "id": "-yyODyW3X6pL",
   "metadata": {
    "id": "-yyODyW3X6pL"
   },
   "outputs": [
    {
     "name": "stdout",
     "output_type": "stream",
     "text": [
      "Datatype of clear_date:  object\n",
      "Datatype of posting_date:  object\n",
      "Datatpe of due_in_date:  float64\n",
      "Datatype of baseline_create_data:  datetime64[ns]\n"
     ]
    }
   ],
   "source": [
    "print(\"Datatype of clear_date: \", df.dtypes['clear_date'])\n",
    "print(\"Datatype of posting_date: \", df.dtypes['posting_date'])\n",
    "print(\"Datatpe of due_in_date: \", df.dtypes['due_in_date'])\n",
    "print(\"Datatype of baseline_create_data: \", df.dtypes['baseline_create_date'])"
   ]
  },
  {
   "cell_type": "markdown",
   "id": "11cf9478",
   "metadata": {
    "id": "11cf9478"
   },
   "source": [
    "### converting date columns into date time formats\n",
    "\n",
    "- clear_date  \n",
    "- posting_date\n",
    "- due_in_date \n",
    "- baseline_create_date\n",
    "\n",
    "\n",
    "- **Note - You have to convert all these above columns into \"%Y%m%d\" format**"
   ]
  },
  {
   "cell_type": "code",
   "execution_count": 29,
   "id": "9a8c6c71",
   "metadata": {
    "id": "9a8c6c71",
    "scrolled": true
   },
   "outputs": [],
   "source": [
    "df['clear_date']=pd.to_datetime(df['clear_date'],format='%Y-%m-%d')\n",
    "df['posting_date']=pd.to_datetime(df['posting_date'],format='%Y-%m-%d')\n",
    "df['due_in_date']=pd.to_datetime(df['due_in_date'],format='%Y%m%d')\n",
    "df['baseline_create_date']=pd.to_datetime(df['baseline_create_date'],format='%Y%m%d')"
   ]
  },
  {
   "cell_type": "code",
   "execution_count": 30,
   "id": "bac11117",
   "metadata": {},
   "outputs": [
    {
     "data": {
      "text/html": [
       "<div>\n",
       "<style scoped>\n",
       "    .dataframe tbody tr th:only-of-type {\n",
       "        vertical-align: middle;\n",
       "    }\n",
       "\n",
       "    .dataframe tbody tr th {\n",
       "        vertical-align: top;\n",
       "    }\n",
       "\n",
       "    .dataframe thead th {\n",
       "        text-align: right;\n",
       "    }\n",
       "</style>\n",
       "<table border=\"1\" class=\"dataframe\">\n",
       "  <thead>\n",
       "    <tr style=\"text-align: right;\">\n",
       "      <th></th>\n",
       "      <th>clear_date</th>\n",
       "      <th>posting_date</th>\n",
       "      <th>due_in_date</th>\n",
       "      <th>baseline_create_date</th>\n",
       "    </tr>\n",
       "  </thead>\n",
       "  <tbody>\n",
       "    <tr>\n",
       "      <th>0</th>\n",
       "      <td>2020-02-11</td>\n",
       "      <td>2020-01-26</td>\n",
       "      <td>2020-02-10</td>\n",
       "      <td>2020-01-26</td>\n",
       "    </tr>\n",
       "    <tr>\n",
       "      <th>1</th>\n",
       "      <td>2019-08-08</td>\n",
       "      <td>2019-07-22</td>\n",
       "      <td>2019-08-11</td>\n",
       "      <td>2019-07-22</td>\n",
       "    </tr>\n",
       "    <tr>\n",
       "      <th>2</th>\n",
       "      <td>2019-12-30</td>\n",
       "      <td>2019-09-14</td>\n",
       "      <td>2019-09-29</td>\n",
       "      <td>2019-09-14</td>\n",
       "    </tr>\n",
       "    <tr>\n",
       "      <th>3</th>\n",
       "      <td>NaT</td>\n",
       "      <td>2020-03-30</td>\n",
       "      <td>2020-04-10</td>\n",
       "      <td>2020-03-31</td>\n",
       "    </tr>\n",
       "    <tr>\n",
       "      <th>4</th>\n",
       "      <td>2019-11-25</td>\n",
       "      <td>2019-11-13</td>\n",
       "      <td>2019-11-28</td>\n",
       "      <td>2019-11-13</td>\n",
       "    </tr>\n",
       "  </tbody>\n",
       "</table>\n",
       "</div>"
      ],
      "text/plain": [
       "  clear_date posting_date due_in_date baseline_create_date\n",
       "0 2020-02-11   2020-01-26  2020-02-10           2020-01-26\n",
       "1 2019-08-08   2019-07-22  2019-08-11           2019-07-22\n",
       "2 2019-12-30   2019-09-14  2019-09-29           2019-09-14\n",
       "3        NaT   2020-03-30  2020-04-10           2020-03-31\n",
       "4 2019-11-25   2019-11-13  2019-11-28           2019-11-13"
      ]
     },
     "execution_count": 30,
     "metadata": {},
     "output_type": "execute_result"
    }
   ],
   "source": [
    "df.loc[0:4,['clear_date', 'posting_date', 'due_in_date','baseline_create_date']]"
   ]
  },
  {
   "cell_type": "markdown",
   "id": "7adq0wSIYSCS",
   "metadata": {
    "id": "7adq0wSIYSCS"
   },
   "source": [
    "### Please check the datatype of all the columns after conversion of the above 4 columns"
   ]
  },
  {
   "cell_type": "code",
   "execution_count": 31,
   "id": "fd028c61",
   "metadata": {
    "id": "fd028c61"
   },
   "outputs": [
    {
     "name": "stdout",
     "output_type": "stream",
     "text": [
      "Datatype of clear_date:  datetime64[ns]\n",
      "Datatype of posting_date:  datetime64[ns]\n",
      "Datatpe of due_in_date:  datetime64[ns]\n",
      "Datatype of baseline_create_data:  datetime64[ns]\n"
     ]
    }
   ],
   "source": [
    "print(\"Datatype of clear_date: \", df.dtypes['clear_date'])\n",
    "print(\"Datatype of posting_date: \", df.dtypes['posting_date'])\n",
    "print(\"Datatpe of due_in_date: \", df.dtypes['due_in_date'])\n",
    "print(\"Datatype of baseline_create_data: \", df.dtypes['baseline_create_date'])"
   ]
  },
  {
   "cell_type": "markdown",
   "id": "8c9882fa",
   "metadata": {
    "id": "8c9882fa"
   },
   "source": [
    "#### the invoice_currency column contains two different categories, USD and CAD\n",
    "\n",
    "- Please do a count of each currency "
   ]
  },
  {
   "cell_type": "code",
   "execution_count": 32,
   "id": "72085397",
   "metadata": {
    "id": "72085397"
   },
   "outputs": [
    {
     "data": {
      "text/plain": [
       "USD    45011\n",
       "CAD     3828\n",
       "Name: invoice_currency, dtype: int64"
      ]
     },
     "execution_count": 32,
     "metadata": {},
     "output_type": "execute_result"
    }
   ],
   "source": [
    "df[\"invoice_currency\"].value_counts()"
   ]
  },
  {
   "cell_type": "markdown",
   "id": "6cbe26ee",
   "metadata": {
    "id": "6cbe26ee"
   },
   "source": [
    "#### display the \"total_open_amount\" column value"
   ]
  },
  {
   "cell_type": "code",
   "execution_count": 33,
   "id": "6c49f2ab",
   "metadata": {
    "id": "6c49f2ab"
   },
   "outputs": [
    {
     "data": {
      "text/plain": [
       "1897.50     101\n",
       "471.56       96\n",
       "1898.20      95\n",
       "943.12       63\n",
       "1328.25      57\n",
       "           ... \n",
       "240.70        1\n",
       "20541.67      1\n",
       "6021.81       1\n",
       "29534.23      1\n",
       "677.66        1\n",
       "Name: total_open_amount, Length: 44349, dtype: int64"
      ]
     },
     "execution_count": 33,
     "metadata": {},
     "output_type": "execute_result"
    }
   ],
   "source": [
    "df[\"total_open_amount\"].value_counts()"
   ]
  },
  {
   "cell_type": "markdown",
   "id": "df899966",
   "metadata": {
    "id": "df899966"
   },
   "source": [
    "### Convert all CAD into USD currency of \"total_open_amount\" column\n",
    "\n",
    "- 1 CAD = 0.7 USD\n",
    "- Create a new column i.e \"converted_usd\" and store USD and convered CAD to USD"
   ]
  },
  {
   "cell_type": "code",
   "execution_count": 34,
   "id": "8eb2f1c5",
   "metadata": {
    "id": "8eb2f1c5"
   },
   "outputs": [],
   "source": [
    "df['converted_usd']=np.where(df['invoice_currency']=='CAD',0.7*df['total_open_amount'],df['total_open_amount'])"
   ]
  },
  {
   "cell_type": "markdown",
   "id": "f9f6ef1d",
   "metadata": {
    "id": "f9f6ef1d"
   },
   "source": [
    "### Display the new \"converted_usd\" column values"
   ]
  },
  {
   "cell_type": "code",
   "execution_count": 35,
   "id": "1fc1a178",
   "metadata": {
    "id": "1fc1a178"
   },
   "outputs": [
    {
     "data": {
      "text/plain": [
       "0        54273.28\n",
       "1        79656.60\n",
       "2         2253.86\n",
       "3         2309.79\n",
       "4        33133.29\n",
       "           ...   \n",
       "49995     3187.86\n",
       "49996     6766.54\n",
       "49997     6120.86\n",
       "49998       63.48\n",
       "49999     1790.30\n",
       "Name: converted_usd, Length: 48839, dtype: float64"
      ]
     },
     "execution_count": 35,
     "metadata": {},
     "output_type": "execute_result"
    }
   ],
   "source": [
    "df['converted_usd']"
   ]
  },
  {
   "cell_type": "markdown",
   "id": "6XLXX17kayuy",
   "metadata": {
    "id": "6XLXX17kayuy"
   },
   "source": [
    "### Display year wise total number of record \n",
    "\n",
    "- Note -  use \"buisness_year\" column for this "
   ]
  },
  {
   "cell_type": "code",
   "execution_count": 36,
   "id": "00c9f6ee",
   "metadata": {
    "id": "00c9f6ee",
    "scrolled": true
   },
   "outputs": [
    {
     "data": {
      "text/html": [
       "<div>\n",
       "<style scoped>\n",
       "    .dataframe tbody tr th:only-of-type {\n",
       "        vertical-align: middle;\n",
       "    }\n",
       "\n",
       "    .dataframe tbody tr th {\n",
       "        vertical-align: top;\n",
       "    }\n",
       "\n",
       "    .dataframe thead th {\n",
       "        text-align: right;\n",
       "    }\n",
       "</style>\n",
       "<table border=\"1\" class=\"dataframe\">\n",
       "  <thead>\n",
       "    <tr style=\"text-align: right;\">\n",
       "      <th></th>\n",
       "      <th>buisness_year</th>\n",
       "      <th>business_code</th>\n",
       "      <th>cust_number</th>\n",
       "      <th>name_customer</th>\n",
       "      <th>clear_date</th>\n",
       "      <th>doc_id</th>\n",
       "      <th>posting_date</th>\n",
       "      <th>due_in_date</th>\n",
       "      <th>invoice_currency</th>\n",
       "      <th>total_open_amount</th>\n",
       "      <th>baseline_create_date</th>\n",
       "      <th>cust_payment_terms</th>\n",
       "      <th>converted_usd</th>\n",
       "    </tr>\n",
       "  </thead>\n",
       "  <tbody>\n",
       "    <tr>\n",
       "      <th>0</th>\n",
       "      <td>2020.0</td>\n",
       "      <td>U001</td>\n",
       "      <td>0200769623</td>\n",
       "      <td>WAL-MAR corp</td>\n",
       "      <td>2020-02-11</td>\n",
       "      <td>1.930438e+09</td>\n",
       "      <td>2020-01-26</td>\n",
       "      <td>2020-02-10</td>\n",
       "      <td>USD</td>\n",
       "      <td>54273.28</td>\n",
       "      <td>2020-01-26</td>\n",
       "      <td>NAH4</td>\n",
       "      <td>54273.280</td>\n",
       "    </tr>\n",
       "    <tr>\n",
       "      <th>16736</th>\n",
       "      <td>2020.0</td>\n",
       "      <td>U001</td>\n",
       "      <td>0200706844</td>\n",
       "      <td>WINC trust</td>\n",
       "      <td>NaT</td>\n",
       "      <td>1.930687e+09</td>\n",
       "      <td>2020-03-25</td>\n",
       "      <td>2020-04-09</td>\n",
       "      <td>USD</td>\n",
       "      <td>12192.30</td>\n",
       "      <td>2020-03-25</td>\n",
       "      <td>NAA8</td>\n",
       "      <td>12192.300</td>\n",
       "    </tr>\n",
       "    <tr>\n",
       "      <th>38685</th>\n",
       "      <td>2020.0</td>\n",
       "      <td>U001</td>\n",
       "      <td>0200744019</td>\n",
       "      <td>TARG llc</td>\n",
       "      <td>2020-03-11</td>\n",
       "      <td>1.930566e+09</td>\n",
       "      <td>2020-02-25</td>\n",
       "      <td>2020-03-11</td>\n",
       "      <td>USD</td>\n",
       "      <td>9400.58</td>\n",
       "      <td>2020-02-25</td>\n",
       "      <td>NAA8</td>\n",
       "      <td>9400.580</td>\n",
       "    </tr>\n",
       "    <tr>\n",
       "      <th>38686</th>\n",
       "      <td>2020.0</td>\n",
       "      <td>U001</td>\n",
       "      <td>0200726979</td>\n",
       "      <td>BJ'S  foundation</td>\n",
       "      <td>2020-01-28</td>\n",
       "      <td>1.930391e+09</td>\n",
       "      <td>2020-01-11</td>\n",
       "      <td>2020-01-26</td>\n",
       "      <td>USD</td>\n",
       "      <td>555.10</td>\n",
       "      <td>2020-01-11</td>\n",
       "      <td>NAA8</td>\n",
       "      <td>555.100</td>\n",
       "    </tr>\n",
       "    <tr>\n",
       "      <th>38688</th>\n",
       "      <td>2020.0</td>\n",
       "      <td>CA02</td>\n",
       "      <td>0100018048</td>\n",
       "      <td>GROUP us</td>\n",
       "      <td>NaT</td>\n",
       "      <td>2.960625e+09</td>\n",
       "      <td>2020-04-01</td>\n",
       "      <td>2020-04-13</td>\n",
       "      <td>CAD</td>\n",
       "      <td>27943.91</td>\n",
       "      <td>2020-04-03</td>\n",
       "      <td>CA10</td>\n",
       "      <td>19560.737</td>\n",
       "    </tr>\n",
       "    <tr>\n",
       "      <th>...</th>\n",
       "      <td>...</td>\n",
       "      <td>...</td>\n",
       "      <td>...</td>\n",
       "      <td>...</td>\n",
       "      <td>...</td>\n",
       "      <td>...</td>\n",
       "      <td>...</td>\n",
       "      <td>...</td>\n",
       "      <td>...</td>\n",
       "      <td>...</td>\n",
       "      <td>...</td>\n",
       "      <td>...</td>\n",
       "      <td>...</td>\n",
       "    </tr>\n",
       "    <tr>\n",
       "      <th>19876</th>\n",
       "      <td>2019.0</td>\n",
       "      <td>CA02</td>\n",
       "      <td>0140106408</td>\n",
       "      <td>WAL-M co</td>\n",
       "      <td>2019-04-05</td>\n",
       "      <td>2.960532e+09</td>\n",
       "      <td>2019-03-04</td>\n",
       "      <td>2019-03-23</td>\n",
       "      <td>CAD</td>\n",
       "      <td>228120.84</td>\n",
       "      <td>2019-03-13</td>\n",
       "      <td>CA10</td>\n",
       "      <td>159684.588</td>\n",
       "    </tr>\n",
       "    <tr>\n",
       "      <th>19877</th>\n",
       "      <td>2019.0</td>\n",
       "      <td>U001</td>\n",
       "      <td>0200020431</td>\n",
       "      <td>DEC foundation</td>\n",
       "      <td>2019-03-18</td>\n",
       "      <td>1.928915e+09</td>\n",
       "      <td>2019-03-06</td>\n",
       "      <td>2019-03-24</td>\n",
       "      <td>USD</td>\n",
       "      <td>260.40</td>\n",
       "      <td>2019-03-01</td>\n",
       "      <td>NAM4</td>\n",
       "      <td>260.400</td>\n",
       "    </tr>\n",
       "    <tr>\n",
       "      <th>19878</th>\n",
       "      <td>2019.0</td>\n",
       "      <td>U001</td>\n",
       "      <td>0200711029</td>\n",
       "      <td>WEGMAN corporation</td>\n",
       "      <td>2019-12-16</td>\n",
       "      <td>1.930207e+09</td>\n",
       "      <td>2019-11-30</td>\n",
       "      <td>2019-12-15</td>\n",
       "      <td>USD</td>\n",
       "      <td>22730.97</td>\n",
       "      <td>2019-11-30</td>\n",
       "      <td>NAA8</td>\n",
       "      <td>22730.970</td>\n",
       "    </tr>\n",
       "    <tr>\n",
       "      <th>19879</th>\n",
       "      <td>2019.0</td>\n",
       "      <td>U001</td>\n",
       "      <td>0200705742</td>\n",
       "      <td>DOT llc</td>\n",
       "      <td>2019-06-10</td>\n",
       "      <td>1.929376e+09</td>\n",
       "      <td>2019-05-24</td>\n",
       "      <td>2019-06-25</td>\n",
       "      <td>USD</td>\n",
       "      <td>5219.40</td>\n",
       "      <td>2019-05-24</td>\n",
       "      <td>NA32</td>\n",
       "      <td>5219.400</td>\n",
       "    </tr>\n",
       "    <tr>\n",
       "      <th>49999</th>\n",
       "      <td>2019.0</td>\n",
       "      <td>U001</td>\n",
       "      <td>0200020431</td>\n",
       "      <td>DEC corp</td>\n",
       "      <td>2019-01-15</td>\n",
       "      <td>1.928576e+09</td>\n",
       "      <td>2019-01-05</td>\n",
       "      <td>2019-01-24</td>\n",
       "      <td>USD</td>\n",
       "      <td>1790.30</td>\n",
       "      <td>2019-01-01</td>\n",
       "      <td>NAM4</td>\n",
       "      <td>1790.300</td>\n",
       "    </tr>\n",
       "  </tbody>\n",
       "</table>\n",
       "<p>48839 rows × 13 columns</p>\n",
       "</div>"
      ],
      "text/plain": [
       "       buisness_year business_code cust_number       name_customer clear_date  \\\n",
       "0             2020.0          U001  0200769623        WAL-MAR corp 2020-02-11   \n",
       "16736         2020.0          U001  0200706844          WINC trust        NaT   \n",
       "38685         2020.0          U001  0200744019            TARG llc 2020-03-11   \n",
       "38686         2020.0          U001  0200726979    BJ'S  foundation 2020-01-28   \n",
       "38688         2020.0          CA02  0100018048            GROUP us        NaT   \n",
       "...              ...           ...         ...                 ...        ...   \n",
       "19876         2019.0          CA02  0140106408            WAL-M co 2019-04-05   \n",
       "19877         2019.0          U001  0200020431      DEC foundation 2019-03-18   \n",
       "19878         2019.0          U001  0200711029  WEGMAN corporation 2019-12-16   \n",
       "19879         2019.0          U001  0200705742             DOT llc 2019-06-10   \n",
       "49999         2019.0          U001  0200020431            DEC corp 2019-01-15   \n",
       "\n",
       "             doc_id posting_date due_in_date invoice_currency  \\\n",
       "0      1.930438e+09   2020-01-26  2020-02-10              USD   \n",
       "16736  1.930687e+09   2020-03-25  2020-04-09              USD   \n",
       "38685  1.930566e+09   2020-02-25  2020-03-11              USD   \n",
       "38686  1.930391e+09   2020-01-11  2020-01-26              USD   \n",
       "38688  2.960625e+09   2020-04-01  2020-04-13              CAD   \n",
       "...             ...          ...         ...              ...   \n",
       "19876  2.960532e+09   2019-03-04  2019-03-23              CAD   \n",
       "19877  1.928915e+09   2019-03-06  2019-03-24              USD   \n",
       "19878  1.930207e+09   2019-11-30  2019-12-15              USD   \n",
       "19879  1.929376e+09   2019-05-24  2019-06-25              USD   \n",
       "49999  1.928576e+09   2019-01-05  2019-01-24              USD   \n",
       "\n",
       "       total_open_amount baseline_create_date cust_payment_terms  \\\n",
       "0               54273.28           2020-01-26               NAH4   \n",
       "16736           12192.30           2020-03-25               NAA8   \n",
       "38685            9400.58           2020-02-25               NAA8   \n",
       "38686             555.10           2020-01-11               NAA8   \n",
       "38688           27943.91           2020-04-03               CA10   \n",
       "...                  ...                  ...                ...   \n",
       "19876          228120.84           2019-03-13               CA10   \n",
       "19877             260.40           2019-03-01               NAM4   \n",
       "19878           22730.97           2019-11-30               NAA8   \n",
       "19879            5219.40           2019-05-24               NA32   \n",
       "49999            1790.30           2019-01-01               NAM4   \n",
       "\n",
       "       converted_usd  \n",
       "0          54273.280  \n",
       "16736      12192.300  \n",
       "38685       9400.580  \n",
       "38686        555.100  \n",
       "38688      19560.737  \n",
       "...              ...  \n",
       "19876     159684.588  \n",
       "19877        260.400  \n",
       "19878      22730.970  \n",
       "19879       5219.400  \n",
       "49999       1790.300  \n",
       "\n",
       "[48839 rows x 13 columns]"
      ]
     },
     "execution_count": 36,
     "metadata": {},
     "output_type": "execute_result"
    }
   ],
   "source": [
    "yearwise = df.sort_values(by=['buisness_year'], ascending=False)\n",
    "yearwise.loc[0:,['buisness_year','business_code', 'cust_number', 'name_customer', 'clear_date', 'doc_id', 'posting_date', 'due_in_date','invoice_currency', 'total_open_amount', 'baseline_create_date','cust_payment_terms', 'converted_usd']]"
   ]
  },
  {
   "cell_type": "code",
   "execution_count": 37,
   "id": "4f2eb3b7",
   "metadata": {},
   "outputs": [
    {
     "data": {
      "text/plain": [
       "Index(['business_code', 'cust_number', 'name_customer', 'clear_date',\n",
       "       'buisness_year', 'doc_id', 'posting_date', 'due_in_date',\n",
       "       'invoice_currency', 'total_open_amount', 'baseline_create_date',\n",
       "       'cust_payment_terms', 'converted_usd'],\n",
       "      dtype='object')"
      ]
     },
     "execution_count": 37,
     "metadata": {},
     "output_type": "execute_result"
    }
   ],
   "source": [
    "yearwise.columns"
   ]
  },
  {
   "cell_type": "markdown",
   "id": "05c35904",
   "metadata": {
    "id": "05c35904"
   },
   "source": [
    "### Write the code to delete the following columns \n",
    "\n",
    "- 'invoice_currency'\n",
    "- 'total_open_amount', "
   ]
  },
  {
   "cell_type": "code",
   "execution_count": 38,
   "id": "4ac28aa5",
   "metadata": {
    "id": "4ac28aa5"
   },
   "outputs": [],
   "source": [
    "df = df.drop(['invoice_currency','total_open_amount'], axis = 1)"
   ]
  },
  {
   "cell_type": "markdown",
   "id": "bDBJ_Kvwc086",
   "metadata": {
    "id": "bDBJ_Kvwc086"
   },
   "source": [
    "### Write a code to check the number of columns in dataframe"
   ]
  },
  {
   "cell_type": "code",
   "execution_count": 39,
   "id": "ea360a8c",
   "metadata": {
    "id": "ea360a8c"
   },
   "outputs": [
    {
     "name": "stdout",
     "output_type": "stream",
     "text": [
      "Now the number of columns are:  11\n"
     ]
    }
   ],
   "source": [
    "columns = len(df.axes[1])\n",
    "print(\"Now the number of columns are: \", columns)"
   ]
  },
  {
   "cell_type": "markdown",
   "id": "b8f63655",
   "metadata": {
    "id": "b8f63655"
   },
   "source": [
    "# Splitting the Dataset "
   ]
  },
  {
   "cell_type": "markdown",
   "id": "a00f749d",
   "metadata": {
    "id": "a00f749d"
   },
   "source": [
    "### Look for all columns containing null value\n",
    "\n",
    "- Note - Output expected is only one column "
   ]
  },
  {
   "cell_type": "code",
   "execution_count": 40,
   "id": "2d525f2d",
   "metadata": {},
   "outputs": [
    {
     "data": {
      "text/plain": [
       "business_code           False\n",
       "cust_number             False\n",
       "name_customer           False\n",
       "clear_date               True\n",
       "buisness_year           False\n",
       "doc_id                  False\n",
       "posting_date            False\n",
       "due_in_date             False\n",
       "baseline_create_date    False\n",
       "cust_payment_terms      False\n",
       "converted_usd           False\n",
       "dtype: bool"
      ]
     },
     "execution_count": 40,
     "metadata": {},
     "output_type": "execute_result"
    }
   ],
   "source": [
    "df.isnull().any()"
   ]
  },
  {
   "cell_type": "markdown",
   "id": "a094a290",
   "metadata": {
    "id": "a094a290"
   },
   "source": [
    "#### Find out the number of null values from the column that you got from the above code"
   ]
  },
  {
   "cell_type": "code",
   "execution_count": 41,
   "id": "148c801e",
   "metadata": {
    "id": "148c801e",
    "scrolled": false
   },
   "outputs": [
    {
     "data": {
      "text/plain": [
       "business_code              0\n",
       "cust_number                0\n",
       "name_customer              0\n",
       "clear_date              9681\n",
       "buisness_year              0\n",
       "doc_id                     0\n",
       "posting_date               0\n",
       "due_in_date                0\n",
       "baseline_create_date       0\n",
       "cust_payment_terms         0\n",
       "converted_usd              0\n",
       "dtype: int64"
      ]
     },
     "execution_count": 41,
     "metadata": {},
     "output_type": "execute_result"
    }
   ],
   "source": [
    "df.isnull().sum() #only cleardate has null value which ic important for the project later on"
   ]
  },
  {
   "cell_type": "markdown",
   "id": "7f6d939b",
   "metadata": {
    "id": "7f6d939b"
   },
   "source": [
    "### On basis of the above column we are spliting data into dataset\n",
    "\n",
    "- First dataframe (refer that as maindata) only containing the rows, that have NO NULL data in that column ( This is going to be our train dataset ) \n",
    "- Second dataframe (refer that as nulldata) that contains the columns, that have Null data in that column ( This is going to be our test dataset ) "
   ]
  },
  {
   "cell_type": "markdown",
   "id": "dce920f0",
   "metadata": {},
   "source": [
    "## Maindata"
   ]
  },
  {
   "cell_type": "code",
   "execution_count": 42,
   "id": "be86fae4",
   "metadata": {},
   "outputs": [
    {
     "data": {
      "text/html": [
       "<div>\n",
       "<style scoped>\n",
       "    .dataframe tbody tr th:only-of-type {\n",
       "        vertical-align: middle;\n",
       "    }\n",
       "\n",
       "    .dataframe tbody tr th {\n",
       "        vertical-align: top;\n",
       "    }\n",
       "\n",
       "    .dataframe thead th {\n",
       "        text-align: right;\n",
       "    }\n",
       "</style>\n",
       "<table border=\"1\" class=\"dataframe\">\n",
       "  <thead>\n",
       "    <tr style=\"text-align: right;\">\n",
       "      <th></th>\n",
       "      <th>business_code</th>\n",
       "      <th>cust_number</th>\n",
       "      <th>name_customer</th>\n",
       "      <th>clear_date</th>\n",
       "      <th>buisness_year</th>\n",
       "      <th>doc_id</th>\n",
       "      <th>posting_date</th>\n",
       "      <th>due_in_date</th>\n",
       "      <th>baseline_create_date</th>\n",
       "      <th>cust_payment_terms</th>\n",
       "      <th>converted_usd</th>\n",
       "    </tr>\n",
       "  </thead>\n",
       "  <tbody>\n",
       "    <tr>\n",
       "      <th>0</th>\n",
       "      <td>U001</td>\n",
       "      <td>0200769623</td>\n",
       "      <td>WAL-MAR corp</td>\n",
       "      <td>2020-02-11</td>\n",
       "      <td>2020.0</td>\n",
       "      <td>1.930438e+09</td>\n",
       "      <td>2020-01-26</td>\n",
       "      <td>2020-02-10</td>\n",
       "      <td>2020-01-26</td>\n",
       "      <td>NAH4</td>\n",
       "      <td>54273.28</td>\n",
       "    </tr>\n",
       "    <tr>\n",
       "      <th>1</th>\n",
       "      <td>U001</td>\n",
       "      <td>0200980828</td>\n",
       "      <td>BEN E</td>\n",
       "      <td>2019-08-08</td>\n",
       "      <td>2019.0</td>\n",
       "      <td>1.929646e+09</td>\n",
       "      <td>2019-07-22</td>\n",
       "      <td>2019-08-11</td>\n",
       "      <td>2019-07-22</td>\n",
       "      <td>NAD1</td>\n",
       "      <td>79656.60</td>\n",
       "    </tr>\n",
       "    <tr>\n",
       "      <th>2</th>\n",
       "      <td>U001</td>\n",
       "      <td>0200792734</td>\n",
       "      <td>MDV/ trust</td>\n",
       "      <td>2019-12-30</td>\n",
       "      <td>2019.0</td>\n",
       "      <td>1.929874e+09</td>\n",
       "      <td>2019-09-14</td>\n",
       "      <td>2019-09-29</td>\n",
       "      <td>2019-09-14</td>\n",
       "      <td>NAA8</td>\n",
       "      <td>2253.86</td>\n",
       "    </tr>\n",
       "  </tbody>\n",
       "</table>\n",
       "</div>"
      ],
      "text/plain": [
       "  business_code cust_number name_customer clear_date  buisness_year  \\\n",
       "0          U001  0200769623  WAL-MAR corp 2020-02-11         2020.0   \n",
       "1          U001  0200980828        BEN E  2019-08-08         2019.0   \n",
       "2          U001  0200792734    MDV/ trust 2019-12-30         2019.0   \n",
       "\n",
       "         doc_id posting_date due_in_date baseline_create_date  \\\n",
       "0  1.930438e+09   2020-01-26  2020-02-10           2020-01-26   \n",
       "1  1.929646e+09   2019-07-22  2019-08-11           2019-07-22   \n",
       "2  1.929874e+09   2019-09-14  2019-09-29           2019-09-14   \n",
       "\n",
       "  cust_payment_terms  converted_usd  \n",
       "0               NAH4       54273.28  \n",
       "1               NAD1       79656.60  \n",
       "2               NAA8        2253.86  "
      ]
     },
     "execution_count": 42,
     "metadata": {},
     "output_type": "execute_result"
    }
   ],
   "source": [
    "#First dataframe:: no null data in it:: train dataset\n",
    "maindata = df[df.clear_date.notnull()].reset_index() #train set on non-null clear date\n",
    "maindata.drop(columns=['index'],inplace=True)\n",
    "maindata.head(3)"
   ]
  },
  {
   "cell_type": "markdown",
   "id": "91f83db1",
   "metadata": {},
   "source": [
    "## Nulldata"
   ]
  },
  {
   "cell_type": "code",
   "execution_count": 43,
   "id": "c8764c33",
   "metadata": {
    "id": "c8764c33"
   },
   "outputs": [
    {
     "data": {
      "text/html": [
       "<div>\n",
       "<style scoped>\n",
       "    .dataframe tbody tr th:only-of-type {\n",
       "        vertical-align: middle;\n",
       "    }\n",
       "\n",
       "    .dataframe tbody tr th {\n",
       "        vertical-align: top;\n",
       "    }\n",
       "\n",
       "    .dataframe thead th {\n",
       "        text-align: right;\n",
       "    }\n",
       "</style>\n",
       "<table border=\"1\" class=\"dataframe\">\n",
       "  <thead>\n",
       "    <tr style=\"text-align: right;\">\n",
       "      <th></th>\n",
       "      <th>business_code</th>\n",
       "      <th>cust_number</th>\n",
       "      <th>name_customer</th>\n",
       "      <th>clear_date</th>\n",
       "      <th>buisness_year</th>\n",
       "      <th>doc_id</th>\n",
       "      <th>posting_date</th>\n",
       "      <th>due_in_date</th>\n",
       "      <th>baseline_create_date</th>\n",
       "      <th>cust_payment_terms</th>\n",
       "      <th>converted_usd</th>\n",
       "    </tr>\n",
       "  </thead>\n",
       "  <tbody>\n",
       "    <tr>\n",
       "      <th>0</th>\n",
       "      <td>CA02</td>\n",
       "      <td>0140105686</td>\n",
       "      <td>SYSC llc</td>\n",
       "      <td>NaT</td>\n",
       "      <td>2020.0</td>\n",
       "      <td>2.960623e+09</td>\n",
       "      <td>2020-03-30</td>\n",
       "      <td>2020-04-10</td>\n",
       "      <td>2020-03-31</td>\n",
       "      <td>CA10</td>\n",
       "      <td>2309.79</td>\n",
       "    </tr>\n",
       "    <tr>\n",
       "      <th>1</th>\n",
       "      <td>U001</td>\n",
       "      <td>0200744019</td>\n",
       "      <td>TARG us</td>\n",
       "      <td>NaT</td>\n",
       "      <td>2020.0</td>\n",
       "      <td>1.930659e+09</td>\n",
       "      <td>2020-03-19</td>\n",
       "      <td>2020-04-03</td>\n",
       "      <td>2020-03-19</td>\n",
       "      <td>NAA8</td>\n",
       "      <td>11173.02</td>\n",
       "    </tr>\n",
       "    <tr>\n",
       "      <th>2</th>\n",
       "      <td>U001</td>\n",
       "      <td>0200418007</td>\n",
       "      <td>AM</td>\n",
       "      <td>NaT</td>\n",
       "      <td>2020.0</td>\n",
       "      <td>1.930611e+09</td>\n",
       "      <td>2020-03-11</td>\n",
       "      <td>2020-03-26</td>\n",
       "      <td>2020-03-11</td>\n",
       "      <td>NAA8</td>\n",
       "      <td>3525.59</td>\n",
       "    </tr>\n",
       "  </tbody>\n",
       "</table>\n",
       "</div>"
      ],
      "text/plain": [
       "  business_code cust_number name_customer clear_date  buisness_year  \\\n",
       "0          CA02  0140105686      SYSC llc        NaT         2020.0   \n",
       "1          U001  0200744019       TARG us        NaT         2020.0   \n",
       "2          U001  0200418007           AM         NaT         2020.0   \n",
       "\n",
       "         doc_id posting_date due_in_date baseline_create_date  \\\n",
       "0  2.960623e+09   2020-03-30  2020-04-10           2020-03-31   \n",
       "1  1.930659e+09   2020-03-19  2020-04-03           2020-03-19   \n",
       "2  1.930611e+09   2020-03-11  2020-03-26           2020-03-11   \n",
       "\n",
       "  cust_payment_terms  converted_usd  \n",
       "0               CA10        2309.79  \n",
       "1               NAA8       11173.02  \n",
       "2               NAA8        3525.59  "
      ]
     },
     "execution_count": 43,
     "metadata": {},
     "output_type": "execute_result"
    }
   ],
   "source": [
    "#Second dataframe:: nulldata:: contains nulldata ::test data \n",
    "nulldata = df[df.clear_date.isnull()].reset_index()\n",
    "nulldata.drop(columns=['index'],inplace=True)\n",
    "nulldata.head(3)"
   ]
  },
  {
   "cell_type": "markdown",
   "id": "3P8riRBHd_r6",
   "metadata": {
    "id": "3P8riRBHd_r6"
   },
   "source": [
    "### Check the number of Rows and Columns for both the dataframes "
   ]
  },
  {
   "cell_type": "code",
   "execution_count": 44,
   "id": "0693a464",
   "metadata": {
    "id": "0693a464"
   },
   "outputs": [
    {
     "name": "stdout",
     "output_type": "stream",
     "text": [
      "Number of rows in MAINDATA is:  39158\n",
      "Number of columns in MAINDATA is:  11\n"
     ]
    }
   ],
   "source": [
    "rows = len(maindata.axes[0])\n",
    "print(\"Number of rows in MAINDATA is: \", rows)\n",
    "columns = len(maindata.axes[1])\n",
    "print(\"Number of columns in MAINDATA is: \", columns)"
   ]
  },
  {
   "cell_type": "code",
   "execution_count": 45,
   "id": "7f86bc74",
   "metadata": {
    "id": "7f86bc74"
   },
   "outputs": [
    {
     "name": "stdout",
     "output_type": "stream",
     "text": [
      "Number of rows in NULLDATA is:  9681\n",
      "Number of columns in NULLDATA is:  11\n"
     ]
    }
   ],
   "source": [
    "rows = len(nulldata.axes[0])\n",
    "print(\"Number of rows in NULLDATA is: \", rows)\n",
    "columns = len(nulldata.axes[1])\n",
    "print(\"Number of columns in NULLDATA is: \", columns)"
   ]
  },
  {
   "cell_type": "markdown",
   "id": "0747165d",
   "metadata": {
    "id": "0747165d"
   },
   "source": [
    "### Display the 5 records from maindata and nulldata dataframes"
   ]
  },
  {
   "cell_type": "code",
   "execution_count": 46,
   "id": "dec2ec36",
   "metadata": {
    "id": "dec2ec36"
   },
   "outputs": [
    {
     "data": {
      "text/html": [
       "<div>\n",
       "<style scoped>\n",
       "    .dataframe tbody tr th:only-of-type {\n",
       "        vertical-align: middle;\n",
       "    }\n",
       "\n",
       "    .dataframe tbody tr th {\n",
       "        vertical-align: top;\n",
       "    }\n",
       "\n",
       "    .dataframe thead th {\n",
       "        text-align: right;\n",
       "    }\n",
       "</style>\n",
       "<table border=\"1\" class=\"dataframe\">\n",
       "  <thead>\n",
       "    <tr style=\"text-align: right;\">\n",
       "      <th></th>\n",
       "      <th>business_code</th>\n",
       "      <th>cust_number</th>\n",
       "      <th>name_customer</th>\n",
       "      <th>clear_date</th>\n",
       "      <th>buisness_year</th>\n",
       "      <th>doc_id</th>\n",
       "      <th>posting_date</th>\n",
       "      <th>due_in_date</th>\n",
       "      <th>baseline_create_date</th>\n",
       "      <th>cust_payment_terms</th>\n",
       "      <th>converted_usd</th>\n",
       "    </tr>\n",
       "  </thead>\n",
       "  <tbody>\n",
       "    <tr>\n",
       "      <th>0</th>\n",
       "      <td>U001</td>\n",
       "      <td>0200769623</td>\n",
       "      <td>WAL-MAR corp</td>\n",
       "      <td>2020-02-11</td>\n",
       "      <td>2020.0</td>\n",
       "      <td>1.930438e+09</td>\n",
       "      <td>2020-01-26</td>\n",
       "      <td>2020-02-10</td>\n",
       "      <td>2020-01-26</td>\n",
       "      <td>NAH4</td>\n",
       "      <td>54273.280</td>\n",
       "    </tr>\n",
       "    <tr>\n",
       "      <th>1</th>\n",
       "      <td>U001</td>\n",
       "      <td>0200980828</td>\n",
       "      <td>BEN E</td>\n",
       "      <td>2019-08-08</td>\n",
       "      <td>2019.0</td>\n",
       "      <td>1.929646e+09</td>\n",
       "      <td>2019-07-22</td>\n",
       "      <td>2019-08-11</td>\n",
       "      <td>2019-07-22</td>\n",
       "      <td>NAD1</td>\n",
       "      <td>79656.600</td>\n",
       "    </tr>\n",
       "    <tr>\n",
       "      <th>2</th>\n",
       "      <td>U001</td>\n",
       "      <td>0200792734</td>\n",
       "      <td>MDV/ trust</td>\n",
       "      <td>2019-12-30</td>\n",
       "      <td>2019.0</td>\n",
       "      <td>1.929874e+09</td>\n",
       "      <td>2019-09-14</td>\n",
       "      <td>2019-09-29</td>\n",
       "      <td>2019-09-14</td>\n",
       "      <td>NAA8</td>\n",
       "      <td>2253.860</td>\n",
       "    </tr>\n",
       "    <tr>\n",
       "      <th>3</th>\n",
       "      <td>U001</td>\n",
       "      <td>0200769623</td>\n",
       "      <td>WAL-MAR foundation</td>\n",
       "      <td>2019-11-25</td>\n",
       "      <td>2019.0</td>\n",
       "      <td>1.930148e+09</td>\n",
       "      <td>2019-11-13</td>\n",
       "      <td>2019-11-28</td>\n",
       "      <td>2019-11-13</td>\n",
       "      <td>NAH4</td>\n",
       "      <td>33133.290</td>\n",
       "    </tr>\n",
       "    <tr>\n",
       "      <th>4</th>\n",
       "      <td>CA02</td>\n",
       "      <td>0140106181</td>\n",
       "      <td>THE  corporation</td>\n",
       "      <td>2019-12-04</td>\n",
       "      <td>2019.0</td>\n",
       "      <td>2.960581e+09</td>\n",
       "      <td>2019-09-20</td>\n",
       "      <td>2019-10-04</td>\n",
       "      <td>2019-09-24</td>\n",
       "      <td>CA10</td>\n",
       "      <td>15558.088</td>\n",
       "    </tr>\n",
       "  </tbody>\n",
       "</table>\n",
       "</div>"
      ],
      "text/plain": [
       "  business_code cust_number       name_customer clear_date  buisness_year  \\\n",
       "0          U001  0200769623        WAL-MAR corp 2020-02-11         2020.0   \n",
       "1          U001  0200980828              BEN E  2019-08-08         2019.0   \n",
       "2          U001  0200792734          MDV/ trust 2019-12-30         2019.0   \n",
       "3          U001  0200769623  WAL-MAR foundation 2019-11-25         2019.0   \n",
       "4          CA02  0140106181    THE  corporation 2019-12-04         2019.0   \n",
       "\n",
       "         doc_id posting_date due_in_date baseline_create_date  \\\n",
       "0  1.930438e+09   2020-01-26  2020-02-10           2020-01-26   \n",
       "1  1.929646e+09   2019-07-22  2019-08-11           2019-07-22   \n",
       "2  1.929874e+09   2019-09-14  2019-09-29           2019-09-14   \n",
       "3  1.930148e+09   2019-11-13  2019-11-28           2019-11-13   \n",
       "4  2.960581e+09   2019-09-20  2019-10-04           2019-09-24   \n",
       "\n",
       "  cust_payment_terms  converted_usd  \n",
       "0               NAH4      54273.280  \n",
       "1               NAD1      79656.600  \n",
       "2               NAA8       2253.860  \n",
       "3               NAH4      33133.290  \n",
       "4               CA10      15558.088  "
      ]
     },
     "execution_count": 46,
     "metadata": {},
     "output_type": "execute_result"
    }
   ],
   "source": [
    "maindata.head(5)"
   ]
  },
  {
   "cell_type": "code",
   "execution_count": 47,
   "id": "eee2d68a",
   "metadata": {
    "id": "eee2d68a"
   },
   "outputs": [
    {
     "data": {
      "text/html": [
       "<div>\n",
       "<style scoped>\n",
       "    .dataframe tbody tr th:only-of-type {\n",
       "        vertical-align: middle;\n",
       "    }\n",
       "\n",
       "    .dataframe tbody tr th {\n",
       "        vertical-align: top;\n",
       "    }\n",
       "\n",
       "    .dataframe thead th {\n",
       "        text-align: right;\n",
       "    }\n",
       "</style>\n",
       "<table border=\"1\" class=\"dataframe\">\n",
       "  <thead>\n",
       "    <tr style=\"text-align: right;\">\n",
       "      <th></th>\n",
       "      <th>business_code</th>\n",
       "      <th>cust_number</th>\n",
       "      <th>name_customer</th>\n",
       "      <th>clear_date</th>\n",
       "      <th>buisness_year</th>\n",
       "      <th>doc_id</th>\n",
       "      <th>posting_date</th>\n",
       "      <th>due_in_date</th>\n",
       "      <th>baseline_create_date</th>\n",
       "      <th>cust_payment_terms</th>\n",
       "      <th>converted_usd</th>\n",
       "    </tr>\n",
       "  </thead>\n",
       "  <tbody>\n",
       "    <tr>\n",
       "      <th>0</th>\n",
       "      <td>CA02</td>\n",
       "      <td>0140105686</td>\n",
       "      <td>SYSC llc</td>\n",
       "      <td>NaT</td>\n",
       "      <td>2020.0</td>\n",
       "      <td>2.960623e+09</td>\n",
       "      <td>2020-03-30</td>\n",
       "      <td>2020-04-10</td>\n",
       "      <td>2020-03-31</td>\n",
       "      <td>CA10</td>\n",
       "      <td>2309.79</td>\n",
       "    </tr>\n",
       "    <tr>\n",
       "      <th>1</th>\n",
       "      <td>U001</td>\n",
       "      <td>0200744019</td>\n",
       "      <td>TARG us</td>\n",
       "      <td>NaT</td>\n",
       "      <td>2020.0</td>\n",
       "      <td>1.930659e+09</td>\n",
       "      <td>2020-03-19</td>\n",
       "      <td>2020-04-03</td>\n",
       "      <td>2020-03-19</td>\n",
       "      <td>NAA8</td>\n",
       "      <td>11173.02</td>\n",
       "    </tr>\n",
       "    <tr>\n",
       "      <th>2</th>\n",
       "      <td>U001</td>\n",
       "      <td>0200418007</td>\n",
       "      <td>AM</td>\n",
       "      <td>NaT</td>\n",
       "      <td>2020.0</td>\n",
       "      <td>1.930611e+09</td>\n",
       "      <td>2020-03-11</td>\n",
       "      <td>2020-03-26</td>\n",
       "      <td>2020-03-11</td>\n",
       "      <td>NAA8</td>\n",
       "      <td>3525.59</td>\n",
       "    </tr>\n",
       "    <tr>\n",
       "      <th>3</th>\n",
       "      <td>U001</td>\n",
       "      <td>0200739534</td>\n",
       "      <td>OK systems</td>\n",
       "      <td>NaT</td>\n",
       "      <td>2020.0</td>\n",
       "      <td>1.930788e+09</td>\n",
       "      <td>2020-04-15</td>\n",
       "      <td>2020-04-30</td>\n",
       "      <td>2020-04-15</td>\n",
       "      <td>NAA8</td>\n",
       "      <td>121105.65</td>\n",
       "    </tr>\n",
       "    <tr>\n",
       "      <th>4</th>\n",
       "      <td>U001</td>\n",
       "      <td>0200353024</td>\n",
       "      <td>DECA corporation</td>\n",
       "      <td>NaT</td>\n",
       "      <td>2020.0</td>\n",
       "      <td>1.930817e+09</td>\n",
       "      <td>2020-04-23</td>\n",
       "      <td>2020-04-26</td>\n",
       "      <td>2020-04-16</td>\n",
       "      <td>NAM2</td>\n",
       "      <td>3726.06</td>\n",
       "    </tr>\n",
       "  </tbody>\n",
       "</table>\n",
       "</div>"
      ],
      "text/plain": [
       "  business_code cust_number     name_customer clear_date  buisness_year  \\\n",
       "0          CA02  0140105686          SYSC llc        NaT         2020.0   \n",
       "1          U001  0200744019           TARG us        NaT         2020.0   \n",
       "2          U001  0200418007               AM         NaT         2020.0   \n",
       "3          U001  0200739534        OK systems        NaT         2020.0   \n",
       "4          U001  0200353024  DECA corporation        NaT         2020.0   \n",
       "\n",
       "         doc_id posting_date due_in_date baseline_create_date  \\\n",
       "0  2.960623e+09   2020-03-30  2020-04-10           2020-03-31   \n",
       "1  1.930659e+09   2020-03-19  2020-04-03           2020-03-19   \n",
       "2  1.930611e+09   2020-03-11  2020-03-26           2020-03-11   \n",
       "3  1.930788e+09   2020-04-15  2020-04-30           2020-04-15   \n",
       "4  1.930817e+09   2020-04-23  2020-04-26           2020-04-16   \n",
       "\n",
       "  cust_payment_terms  converted_usd  \n",
       "0               CA10        2309.79  \n",
       "1               NAA8       11173.02  \n",
       "2               NAA8        3525.59  \n",
       "3               NAA8      121105.65  \n",
       "4               NAM2        3726.06  "
      ]
     },
     "execution_count": 47,
     "metadata": {},
     "output_type": "execute_result"
    }
   ],
   "source": [
    "nulldata.head(5)"
   ]
  },
  {
   "cell_type": "markdown",
   "id": "24aa6746",
   "metadata": {
    "id": "24aa6746"
   },
   "source": [
    "## Considering the **maindata**"
   ]
  },
  {
   "cell_type": "markdown",
   "id": "f92c4aa7",
   "metadata": {
    "id": "f92c4aa7"
   },
   "source": [
    "#### Generate a new column \"Delay\" from the existing columns\n",
    "\n",
    "- Note - You are expected to create a new column 'Delay' from two existing columns, \"clear_date\" and \"due_in_date\" \n",
    "- Formula - Delay = clear_date - due_in_date"
   ]
  },
  {
   "cell_type": "code",
   "execution_count": 48,
   "id": "8eeceb9c",
   "metadata": {
    "id": "8eeceb9c"
   },
   "outputs": [],
   "source": [
    "maindata['Delay']=maindata.loc[:,'clear_date']-maindata.loc[:,'due_in_date']\n",
    "#Our model cant take in dates for prediction so our target column will not be clear_date. Instead it will be the delay column as delay will be in int format which our model can predict.\n",
    "#clear_date - due_date will tell us how much delay was there in paying.\n",
    "#\"-\" indicates it has been paid off before due date. \"+\" indicates it has been paid off after the due date"
   ]
  },
  {
   "cell_type": "markdown",
   "id": "f482144e",
   "metadata": {
    "id": "f482144e"
   },
   "source": [
    "### Generate a new column \"avgdelay\" from the existing columns\n",
    "\n",
    "- Note - You are expected to make a new column \"avgdelay\" by grouping \"name_customer\" column with reapect to mean of the \"Delay\" column.\n",
    "- This new column \"avg_delay\" is meant to store \"customer_name\" wise delay\n",
    "- groupby('name_customer')['Delay'].mean(numeric_only=False)\n",
    "- Display the new \"avg_delay\" column"
   ]
  },
  {
   "cell_type": "code",
   "execution_count": 49,
   "id": "d18d2f8d",
   "metadata": {
    "id": "d18d2f8d"
   },
   "outputs": [
    {
     "data": {
      "text/plain": [
       "{'11078 us': Timedelta('17 days 00:00:00'),\n",
       " '17135 associates': Timedelta('-10 days +00:00:00'),\n",
       " '17135 llc': Timedelta('-3 days +00:00:00'),\n",
       " '236008 associates': Timedelta('-3 days +00:00:00'),\n",
       " '99 CE ': Timedelta('2 days 00:00:00'),\n",
       " '99 CE associates': Timedelta('2 days 00:00:00'),\n",
       " '99 CE co': Timedelta('3 days 00:00:00'),\n",
       " '99 CE corporation': Timedelta('1 days 00:00:00'),\n",
       " '99 CE foundation': Timedelta('9 days 00:00:00'),\n",
       " '99 CE in': Timedelta('2 days 00:00:00'),\n",
       " '99 CE llc': Timedelta('3 days 00:00:00'),\n",
       " '99 CE systems': Timedelta('2 days 14:24:00'),\n",
       " '99 CE trust': Timedelta('1 days 00:00:00'),\n",
       " '99 CE us': Timedelta('1 days 00:00:00'),\n",
       " 'A & W F ': Timedelta('2 days 00:00:00'),\n",
       " 'A & W F associates': Timedelta('1 days 12:00:00'),\n",
       " 'A & W F co': Timedelta('-5 days +12:00:00'),\n",
       " 'A & W F corp': Timedelta('0 days 00:00:00'),\n",
       " 'A & W F corporation': Timedelta('-1 days +09:36:00'),\n",
       " 'A & W F foundation': Timedelta('1 days 08:00:00'),\n",
       " 'A & W F llc': Timedelta('1 days 12:00:00'),\n",
       " 'A & W F systems': Timedelta('6 days 00:00:00'),\n",
       " 'A & W F trust': Timedelta('3 days 00:00:00'),\n",
       " 'A & W F us': Timedelta('-2 days +16:00:00'),\n",
       " 'A LA CAR corp': Timedelta('-8 days +00:00:00'),\n",
       " 'ABC B corporation': Timedelta('4 days 00:00:00'),\n",
       " 'ACE  associates': Timedelta('2 days 00:00:00'),\n",
       " 'ACE  co': Timedelta('-3 days +00:00:00'),\n",
       " 'ACE  corporation': Timedelta('0 days 00:00:00'),\n",
       " 'ACE  systems': Timedelta('0 days 00:00:00'),\n",
       " 'ACTIVE M co': Timedelta('17 days 00:00:00'),\n",
       " 'AFFI ': Timedelta('-5 days +00:00:00'),\n",
       " 'AFFI associates': Timedelta('-5 days +12:00:00'),\n",
       " 'AFFI corporation': Timedelta('-1 days +00:00:00'),\n",
       " 'AFFI foundation': Timedelta('-5 days +12:00:00'),\n",
       " 'AFFI llc': Timedelta('1 days 00:00:00'),\n",
       " 'AFFI us': Timedelta('-7 days +12:00:00'),\n",
       " 'AFFILI ': Timedelta('-4 days +00:00:00'),\n",
       " 'AFFILI associates': Timedelta('-5 days +00:00:00'),\n",
       " 'AFFILI co': Timedelta('-7 days +19:12:00'),\n",
       " 'AFFILI corp': Timedelta('-6 days +00:00:00'),\n",
       " 'AFFILI corporation': Timedelta('-31 days +00:00:00'),\n",
       " 'AFFILI foundation': Timedelta('-5 days +08:00:00'),\n",
       " 'AFFILI in': Timedelta('-2 days +00:00:00'),\n",
       " 'AFFILI llc': Timedelta('-5 days +08:00:00'),\n",
       " 'AFFILI systems': Timedelta('-11 days +09:36:00'),\n",
       " 'AFFILI trust': Timedelta('-7 days +13:42:51.428571429'),\n",
       " 'AFFILI us': Timedelta('-6 days +16:00:00'),\n",
       " 'AGR ': Timedelta('-13 days +00:00:00'),\n",
       " 'AGR associates': Timedelta('-18 days +00:00:00'),\n",
       " 'AGR co': Timedelta('-5 days +08:00:00'),\n",
       " 'AGR corp': Timedelta('-18 days +16:00:00'),\n",
       " 'AGR corporation': Timedelta('-18 days +00:00:00'),\n",
       " 'AGR foundation': Timedelta('-13 days +08:00:00'),\n",
       " 'AGR in': Timedelta('-13 days +12:00:00'),\n",
       " 'AGR llc': Timedelta('-15 days +16:00:00'),\n",
       " 'AGR systems': Timedelta('-13 days +00:00:00'),\n",
       " 'AGR trust': Timedelta('-15 days +12:00:00'),\n",
       " 'AGR us': Timedelta('-13 days +06:00:00'),\n",
       " 'AIR C co': Timedelta('20 days 00:00:00'),\n",
       " 'AJINOMO corporation': Timedelta('6 days 00:00:00'),\n",
       " 'AL ': Timedelta('0 days 05:32:18.461538461'),\n",
       " 'AL MAJ corp': Timedelta('115 days 00:00:00'),\n",
       " 'AL MAJ in': Timedelta('3 days 00:00:00'),\n",
       " 'AL associates': Timedelta('0 days 16:00:00'),\n",
       " 'AL co': Timedelta('1 days 00:00:00'),\n",
       " 'AL corp': Timedelta('2 days 00:00:00'),\n",
       " 'AL corporation': Timedelta('1 days 09:00:00'),\n",
       " 'AL foundation': Timedelta('1 days 00:00:00'),\n",
       " 'AL in': Timedelta('-8 days +06:51:25.714285715'),\n",
       " 'AL llc': Timedelta('1 days 12:00:00'),\n",
       " 'AL systems': Timedelta('0 days 02:00:00'),\n",
       " 'AL trust': Timedelta('0 days 08:00:00'),\n",
       " 'AL us': Timedelta('0 days 02:24:00'),\n",
       " 'ALBE corporation': Timedelta('0 days 00:00:00'),\n",
       " 'ALBER ': Timedelta('0 days 10:40:00'),\n",
       " 'ALBER associates': Timedelta('0 days 08:00:00'),\n",
       " 'ALBER co': Timedelta('0 days 19:38:10.909090909'),\n",
       " 'ALBER corp': Timedelta('0 days 03:25:42.857142857'),\n",
       " 'ALBER corporation': Timedelta('10 days 18:00:00'),\n",
       " 'ALBER foundation': Timedelta('0 days 06:32:43.636363636'),\n",
       " 'ALBER in': Timedelta('0 days 12:00:00'),\n",
       " 'ALBER llc': Timedelta('0 days 13:05:27.272727272'),\n",
       " 'ALBER systems': Timedelta('0 days 18:00:00'),\n",
       " 'ALBER trust': Timedelta('0 days 03:00:00'),\n",
       " 'ALBER us': Timedelta('0 days 13:05:27.272727272'),\n",
       " 'ALBERT ': Timedelta('1 days 00:00:00'),\n",
       " 'ALBERT associates': Timedelta('0 days 19:12:00'),\n",
       " 'ALBERT co': Timedelta('0 days 04:48:00'),\n",
       " 'ALBERT corp': Timedelta('0 days 12:28:48'),\n",
       " 'ALBERT corporation': Timedelta('2 days 02:24:00'),\n",
       " 'ALBERT foundation': Timedelta('0 days 18:46:57.391304347'),\n",
       " 'ALBERT in': Timedelta('0 days 09:49:05.454545454'),\n",
       " 'ALBERT llc': Timedelta('0 days 09:00:00'),\n",
       " 'ALBERT systems': Timedelta('0 days 16:21:49.090909090'),\n",
       " 'ALBERT trust': Timedelta('-1 days +12:00:00'),\n",
       " 'ALBERT us': Timedelta('0 days 20:00:00'),\n",
       " 'ALD corporation': Timedelta('0 days 00:00:00'),\n",
       " 'ALI ': Timedelta('-1 days +00:00:00'),\n",
       " 'ALI in': Timedelta('-2 days +00:00:00'),\n",
       " 'ALI llc': Timedelta('-2 days +12:00:00'),\n",
       " 'ALI us': Timedelta('-1 days +00:00:00'),\n",
       " 'ALIME corporation': Timedelta('-1 days +00:00:00'),\n",
       " 'ALIMEN ': Timedelta('-8 days +00:00:00'),\n",
       " 'ALIMEN corporation': Timedelta('0 days 00:00:00'),\n",
       " 'ALIMEN foundation': Timedelta('0 days 00:00:00'),\n",
       " 'ALIMEN trust': Timedelta('-5 days +00:00:00'),\n",
       " 'ALL co': Timedelta('0 days 00:00:00'),\n",
       " 'ALLE associates': Timedelta('0 days 00:00:00'),\n",
       " 'ALLIED co': Timedelta('2 days 00:00:00'),\n",
       " 'ALP systems': Timedelta('-4 days +00:00:00'),\n",
       " 'ALVARE trust': Timedelta('9 days 00:00:00'),\n",
       " 'AM ': Timedelta('-4 days +19:38:10.909090910'),\n",
       " 'AM associates': Timedelta('1 days 17:51:37.674418604'),\n",
       " 'AM co': Timedelta('-4 days +01:13:50.769230770'),\n",
       " 'AM corp': Timedelta('-3 days +20:12:37.894736843'),\n",
       " 'AM corporation': Timedelta('-3 days +17:38:49.411764706'),\n",
       " 'AM foundation': Timedelta('0 days 16:14:07.058823529'),\n",
       " 'AM in': Timedelta('-3 days +00:29:23.265306123'),\n",
       " 'AM llc': Timedelta('-3 days +15:20:00'),\n",
       " 'AM systems': Timedelta('2 days 16:12:58.378378378'),\n",
       " 'AM trust': Timedelta('-11 days +09:36:00'),\n",
       " 'AM us': Timedelta('1 days 04:25:15.789473684'),\n",
       " 'AMALGA ': Timedelta('-6 days +00:00:00'),\n",
       " 'AMALGA corp': Timedelta('-3 days +00:00:00'),\n",
       " 'AMALGA in': Timedelta('-4 days +00:00:00'),\n",
       " 'AMALGA llc': Timedelta('-4 days +00:00:00'),\n",
       " 'AMALGA systems': Timedelta('-5 days +00:00:00'),\n",
       " 'AMAZO ': Timedelta('44 days 00:00:00'),\n",
       " 'AMAZO associates': Timedelta('6 days 04:00:00'),\n",
       " 'AMAZO co': Timedelta('10 days 00:00:00'),\n",
       " 'AMAZO corp': Timedelta('4 days 16:00:00'),\n",
       " 'AMAZO corporation': Timedelta('3 days 08:00:00'),\n",
       " 'AMAZO foundation': Timedelta('3 days 19:12:00'),\n",
       " 'AMAZO in': Timedelta('0 days 00:00:00'),\n",
       " 'AMAZO llc': Timedelta('6 days 12:00:00'),\n",
       " 'AMAZO systems': Timedelta('3 days 16:00:00'),\n",
       " 'AMAZO trust': Timedelta('3 days 00:00:00'),\n",
       " 'AMAZO us': Timedelta('9 days 00:00:00'),\n",
       " 'AMERIC ': Timedelta('-2 days +00:00:00'),\n",
       " 'AMERIC associates': Timedelta('2 days 00:00:00'),\n",
       " 'AMERIC co': Timedelta('1 days 00:00:00'),\n",
       " 'AMERIC corporation': Timedelta('-6 days +00:00:00'),\n",
       " 'AMERIC foundation': Timedelta('-5 days +12:00:00'),\n",
       " 'AMERIC llc': Timedelta('-1 days +00:00:00'),\n",
       " 'AMERIC trust': Timedelta('-1 days +00:00:00'),\n",
       " 'AMERIC us': Timedelta('-2 days +00:00:00'),\n",
       " 'AMERICAN trust': Timedelta('1 days 00:00:00'),\n",
       " 'AMI co': Timedelta('8 days 00:00:00'),\n",
       " 'AMI in': Timedelta('16 days 00:00:00'),\n",
       " 'AMI llc': Timedelta('5 days 00:00:00'),\n",
       " 'AMY associates': Timedelta('-5 days +00:00:00'),\n",
       " 'AMY co': Timedelta('-2 days +00:00:00'),\n",
       " 'AMY corp': Timedelta('-2 days +00:00:00'),\n",
       " 'AMY foundation': Timedelta('25 days 00:00:00'),\n",
       " 'AMY in': Timedelta('9 days 00:00:00'),\n",
       " 'AMY llc': Timedelta('13 days 00:00:00'),\n",
       " 'AMY systems': Timedelta('7 days 00:00:00'),\n",
       " 'AMY us': Timedelta('1 days 00:00:00'),\n",
       " 'AN in': Timedelta('-1 days +00:00:00'),\n",
       " 'ANHA ': Timedelta('-3 days +00:00:00'),\n",
       " 'ANHA co': Timedelta('-2 days +00:00:00'),\n",
       " 'ANHA foundation': Timedelta('-5 days +12:00:00'),\n",
       " 'ANHA in': Timedelta('0 days 00:00:00'),\n",
       " 'ANHA llc': Timedelta('-13 days +00:00:00'),\n",
       " 'ANTONIO corp': Timedelta('4 days 00:00:00'),\n",
       " 'ANTONIO llc': Timedelta('-1 days +00:00:00'),\n",
       " 'ANTONIO trust': Timedelta('2 days 00:00:00'),\n",
       " 'AOF SER co': Timedelta('-1 days +00:00:00'),\n",
       " 'AOF SER corporation': Timedelta('-2 days +12:00:00'),\n",
       " 'AOF SER foundation': Timedelta('-3 days +00:00:00'),\n",
       " 'AOF SER systems': Timedelta('-2 days +00:00:00'),\n",
       " 'APPE ': Timedelta('2 days 00:00:00'),\n",
       " 'APPE associates': Timedelta('3 days 12:00:00'),\n",
       " 'APPE co': Timedelta('6 days 00:00:00'),\n",
       " 'APPE corp': Timedelta('0 days 00:00:00'),\n",
       " 'APPE corporation': Timedelta('0 days 00:00:00'),\n",
       " 'APPE in': Timedelta('3 days 00:00:00'),\n",
       " 'APPE systems': Timedelta('2 days 00:00:00'),\n",
       " 'APPE trust': Timedelta('0 days 00:00:00'),\n",
       " 'AR co': Timedelta('4 days 00:00:00'),\n",
       " 'AR corporation': Timedelta('6 days 00:00:00'),\n",
       " 'AR foundation': Timedelta('2 days 00:00:00'),\n",
       " 'AR systems': Timedelta('2 days 00:00:00'),\n",
       " 'AR us': Timedelta('-5 days +00:00:00'),\n",
       " 'ARIZON co': Timedelta('4 days 00:00:00'),\n",
       " 'ARKANS associates': Timedelta('1 days 00:00:00'),\n",
       " 'ARKANS systems': Timedelta('-5 days +00:00:00'),\n",
       " 'ARMY associates': Timedelta('12 days 16:00:00'),\n",
       " 'ARMY co': Timedelta('17 days 00:00:00'),\n",
       " 'ARMY corporation': Timedelta('0 days 00:00:00'),\n",
       " 'ARMY systems': Timedelta('8 days 12:00:00'),\n",
       " 'ARMY trust': Timedelta('16 days 00:00:00'),\n",
       " 'ARMY us': Timedelta('7 days 00:00:00'),\n",
       " 'ASSOC G ': Timedelta('-1 days +18:00:00'),\n",
       " 'ASSOC G associates': Timedelta('2 days 16:00:00'),\n",
       " 'ASSOC G co': Timedelta('-2 days +00:00:00'),\n",
       " 'ASSOC G corp': Timedelta('-1 days +20:00:00'),\n",
       " 'ASSOC G foundation': Timedelta('-2 days +00:00:00'),\n",
       " 'ASSOC G in': Timedelta('-1 days +08:00:00'),\n",
       " 'ASSOC G llc': Timedelta('-1 days +00:00:00'),\n",
       " 'ASSOC G systems': Timedelta('0 days 00:00:00'),\n",
       " 'ASSOC G trust': Timedelta('2 days 00:00:00'),\n",
       " 'ASSOCI ': Timedelta('4 days 09:36:00'),\n",
       " 'ASSOCI associates': Timedelta('0 days 00:00:00'),\n",
       " 'ASSOCI co': Timedelta('4 days 18:00:00'),\n",
       " 'ASSOCI corp': Timedelta('0 days 00:00:00'),\n",
       " 'ASSOCI corporation': Timedelta('-1 days +18:00:00'),\n",
       " 'ASSOCI foundation': Timedelta('0 days 12:00:00'),\n",
       " 'ASSOCI in': Timedelta('0 days 06:00:00'),\n",
       " 'ASSOCI llc': Timedelta('0 days 00:00:00'),\n",
       " 'ASSOCI systems': Timedelta('-1 days +06:00:00'),\n",
       " 'ASSOCI trust': Timedelta('4 days 00:00:00'),\n",
       " 'ASSOCI us': Timedelta('1 days 00:00:00'),\n",
       " 'ASSOCIA ': Timedelta('11 days 00:00:00'),\n",
       " 'ASSOCIA associates': Timedelta('2 days 00:00:00'),\n",
       " 'ASSOCIA co': Timedelta('1 days 09:36:00'),\n",
       " 'ASSOCIA corp': Timedelta('1 days 08:00:00'),\n",
       " 'ASSOCIA corporation': Timedelta('8 days 08:00:00'),\n",
       " 'ASSOCIA foundation': Timedelta('3 days 06:00:00'),\n",
       " 'ASSOCIA in': Timedelta('4 days 00:00:00'),\n",
       " 'ASSOCIA llc': Timedelta('4 days 08:00:00'),\n",
       " 'ASSOCIA systems': Timedelta('3 days 09:36:00'),\n",
       " 'ASSOCIA trust': Timedelta('2 days 00:00:00'),\n",
       " 'ASSOCIA us': Timedelta('7 days 12:00:00'),\n",
       " 'ASSOCIAT ': Timedelta('1 days 01:23:28.695652173'),\n",
       " 'ASSOCIAT associates': Timedelta('2 days 06:51:25.714285714'),\n",
       " 'ASSOCIAT co': Timedelta('1 days 05:17:38.823529411'),\n",
       " 'ASSOCIAT corp': Timedelta('1 days 02:12:55.384615384'),\n",
       " 'ASSOCIAT corporation': Timedelta('1 days 03:40:00'),\n",
       " 'ASSOCIAT foundation': Timedelta('0 days 21:38:01.690140845'),\n",
       " 'ASSOCIAT in': Timedelta('3 days 11:04:36.923076923'),\n",
       " 'ASSOCIAT llc': Timedelta('2 days 07:36:00'),\n",
       " 'ASSOCIAT systems': Timedelta('2 days 08:40:00'),\n",
       " 'ASSOCIAT trust': Timedelta('1 days 00:29:23.265306122'),\n",
       " 'ASSOCIAT us': Timedelta('0 days 18:31:34.736842105'),\n",
       " 'ASTR co': Timedelta('18 days 12:00:00'),\n",
       " 'ASTR corp': Timedelta('59 days 00:00:00'),\n",
       " 'ATLANT ': Timedelta('-2 days +16:00:00'),\n",
       " 'ATLANT co': Timedelta('1 days 12:00:00'),\n",
       " 'ATLANT corp': Timedelta('0 days 00:00:00'),\n",
       " 'ATLANT corporation': Timedelta('0 days 00:00:00'),\n",
       " 'ATLANT foundation': Timedelta('0 days 08:00:00'),\n",
       " 'ATLANT in': Timedelta('0 days 19:12:00'),\n",
       " 'ATLANT llc': Timedelta('4 days 00:00:00'),\n",
       " 'ATLANT systems': Timedelta('-1 days +00:00:00'),\n",
       " 'ATLANT trust': Timedelta('-1 days +00:00:00'),\n",
       " 'ATLANT us': Timedelta('16 days 00:00:00'),\n",
       " 'ATLANTA  corp': Timedelta('5 days 00:00:00'),\n",
       " 'ATLANTA  corporation': Timedelta('6 days 00:00:00'),\n",
       " 'ATLANTA  in': Timedelta('6 days 00:00:00'),\n",
       " 'ATLANTA  trust': Timedelta('8 days 16:00:00'),\n",
       " 'ATLANTA  us': Timedelta('9 days 00:00:00'),\n",
       " 'ATLAS W foundation': Timedelta('2 days 00:00:00'),\n",
       " 'ATLAS W systems': Timedelta('-11 days +00:00:00'),\n",
       " 'AUTO in': Timedelta('-3 days +00:00:00'),\n",
       " 'AVRO associates': Timedelta('-3 days +00:00:00'),\n",
       " 'AVRO corporation': Timedelta('1 days 00:00:00'),\n",
       " 'B C C foundation': Timedelta('-1 days +00:00:00'),\n",
       " 'B FERN ': Timedelta('4 days 00:00:00'),\n",
       " 'B FERN associates': Timedelta('4 days 12:00:00'),\n",
       " 'B FERN in': Timedelta('2 days 00:00:00'),\n",
       " 'B K MI us': Timedelta('0 days 00:00:00'),\n",
       " 'BAKE foundation': Timedelta('0 days 00:00:00'),\n",
       " 'BAKEMAR ': Timedelta('0 days 12:00:00'),\n",
       " 'BAKEMAR associates': Timedelta('6 days 00:00:00'),\n",
       " 'BAKEMAR co': Timedelta('3 days 00:00:00'),\n",
       " 'BAKEMAR corporation': Timedelta('6 days 00:00:00'),\n",
       " 'BAKEMAR in': Timedelta('4 days 00:00:00'),\n",
       " 'BAKEMAR us': Timedelta('7 days 00:00:00'),\n",
       " 'BALLES corp': Timedelta('2 days 00:00:00'),\n",
       " 'BALLES in': Timedelta('7 days 00:00:00'),\n",
       " 'BANNER associates': Timedelta('0 days 00:00:00'),\n",
       " 'BANNER trust': Timedelta('3 days 00:00:00'),\n",
       " 'BAR associates': Timedelta('-1 days +00:00:00'),\n",
       " 'BAR co': Timedelta('0 days 00:00:00'),\n",
       " 'BAR corp': Timedelta('0 days 00:00:00'),\n",
       " 'BAR corporation': Timedelta('-2 days +00:00:00'),\n",
       " 'BAR foundation': Timedelta('0 days 00:00:00'),\n",
       " 'BAR in': Timedelta('0 days 00:00:00'),\n",
       " 'BAR llc': Timedelta('0 days 00:00:00'),\n",
       " 'BAR systems': Timedelta('0 days 00:00:00'),\n",
       " 'BAR us': Timedelta('1 days 12:00:00'),\n",
       " 'BARB associates': Timedelta('-10 days +00:00:00'),\n",
       " 'BARB co': Timedelta('-7 days +00:00:00'),\n",
       " 'BARB foundation': Timedelta('7 days 00:00:00'),\n",
       " 'BARGAIN  ': Timedelta('0 days 20:00:00'),\n",
       " 'BARGAIN  associates': Timedelta('3 days 12:00:00'),\n",
       " 'BARGAIN  co': Timedelta('3 days 04:48:00'),\n",
       " 'BARGAIN  corp': Timedelta('1 days 20:00:00'),\n",
       " 'BARGAIN  corporation': Timedelta('1 days 21:00:00'),\n",
       " 'BARGAIN  foundation': Timedelta('4 days 00:00:00'),\n",
       " 'BARGAIN  in': Timedelta('2 days 06:51:25.714285714'),\n",
       " 'BARGAIN  llc': Timedelta('4 days 16:00:00'),\n",
       " 'BARGAIN  systems': Timedelta('4 days 00:00:00'),\n",
       " 'BARGAIN  trust': Timedelta('2 days 12:00:00'),\n",
       " 'BARGAIN  us': Timedelta('4 days 00:00:00'),\n",
       " 'BART corporation': Timedelta('3 days 00:00:00'),\n",
       " 'BAS ': Timedelta('-3 days +12:00:00'),\n",
       " 'BAS associates': Timedelta('-1 days +06:00:00'),\n",
       " 'BAS co': Timedelta('-1 days +06:00:00'),\n",
       " 'BAS corp': Timedelta('-2 days +18:00:00'),\n",
       " 'BAS corporation': Timedelta('-1 days +12:00:00'),\n",
       " 'BAS foundation': Timedelta('-1 days +16:00:00'),\n",
       " 'BAS in': Timedelta('-1 days +00:00:00'),\n",
       " 'BAS llc': Timedelta('-1 days +08:00:00'),\n",
       " 'BAS systems': Timedelta('0 days 08:00:00'),\n",
       " 'BASIX  co': Timedelta('-6 days +00:00:00'),\n",
       " 'BASIX  foundation': Timedelta('-12 days +00:00:00'),\n",
       " 'BASIX  llc': Timedelta('-5 days +00:00:00'),\n",
       " 'BASIX  trust': Timedelta('-11 days +00:00:00'),\n",
       " 'BAUGH SU ': Timedelta('1 days 12:00:00'),\n",
       " 'BAUGH SU associates': Timedelta('2 days 04:48:00'),\n",
       " 'BAUGH SU co': Timedelta('1 days 16:00:00'),\n",
       " 'BAUGH SU corp': Timedelta('2 days 06:51:25.714285714'),\n",
       " 'BAUGH SU corporation': Timedelta('2 days 04:48:00'),\n",
       " 'BAUGH SU foundation': Timedelta('2 days 12:00:00'),\n",
       " 'BAUGH SU in': Timedelta('0 days 19:12:00'),\n",
       " 'BAUGH SU llc': Timedelta('0 days 00:00:00'),\n",
       " 'BAUGH SU systems': Timedelta('1 days 08:00:00'),\n",
       " 'BAUGH SU trust': Timedelta('1 days 15:16:21.818181818'),\n",
       " 'BAUGH SU us': Timedelta('-1 days +21:20:00'),\n",
       " 'BAY  ': Timedelta('5 days 00:00:00'),\n",
       " 'BAY  associates': Timedelta('2 days 08:00:00'),\n",
       " 'BAY  corp': Timedelta('3 days 00:00:00'),\n",
       " 'BAY  corporation': Timedelta('4 days 00:00:00'),\n",
       " 'BAY  in': Timedelta('8 days 00:00:00'),\n",
       " 'BAY  llc': Timedelta('10 days 00:00:00'),\n",
       " 'BE ': Timedelta('-2 days +00:00:00'),\n",
       " 'BE associates': Timedelta('-4 days +08:00:00'),\n",
       " 'BE co': Timedelta('-2 days +00:00:00'),\n",
       " 'BE corp': Timedelta('-8 days +00:00:00'),\n",
       " 'BE corporation': Timedelta('-8 days +12:00:00'),\n",
       " 'BE foundation': Timedelta('-5 days +08:00:00'),\n",
       " 'BE in': Timedelta('-7 days +16:00:00'),\n",
       " 'BE llc': Timedelta('-7 days +00:00:00'),\n",
       " 'BE systems': Timedelta('-5 days +00:00:00'),\n",
       " 'BE trust': Timedelta('-4 days +12:00:00'),\n",
       " 'BE us': Timedelta('-3 days +00:00:00'),\n",
       " 'BEEF co': Timedelta('-14 days +00:00:00'),\n",
       " 'BELL co': Timedelta('6 days 12:00:00'),\n",
       " 'BELL corp': Timedelta('-1 days +00:00:00'),\n",
       " 'BELL corporation': Timedelta('3 days 00:00:00'),\n",
       " 'BELL foundation': Timedelta('9 days 00:00:00'),\n",
       " 'BELL trust': Timedelta('15 days 00:00:00'),\n",
       " 'BELL us': Timedelta('8 days 00:00:00'),\n",
       " 'BEN  ': Timedelta('9 days 12:00:00'),\n",
       " 'BEN  associates': Timedelta('-5 days +04:48:00'),\n",
       " 'BEN  co': Timedelta('-8 days +00:00:00'),\n",
       " 'BEN  corp': Timedelta('-1 days +08:00:00'),\n",
       " 'BEN  corporation': Timedelta('-7 days +00:00:00'),\n",
       " 'BEN  in': Timedelta('-2 days +00:00:00'),\n",
       " 'BEN  llc': Timedelta('-7 days +06:00:00'),\n",
       " 'BEN  systems': Timedelta('4 days 00:00:00'),\n",
       " 'BEN  trust': Timedelta('-2 days +08:00:00'),\n",
       " 'BEN  us': Timedelta('-4 days +00:00:00'),\n",
       " 'BEN E ': Timedelta('19 days 00:00:00'),\n",
       " 'BEN E KE co': Timedelta('-1 days +00:00:00'),\n",
       " 'BEN E associates': Timedelta('-4 days +13:42:51.428571429'),\n",
       " 'BEN E co': Timedelta('-7 days +16:00:00'),\n",
       " 'BEN E corp': Timedelta('-4 days +00:00:00'),\n",
       " 'BEN E corporation': Timedelta('-2 days +08:00:00'),\n",
       " 'BEN E foundation': Timedelta('-5 days +12:00:00'),\n",
       " 'BEN E in': Timedelta('-4 days +16:00:00'),\n",
       " 'BEN E llc': Timedelta('-8 days +19:12:00'),\n",
       " 'BEN E systems': Timedelta('-7 days +16:48:00'),\n",
       " 'BEN E trust': Timedelta('-6 days +00:00:00'),\n",
       " 'BEN E us': Timedelta('-9 days +00:00:00'),\n",
       " 'BERN corp': Timedelta('9 days 00:00:00'),\n",
       " 'BERN systems': Timedelta('12 days 00:00:00'),\n",
       " 'BEST  foundation': Timedelta('-25 days +00:00:00'),\n",
       " 'BEST  in': Timedelta('-15 days +00:00:00'),\n",
       " 'BI ': Timedelta('11 days 08:00:00'),\n",
       " 'BI MA ': Timedelta('2 days 00:00:00'),\n",
       " 'BI MA corp': Timedelta('1 days 00:00:00'),\n",
       " 'BI MA in': Timedelta('1 days 00:00:00'),\n",
       " 'BI MA trust': Timedelta('4 days 00:00:00'),\n",
       " 'BI MA us': Timedelta('1 days 00:00:00'),\n",
       " 'BI associates': Timedelta('0 days 00:00:00'),\n",
       " 'BI corp': Timedelta('4 days 00:00:00'),\n",
       " 'BI corporation': Timedelta('-2 days +00:00:00'),\n",
       " 'BI foundation': Timedelta('-3 days +12:00:00'),\n",
       " 'BI llc': Timedelta('-6 days +12:00:00'),\n",
       " 'BI systems': Timedelta('3 days 12:00:00'),\n",
       " 'BI trust': Timedelta('5 days 12:00:00'),\n",
       " 'BI us': Timedelta('-12 days +08:00:00'),\n",
       " 'BI-RIT trust': Timedelta('1 days 00:00:00'),\n",
       " 'BICKEL us': Timedelta('3 days 00:00:00'),\n",
       " 'BIG APP systems': Timedelta('-1 days +00:00:00'),\n",
       " 'BIG corporation': Timedelta('-31 days +00:00:00'),\n",
       " 'BIRD-I ': Timedelta('5 days 00:00:00'),\n",
       " 'BIRD-I in': Timedelta('6 days 12:00:00'),\n",
       " 'BIRD-I llc': Timedelta('3 days 00:00:00'),\n",
       " \"BJ'S  \": Timedelta('1 days 03:53:30.810810810'),\n",
       " \"BJ'S  associates\": Timedelta('1 days 20:37:10.985915492'),\n",
       " \"BJ'S  co\": Timedelta('2 days 04:22:46.423357664'),\n",
       " \"BJ'S  corp\": Timedelta('1 days 03:10:35.294117647'),\n",
       " \"BJ'S  corporation\": Timedelta('1 days 12:56:50.526315789'),\n",
       " \"BJ'S  foundation\": Timedelta('0 days 18:53:37.021276595'),\n",
       " \"BJ'S  in\": Timedelta('0 days 21:38:21.639344262'),\n",
       " \"BJ'S  llc\": Timedelta('1 days 13:36:42.985074626'),\n",
       " \"BJ'S  systems\": Timedelta('0 days 22:40:29.447852760'),\n",
       " \"BJ'S  trust\": Timedelta('0 days 23:20:00'),\n",
       " \"BJ'S  us\": Timedelta('1 days 14:24:00'),\n",
       " 'BLOU ': Timedelta('2 days 12:00:00'),\n",
       " 'BLOU co': Timedelta('0 days 18:00:00'),\n",
       " 'BLOU corp': Timedelta('0 days 00:00:00'),\n",
       " 'BLOU foundation': Timedelta('2 days 00:00:00'),\n",
       " 'BLOU in': Timedelta('-1 days +00:00:00'),\n",
       " 'BLOU us': Timedelta('1 days 12:00:00'),\n",
       " 'BOARD ': Timedelta('0 days 12:00:00'),\n",
       " 'BOARD co': Timedelta('-4 days +00:00:00'),\n",
       " 'BOARD corp': Timedelta('-6 days +00:00:00'),\n",
       " 'BOARD corporation': Timedelta('-3 days +12:00:00'),\n",
       " 'BOARD foundation': Timedelta('0 days 00:00:00'),\n",
       " 'BOARD trust': Timedelta('-3 days +00:00:00'),\n",
       " 'BOARD us': Timedelta('12 days 00:00:00'),\n",
       " 'BOB E foundation': Timedelta('7 days 00:00:00'),\n",
       " 'BOB E trust': Timedelta('3 days 00:00:00'),\n",
       " 'BOBBY S trust': Timedelta('-1 days +00:00:00'),\n",
       " 'BODAC in': Timedelta('-2 days +00:00:00'),\n",
       " 'BON  foundation': Timedelta('7 days 00:00:00'),\n",
       " 'BON  in': Timedelta('2 days 00:00:00'),\n",
       " 'BOVA F in': Timedelta('-4 days +00:00:00'),\n",
       " 'BOZZU ': Timedelta('1 days 08:00:00'),\n",
       " 'BOZZU associates': Timedelta('2 days 09:36:00'),\n",
       " 'BOZZU co': Timedelta('2 days 04:21:49.090909090'),\n",
       " 'BOZZU corp': Timedelta('2 days 08:00:00'),\n",
       " 'BOZZU corporation': Timedelta('2 days 00:00:00'),\n",
       " 'BOZZU foundation': Timedelta('2 days 09:36:00'),\n",
       " 'BOZZU in': Timedelta('1 days 21:20:00'),\n",
       " 'BOZZU llc': Timedelta('1 days 22:00:00'),\n",
       " 'BOZZU systems': Timedelta('2 days 00:00:00'),\n",
       " 'BOZZU trust': Timedelta('2 days 00:00:00'),\n",
       " 'BOZZU us': Timedelta('1 days 04:48:00'),\n",
       " 'BRADY ': Timedelta('31 days 00:00:00'),\n",
       " 'BRADY associates': Timedelta('56 days 16:00:00'),\n",
       " 'BRADY corp': Timedelta('33 days 00:00:00'),\n",
       " 'BRADY corporation': Timedelta('34 days 00:00:00'),\n",
       " 'BRADY foundation': Timedelta('33 days 19:12:00'),\n",
       " 'BRADY in': Timedelta('42 days 00:00:00'),\n",
       " 'BRADY llc': Timedelta('31 days 00:00:00'),\n",
       " 'BRADY systems': Timedelta('40 days 12:00:00'),\n",
       " 'BRADY trust': Timedelta('111 days 00:00:00'),\n",
       " 'BRADY us': Timedelta('31 days 00:00:00'),\n",
       " 'BRENH systems': Timedelta('-2 days +00:00:00'),\n",
       " 'BROOKS ': Timedelta('1 days 06:51:25.714285714'),\n",
       " 'BROOKS associates': Timedelta('-8 days +15:00:00'),\n",
       " 'BROOKS co': Timedelta('-4 days +13:20:00'),\n",
       " 'BROOKS corp': Timedelta('1 days 16:00:00'),\n",
       " 'BROOKS corporation': Timedelta('2 days 00:00:00'),\n",
       " 'BROOKS foundation': Timedelta('1 days 18:40:00'),\n",
       " 'BROOKS in': Timedelta('0 days 19:12:00'),\n",
       " 'BROOKS llc': Timedelta('-17 days +20:00:00'),\n",
       " 'BROOKS systems': Timedelta('0 days 21:00:00'),\n",
       " 'BROOKS trust': Timedelta('-1 days +19:12:00'),\n",
       " 'BROOKS us': Timedelta('0 days 00:00:00'),\n",
       " 'BROW llc': Timedelta('3 days 00:00:00'),\n",
       " 'BRUN corp': Timedelta('3 days 00:00:00'),\n",
       " 'BRUN trust': Timedelta('-1 days +00:00:00'),\n",
       " 'BULK  ': Timedelta('16 days 00:00:00'),\n",
       " 'BULK  foundation': Timedelta('16 days 00:00:00'),\n",
       " 'BUNZ associates': Timedelta('5 days 00:00:00'),\n",
       " 'BUR ': Timedelta('-3 days +00:00:00'),\n",
       " 'BUR associates': Timedelta('-3 days +08:00:00'),\n",
       " 'BUR foundation': Timedelta('2 days 00:00:00'),\n",
       " 'BUR llc': Timedelta('-2 days +00:00:00'),\n",
       " 'BURR ': Timedelta('1 days 18:00:00'),\n",
       " 'BURR associates': Timedelta('0 days 00:00:00'),\n",
       " 'BURR co': Timedelta('4 days 14:24:00'),\n",
       " 'BURR corp': Timedelta('7 days 16:48:00'),\n",
       " 'BURR corporation': Timedelta('15 days 08:00:00'),\n",
       " 'BURR foundation': Timedelta('4 days 00:00:00'),\n",
       " 'BURR in': Timedelta('1 days 04:00:00'),\n",
       " 'BURR llc': Timedelta('2 days 12:00:00'),\n",
       " 'BURR systems': Timedelta('0 days 18:00:00'),\n",
       " 'BURR trust': Timedelta('3 days 00:00:00'),\n",
       " 'BURR us': Timedelta('0 days 00:00:00'),\n",
       " 'BUTTE ': Timedelta('-4 days +00:00:00'),\n",
       " 'BUTTE associates': Timedelta('-6 days +00:00:00'),\n",
       " 'BUTTE corp': Timedelta('-2 days +12:00:00'),\n",
       " 'BUTTE corporation': Timedelta('-5 days +12:00:00'),\n",
       " 'BUTTE foundation': Timedelta('-8 days +00:00:00'),\n",
       " 'BUTTE in': Timedelta('-6 days +12:00:00'),\n",
       " 'BUTTE llc': Timedelta('-5 days +00:00:00'),\n",
       " 'BUTTE trust': Timedelta('-6 days +16:00:00'),\n",
       " 'BUTTE us': Timedelta('-5 days +12:00:00'),\n",
       " 'BUY- ': Timedelta('-2 days +00:00:00'),\n",
       " 'BUY- associates': Timedelta('-2 days +08:00:00'),\n",
       " 'BUY- corp': Timedelta('2 days 19:12:00'),\n",
       " 'BUY- corporation': Timedelta('2 days 12:00:00'),\n",
       " 'BUY- in': Timedelta('0 days 06:00:00'),\n",
       " 'BUY- llc': Timedelta('0 days 00:00:00'),\n",
       " 'BUY- systems': Timedelta('0 days 06:00:00'),\n",
       " 'BUY- trust': Timedelta('-4 days +00:00:00'),\n",
       " 'BUY- us': Timedelta('5 days 00:00:00'),\n",
       " 'C ': Timedelta('4 days 05:38:49.411764705'),\n",
       " 'C  co': Timedelta('-1 days +00:00:00'),\n",
       " 'C  corporation': Timedelta('4 days 00:00:00'),\n",
       " 'C associates': Timedelta('4 days 12:00:00'),\n",
       " 'C co': Timedelta('6 days 04:48:00'),\n",
       " 'C corp': Timedelta('2 days 16:00:00'),\n",
       " 'C corporation': Timedelta('9 days 00:00:00'),\n",
       " 'C foundation': Timedelta('10 days 04:48:00'),\n",
       " 'C in': Timedelta('7 days 00:00:00'),\n",
       " 'C llc': Timedelta('3 days 10:54:32.727272727'),\n",
       " 'C systems': Timedelta('4 days 21:00:00'),\n",
       " 'C trust': Timedelta('4 days 03:25:42.857142857'),\n",
       " 'C us': Timedelta('3 days 13:05:27.272727272'),\n",
       " 'C& ': Timedelta('5 days 12:00:00'),\n",
       " 'C& co': Timedelta('2 days 12:00:00'),\n",
       " 'C& corp': Timedelta('0 days 12:00:00'),\n",
       " 'C& corporation': Timedelta('-6 days +00:00:00'),\n",
       " 'C& foundation': Timedelta('0 days 00:00:00'),\n",
       " 'C& in': Timedelta('-6 days +19:12:00'),\n",
       " 'C& llc': Timedelta('2 days 00:00:00'),\n",
       " 'C& systems': Timedelta('-2 days +20:34:17.142857143'),\n",
       " 'C& trust': Timedelta('-2 days +00:00:00'),\n",
       " 'C& us': Timedelta('-2 days +00:00:00'),\n",
       " 'C&S W ': Timedelta('1 days 12:00:00'),\n",
       " 'C&S W associates': Timedelta('0 days 16:00:00'),\n",
       " 'C&S W co': Timedelta('0 days 16:00:00'),\n",
       " 'C&S W corp': Timedelta('0 days 18:00:00'),\n",
       " 'C&S W corporation': Timedelta('0 days 00:00:00'),\n",
       " 'C&S W foundation': Timedelta('-1 days +00:00:00'),\n",
       " 'C&S W in': Timedelta('0 days 00:00:00'),\n",
       " 'C&S W llc': Timedelta('1 days 00:00:00'),\n",
       " 'C&S W systems': Timedelta('-50 days +00:00:00'),\n",
       " 'C&S W trust': Timedelta('1 days 00:00:00'),\n",
       " 'C&S W us': Timedelta('0 days 19:12:00'),\n",
       " 'C&S WH ': Timedelta('-1 days +03:18:37.241379311'),\n",
       " 'C&S WH associates': Timedelta('0 days 05:16:48'),\n",
       " 'C&S WH co': Timedelta('0 days 01:32:09.600000'),\n",
       " 'C&S WH corp': Timedelta('-2 days +00:00:00'),\n",
       " 'C&S WH corporation': Timedelta('-1 days +08:24:36.923076924'),\n",
       " 'C&S WH foundation': Timedelta('1 days 01:30:48.648648648'),\n",
       " 'C&S WH in': Timedelta('0 days 20:00:00'),\n",
       " 'C&S WH llc': Timedelta('0 days 02:13:20'),\n",
       " 'C&S WH systems': Timedelta('-2 days +18:00:00'),\n",
       " 'C&S WH trust': Timedelta('-1 days +14:45:00'),\n",
       " 'C&S WH us': Timedelta('-1 days +04:40:21.238938054'),\n",
       " 'CALC trust': Timedelta('4 days 00:00:00'),\n",
       " 'CALC us': Timedelta('25 days 00:00:00'),\n",
       " 'CALD associates': Timedelta('-2 days +00:00:00'),\n",
       " 'CALD corporation': Timedelta('1 days 12:00:00'),\n",
       " 'CALD foundation': Timedelta('1 days 00:00:00'),\n",
       " 'CALD trust': Timedelta('-2 days +00:00:00'),\n",
       " 'CALD us': Timedelta('1 days 00:00:00'),\n",
       " 'CALIFO ': Timedelta('-26 days +00:00:00'),\n",
       " 'CALIFO associates': Timedelta('15 days 00:00:00'),\n",
       " 'CALIFO co': Timedelta('-12 days +12:00:00'),\n",
       " 'CALIFO corp': Timedelta('0 days 08:00:00'),\n",
       " 'CALIFO corporation': Timedelta('-9 days +00:00:00'),\n",
       " 'CALIFO in': Timedelta('0 days 06:00:00'),\n",
       " 'CALIFO us': Timedelta('-4 days +00:00:00'),\n",
       " 'CAMP corp': Timedelta('0 days 00:00:00'),\n",
       " 'CAMP foundation': Timedelta('9 days 00:00:00'),\n",
       " 'CAMP llc': Timedelta('0 days 00:00:00'),\n",
       " 'CANADI ': Timedelta('8 days 00:00:00'),\n",
       " 'CANADI co': Timedelta('53 days 00:00:00'),\n",
       " 'CANADI foundation': Timedelta('4 days 00:00:00'),\n",
       " 'CANADI llc': Timedelta('4 days 00:00:00'),\n",
       " 'CANADI systems': Timedelta('11 days 00:00:00'),\n",
       " 'CAPITAL associates': Timedelta('0 days 00:00:00'),\n",
       " 'CAPITAL co': Timedelta('4 days 00:00:00'),\n",
       " 'CAPITAL corp': Timedelta('2 days 00:00:00'),\n",
       " 'CAPITAL in': Timedelta('8 days 00:00:00'),\n",
       " 'CAPITAL systems': Timedelta('-5 days +00:00:00'),\n",
       " 'CAPITAL trust': Timedelta('2 days 00:00:00'),\n",
       " 'CAPITAL us': Timedelta('-1 days +00:00:00'),\n",
       " 'CAR in': Timedelta('-2 days +00:00:00'),\n",
       " 'CAR us': Timedelta('-2 days +00:00:00'),\n",
       " 'CARA foundation': Timedelta('0 days 00:00:00'),\n",
       " 'CARA llc': Timedelta('1 days 00:00:00'),\n",
       " 'CARA systems': Timedelta('-1 days +12:00:00'),\n",
       " 'CARIB corporation': Timedelta('-4 days +00:00:00'),\n",
       " 'CARIB us': Timedelta('-6 days +12:00:00'),\n",
       " 'CARIBB ': Timedelta('1 days 00:00:00'),\n",
       " 'CARIBB trust': Timedelta('2 days 00:00:00'),\n",
       " 'CARO llc': Timedelta('-10 days +00:00:00'),\n",
       " 'CAS I us': Timedelta('4 days 00:00:00'),\n",
       " 'CASC ': Timedelta('-89 days +00:00:00'),\n",
       " 'CASC associates': Timedelta('30 days 00:00:00'),\n",
       " 'CASC corporation': Timedelta('30 days 00:00:00'),\n",
       " 'CASC foundation': Timedelta('25 days 00:00:00'),\n",
       " 'CASC trust': Timedelta('17 days 00:00:00'),\n",
       " 'CASEY ': Timedelta('-9 days +00:00:00'),\n",
       " 'CASEY co': Timedelta('-9 days +12:00:00'),\n",
       " 'CASEY llc': Timedelta('-3 days +12:00:00'),\n",
       " 'CASEY trust': Timedelta('4 days 00:00:00'),\n",
       " 'CASEY us': Timedelta('-5 days +08:00:00'),\n",
       " 'CASH-W associates': Timedelta('0 days 00:00:00'),\n",
       " 'CASH-W us': Timedelta('-1 days +00:00:00'),\n",
       " 'CASSE llc': Timedelta('-4 days +00:00:00'),\n",
       " 'CD F trust': Timedelta('5 days 00:00:00'),\n",
       " 'CE ': Timedelta('0 days 00:00:00'),\n",
       " 'CE associates': Timedelta('-2 days +19:12:00'),\n",
       " 'CE co': Timedelta('-1 days +12:00:00'),\n",
       " 'CE corp': Timedelta('0 days 00:00:00'),\n",
       " 'CE foundation': Timedelta('-1 days +12:00:00'),\n",
       " 'CE in': Timedelta('0 days 08:00:00'),\n",
       " 'CE llc': Timedelta('-1 days +12:00:00'),\n",
       " 'CE systems': Timedelta('-1 days +18:00:00'),\n",
       " 'CE trust': Timedelta('0 days 12:00:00'),\n",
       " 'CE us': Timedelta('-2 days +00:00:00'),\n",
       " 'CEDARS ': Timedelta('3 days 00:00:00'),\n",
       " 'CENTRAL  llc': Timedelta('-3 days +00:00:00'),\n",
       " 'CFA llc': Timedelta('12 days 00:00:00'),\n",
       " 'CHAIN DI systems': Timedelta('-1 days +00:00:00'),\n",
       " 'CHAIR associates': Timedelta('-1 days +00:00:00'),\n",
       " 'CHAMB trust': Timedelta('-7 days +00:00:00'),\n",
       " 'CHAR ': Timedelta('-5 days +00:00:00'),\n",
       " 'CHAR co': Timedelta('18 days 00:00:00'),\n",
       " 'CHAR llc': Timedelta('-5 days +00:00:00'),\n",
       " 'CHARLOTT us': Timedelta('62 days 00:00:00'),\n",
       " 'CHEE us': Timedelta('5 days 12:00:00'),\n",
       " 'CHEES associates': Timedelta('0 days 00:00:00'),\n",
       " 'CHEES corp': Timedelta('0 days 00:00:00'),\n",
       " 'CHEES llc': Timedelta('1 days 12:00:00'),\n",
       " 'CHEES systems': Timedelta('-1 days +12:00:00'),\n",
       " 'CHEES us': Timedelta('0 days 00:00:00'),\n",
       " 'CHEN ': Timedelta('-1 days +12:00:00'),\n",
       " 'CHEN associates': Timedelta('3 days 00:00:00'),\n",
       " 'CHEN co': Timedelta('7 days 00:00:00'),\n",
       " 'CHEN corp': Timedelta('1 days 04:48:00'),\n",
       " 'CHEN corporation': Timedelta('4 days 12:00:00'),\n",
       " 'CHEN foundation': Timedelta('1 days 18:00:00'),\n",
       " 'CHEN in': Timedelta('-2 days +00:00:00'),\n",
       " 'CHEN llc': Timedelta('5 days 00:00:00'),\n",
       " 'CHEN trust': Timedelta('2 days 19:12:00'),\n",
       " 'CHEN us': Timedelta('12 days 00:00:00'),\n",
       " 'CHENE ': Timedelta('1 days 00:00:00'),\n",
       " 'CHENE associates': Timedelta('3 days 12:00:00'),\n",
       " 'CHENE co': Timedelta('0 days 00:00:00'),\n",
       " 'CHENE corporation': Timedelta('8 days 00:00:00'),\n",
       " 'CHENE in': Timedelta('1 days 12:00:00'),\n",
       " 'CHENE systems': Timedelta('-1 days +00:00:00'),\n",
       " 'CHENE trust': Timedelta('1 days 00:00:00'),\n",
       " 'CHENS E ': Timedelta('10 days 00:00:00'),\n",
       " 'CHENS E co': Timedelta('9 days 00:00:00'),\n",
       " 'CHENS E llc': Timedelta('5 days 12:00:00'),\n",
       " 'CHENS E trust': Timedelta('56 days 00:00:00'),\n",
       " 'CHICAGO  llc': Timedelta('8 days 00:00:00'),\n",
       " 'CHICKE associates': Timedelta('-13 days +00:00:00'),\n",
       " 'CHICKE in': Timedelta('-13 days +00:00:00'),\n",
       " 'CHICKE systems': Timedelta('10 days 00:00:00'),\n",
       " 'CHIHAD co': Timedelta('10 days 12:00:00'),\n",
       " 'CHIHAD corp': Timedelta('5 days 00:00:00'),\n",
       " 'CHIHAD corporation': Timedelta('5 days 00:00:00'),\n",
       " 'CHIHAD foundation': Timedelta('-2 days +00:00:00'),\n",
       " 'CHIHAD systems': Timedelta('-2 days +00:00:00'),\n",
       " 'CHRIS in': Timedelta('-16 days +00:00:00'),\n",
       " 'CHUD corporation': Timedelta('16 days 00:00:00'),\n",
       " 'CHUD llc': Timedelta('4 days 00:00:00'),\n",
       " 'CIE CO foundation': Timedelta('-4 days +00:00:00'),\n",
       " 'CINCIN us': Timedelta('31 days 00:00:00'),\n",
       " 'CINNAR corp': Timedelta('2 days 00:00:00'),\n",
       " 'CINNAR systems': Timedelta('-1 days +00:00:00'),\n",
       " 'CINNAR trust': Timedelta('0 days 00:00:00'),\n",
       " 'CIRC co': Timedelta('0 days 00:00:00'),\n",
       " 'CIRC foundation': Timedelta('0 days 00:00:00'),\n",
       " 'CIRC in': Timedelta('0 days 00:00:00'),\n",
       " 'CIRC llc': Timedelta('0 days 00:00:00'),\n",
       " 'CIRC us': Timedelta('2 days 00:00:00'),\n",
       " 'CITI-BA associates': Timedelta('9 days 00:00:00'),\n",
       " 'CITY L us': Timedelta('-5 days +00:00:00'),\n",
       " 'CJ  foundation': Timedelta('22 days 00:00:00'),\n",
       " 'CJR WH ': Timedelta('0 days 00:00:00'),\n",
       " 'CJR WH associates': Timedelta('-2 days +06:00:00'),\n",
       " 'CJR WH co': Timedelta('1 days 06:00:00'),\n",
       " 'CJR WH corp': Timedelta('0 days 00:00:00'),\n",
       " 'CJR WH llc': Timedelta('4 days 08:00:00'),\n",
       " 'CJR WH systems': Timedelta('-4 days +00:00:00'),\n",
       " 'CJR WH us': Timedelta('-2 days +00:00:00'),\n",
       " 'CLAS corporation': Timedelta('4 days 00:00:00'),\n",
       " 'CLAS trust': Timedelta('-9 days +00:00:00'),\n",
       " 'CLEMEN us': Timedelta('13 days 00:00:00'),\n",
       " 'CO ': Timedelta('2 days 04:48:00'),\n",
       " 'CO associates': Timedelta('0 days 00:00:00'),\n",
       " 'CO co': Timedelta('-1 days +06:51:25.714285715'),\n",
       " 'CO corp': Timedelta('0 days 04:48:00'),\n",
       " 'CO corporation': Timedelta('-1 days +17:08:34.285714286'),\n",
       " 'CO foundation': Timedelta('0 days 13:42:51.428571428'),\n",
       " 'CO in': Timedelta('0 days 21:36:00'),\n",
       " 'CO llc': Timedelta('-1 days +12:00:00'),\n",
       " 'CO systems': Timedelta('-1 days +19:12:00'),\n",
       " 'CO trust': Timedelta('-1 days +12:00:00'),\n",
       " 'CO us': Timedelta('-1 days +12:00:00'),\n",
       " 'COAS ': Timedelta('-1 days +14:24:00'),\n",
       " 'COAS associates': Timedelta('0 days 03:41:32.307692307'),\n",
       " 'COAS co': Timedelta('0 days 00:00:00'),\n",
       " 'COAS corp': Timedelta('0 days 00:00:00'),\n",
       " 'COAS corporation': Timedelta('-1 days +00:00:00'),\n",
       " 'COAS foundation': Timedelta('-1 days +20:34:17.142857143'),\n",
       " 'COAS in': Timedelta('-2 days +16:00:00'),\n",
       " 'COAS llc': Timedelta('0 days 00:00:00'),\n",
       " 'COAS systems': Timedelta('-1 days +22:17:08.571428572'),\n",
       " 'COAS trust': Timedelta('-2 days +09:36:00'),\n",
       " 'COAS us': Timedelta('0 days 03:25:42.857142857'),\n",
       " 'COASTAL  corp': Timedelta('0 days 00:00:00'),\n",
       " 'COASTAL  us': Timedelta('0 days 00:00:00'),\n",
       " 'COB corporation': Timedelta('0 days 00:00:00'),\n",
       " 'COLABOR  ': Timedelta('6 days 13:05:27.272727272'),\n",
       " 'COLABOR  associates': Timedelta('2 days 16:00:00'),\n",
       " 'COLABOR  co': Timedelta('2 days 04:21:49.090909090'),\n",
       " 'COLABOR  corp': Timedelta('1 days 16:00:00'),\n",
       " 'COLABOR  corporation': Timedelta('3 days 16:00:00'),\n",
       " 'COLABOR  foundation': Timedelta('3 days 05:32:18.461538461'),\n",
       " 'COLABOR  in': Timedelta('3 days 12:00:00'),\n",
       " 'COLABOR  llc': Timedelta('2 days 14:24:00'),\n",
       " 'COLABOR  systems': Timedelta('3 days 09:00:00'),\n",
       " 'COLABOR  trust': Timedelta('3 days 00:00:00'),\n",
       " 'COLABOR  us': Timedelta('3 days 04:48:00'),\n",
       " 'COLDST corporation': Timedelta('0 days 00:00:00'),\n",
       " 'COLDST llc': Timedelta('2 days 00:00:00'),\n",
       " 'COLDST us': Timedelta('0 days 12:00:00'),\n",
       " 'COLOM ': Timedelta('1 days 12:00:00'),\n",
       " 'COLOM associates': Timedelta('2 days 00:00:00'),\n",
       " 'COLOM corporation': Timedelta('12 days 08:00:00'),\n",
       " 'COLOM foundation': Timedelta('2 days 00:00:00'),\n",
       " 'COLOM trust': Timedelta('3 days 00:00:00'),\n",
       " 'COLOM us': Timedelta('-1 days +00:00:00'),\n",
       " 'COLOME ': Timedelta('3 days 00:00:00'),\n",
       " 'COLOME associates': Timedelta('-2 days +00:00:00'),\n",
       " 'COLOME co': Timedelta('1 days 00:00:00'),\n",
       " 'COLOME corp': Timedelta('-1 days +00:00:00'),\n",
       " 'COLOME corporation': Timedelta('2 days 00:00:00'),\n",
       " 'COLOME llc': Timedelta('-4 days +00:00:00'),\n",
       " 'COLOME systems': Timedelta('1 days 00:00:00'),\n",
       " 'COLOME trust': Timedelta('1 days 12:00:00'),\n",
       " 'COLOME us': Timedelta('2 days 00:00:00'),\n",
       " 'COLORA associates': Timedelta('9 days 00:00:00'),\n",
       " 'COLORA corp': Timedelta('4 days 00:00:00'),\n",
       " 'COLORA in': Timedelta('4 days 00:00:00'),\n",
       " 'COLORA systems': Timedelta('2 days 00:00:00'),\n",
       " 'COLORA trust': Timedelta('2 days 00:00:00'),\n",
       " 'COMERCI ': Timedelta('-6 days +00:00:00'),\n",
       " 'COMERCI co': Timedelta('0 days 12:00:00'),\n",
       " 'COMERCI corp': Timedelta('1 days 00:00:00'),\n",
       " 'COMERCI corporation': Timedelta('-3 days +00:00:00'),\n",
       " 'COMERCI foundation': Timedelta('1 days 00:00:00'),\n",
       " 'COMERCI in': Timedelta('-9 days +00:00:00'),\n",
       " 'COMERCI systems': Timedelta('-2 days +00:00:00'),\n",
       " 'COMERCI trust': Timedelta('-6 days +00:00:00'),\n",
       " 'COMERCI us': Timedelta('-3 days +08:00:00'),\n",
       " 'COMPAC corp': Timedelta('7 days 00:00:00'),\n",
       " 'COMPAC in': Timedelta('-19 days +00:00:00'),\n",
       " 'CON co': Timedelta('-45 days +00:00:00'),\n",
       " 'CON in': Timedelta('14 days 00:00:00'),\n",
       " 'CON llc': Timedelta('-24 days +00:00:00'),\n",
       " 'CONSO systems': Timedelta('1 days 00:00:00'),\n",
       " 'CONSUMER foundation': Timedelta('-2 days +00:00:00'),\n",
       " 'CONW us': Timedelta('7 days 00:00:00'),\n",
       " 'COPPE associates': Timedelta('3 days 00:00:00'),\n",
       " 'CORE-M co': Timedelta('-5 days +00:00:00'),\n",
       " 'CORE-M corp': Timedelta('-9 days +12:00:00'),\n",
       " 'CORE-M in': Timedelta('-9 days +00:00:00'),\n",
       " 'CORE-M systems': Timedelta('-9 days +00:00:00'),\n",
       " 'CORE-M trust': Timedelta('-8 days +00:00:00'),\n",
       " 'CORN associates': Timedelta('1 days 12:00:00'),\n",
       " 'CORN corp': Timedelta('1 days 00:00:00'),\n",
       " 'CORP trust': Timedelta('15 days 00:00:00'),\n",
       " 'CORPOR corporation': Timedelta('6 days 00:00:00'),\n",
       " 'COS ': Timedelta('16 days 00:00:00'),\n",
       " 'COS associates': Timedelta('5 days 16:00:00'),\n",
       " 'COS co': Timedelta('4 days 00:00:00'),\n",
       " 'COS corp': Timedelta('7 days 00:00:00'),\n",
       " 'COS corporation': Timedelta('-14 days +12:00:00'),\n",
       " 'COS foundation': Timedelta('1 days 00:00:00'),\n",
       " 'COS in': Timedelta('6 days 00:00:00'),\n",
       " 'COS llc': Timedelta('5 days 00:00:00'),\n",
       " 'COS systems': Timedelta('-5 days +12:00:00'),\n",
       " 'COS us': Timedelta('-2 days +08:00:00'),\n",
       " 'COST ': Timedelta('-1 days +19:19:28.831168832'),\n",
       " 'COST associates': Timedelta('-1 days +16:06:34.520547946'),\n",
       " 'COST co': Timedelta('-1 days +05:44:20.869565218'),\n",
       " 'COST corp': Timedelta('0 days 01:44:05.783132530'),\n",
       " 'COST corporation': Timedelta('0 days 02:03:25.714285714'),\n",
       " 'COST foundation': Timedelta('-1 days +19:42:18.947368422'),\n",
       " 'COST in': Timedelta('-1 days +04:38:10.909090910'),\n",
       " 'COST llc': Timedelta('-2 days +19:12:00'),\n",
       " 'COST systems': Timedelta('-1 days +08:36:31.304347827'),\n",
       " 'COST trust': Timedelta('0 days 00:32:00'),\n",
       " 'COST us': Timedelta('-2 days +13:38:10.909090910'),\n",
       " 'COSTCO ': Timedelta('3 days 12:36:00'),\n",
       " 'COSTCO associates': Timedelta('3 days 11:04:36.923076923'),\n",
       " 'COSTCO co': Timedelta('3 days 13:01:42.857142857'),\n",
       " 'COSTCO corp': Timedelta('3 days 04:00:00'),\n",
       " 'COSTCO corporation': Timedelta('3 days 01:36:00'),\n",
       " 'COSTCO foundation': Timedelta('7 days 00:48:00'),\n",
       " 'COSTCO in': Timedelta('3 days 18:45:00'),\n",
       " 'COSTCO llc': Timedelta('6 days 09:00:00'),\n",
       " 'COSTCO systems': Timedelta('5 days 22:00:00'),\n",
       " 'COSTCO trust': Timedelta('2 days 21:28:25.263157894'),\n",
       " 'COSTCO us': Timedelta('4 days 02:15:00'),\n",
       " 'COUN trust': Timedelta('6 days 00:00:00'),\n",
       " 'COUNT foundation': Timedelta('3 days 00:00:00'),\n",
       " 'COYOT systems': Timedelta('-21 days +00:00:00'),\n",
       " 'CPG associates': Timedelta('-4 days +00:00:00'),\n",
       " 'CPG co': Timedelta('13 days 00:00:00'),\n",
       " 'CPG trust': Timedelta('-79 days +00:00:00'),\n",
       " 'CPG us': Timedelta('9 days 00:00:00'),\n",
       " 'CRUMB in': Timedelta('-2 days +00:00:00'),\n",
       " 'CSM BAK llc': Timedelta('-10 days +00:00:00'),\n",
       " 'CSM BAK systems': Timedelta('-16 days +00:00:00'),\n",
       " 'CSM BAK trust': Timedelta('-10 days +00:00:00'),\n",
       " 'CSM BAK us': Timedelta('-9 days +00:00:00'),\n",
       " 'CSU  associates': Timedelta('1 days 00:00:00'),\n",
       " 'CTI A associates': Timedelta('-4 days +00:00:00'),\n",
       " 'CTI A corporation': Timedelta('-1 days +00:00:00'),\n",
       " 'CTI A llc': Timedelta('5 days 00:00:00'),\n",
       " 'CTI A systems': Timedelta('0 days 00:00:00'),\n",
       " 'CTI A trust': Timedelta('-3 days +12:00:00'),\n",
       " 'CTI A us': Timedelta('-4 days +12:00:00'),\n",
       " 'CULINAR foundation': Timedelta('1 days 00:00:00'),\n",
       " 'CULINAR systems': Timedelta('5 days 00:00:00'),\n",
       " 'CUMB llc': Timedelta('0 days 00:00:00'),\n",
       " 'CUSTOM ': Timedelta('3 days 16:00:00'),\n",
       " 'CUSTOM associates': Timedelta('4 days 00:00:00'),\n",
       " 'CUSTOM co': Timedelta('4 days 16:00:00'),\n",
       " 'CUSTOM corp': Timedelta('4 days 06:00:00'),\n",
       " 'CUSTOM corporation': Timedelta('4 days 00:00:00'),\n",
       " 'CUSTOM foundation': Timedelta('6 days 00:00:00'),\n",
       " 'CUSTOM in': Timedelta('6 days 00:00:00'),\n",
       " 'CUSTOM llc': Timedelta('5 days 00:00:00'),\n",
       " 'CUSTOM systems': Timedelta('4 days 00:00:00'),\n",
       " 'CUSTOM trust': Timedelta('5 days 00:00:00'),\n",
       " 'CUSTOM us': Timedelta('2 days 00:00:00'),\n",
       " 'CUSTOMI co': Timedelta('1 days 00:00:00'),\n",
       " 'CUSTOMI corporation': Timedelta('0 days 00:00:00'),\n",
       " 'CUSTOMI systems': Timedelta('0 days 00:00:00'),\n",
       " 'CUSTOMI trust': Timedelta('3 days 00:00:00'),\n",
       " 'CUSTOMI us': Timedelta('0 days 12:00:00'),\n",
       " 'D ': Timedelta('-2 days +00:00:00'),\n",
       " 'D &  corp': Timedelta('1 days 00:00:00'),\n",
       " 'D associates': Timedelta('1 days 00:00:00'),\n",
       " 'D co': Timedelta('3 days 00:00:00'),\n",
       " 'D corp': Timedelta('4 days 00:00:00'),\n",
       " 'D corporation': Timedelta('3 days 08:00:00'),\n",
       " 'D in': Timedelta('4 days 00:00:00'),\n",
       " 'D llc': Timedelta('1 days 00:00:00'),\n",
       " 'D systems': Timedelta('1 days 00:00:00'),\n",
       " 'D us': Timedelta('1 days 00:00:00'),\n",
       " \"D'ALB associates\": Timedelta('-4 days +12:00:00'),\n",
       " \"D'ALB corporation\": Timedelta('-5 days +00:00:00'),\n",
       " \"D'ALB foundation\": Timedelta('1 days 00:00:00'),\n",
       " \"D'ALB in\": Timedelta('30 days 00:00:00'),\n",
       " \"D'ALB trust\": Timedelta('-5 days +00:00:00'),\n",
       " \"D'ALB us\": Timedelta('-3 days +00:00:00'),\n",
       " 'DAIRY  co': Timedelta('18 days 00:00:00'),\n",
       " 'DAIRY corp': Timedelta('-10 days +00:00:00'),\n",
       " 'DAIRY foundation': Timedelta('-5 days +00:00:00'),\n",
       " 'DAIRY llc': Timedelta('21 days 00:00:00'),\n",
       " 'DAIRY systems': Timedelta('0 days 00:00:00'),\n",
       " 'DAIRY trust': Timedelta('-6 days +00:00:00'),\n",
       " 'DAIRY us': Timedelta('7 days 00:00:00'),\n",
       " 'DAKO foundation': Timedelta('-15 days +00:00:00'),\n",
       " 'DAKO systems': Timedelta('7 days 00:00:00'),\n",
       " 'DAKO trust': Timedelta('1 days 00:00:00'),\n",
       " 'DAKO us': Timedelta('8 days 00:00:00'),\n",
       " 'DAN- co': Timedelta('8 days 00:00:00'),\n",
       " 'DARDEN ': Timedelta('17 days 00:00:00'),\n",
       " 'DARDEN D ': Timedelta('-1 days +12:00:00'),\n",
       " 'DARDEN D associates': Timedelta('0 days 12:00:00'),\n",
       " 'DARDEN D co': Timedelta('-2 days +18:00:00'),\n",
       " 'DARDEN D corp': Timedelta('-2 days +12:00:00'),\n",
       " 'DARDEN D corporation': Timedelta('4 days 12:00:00'),\n",
       " 'DARDEN D foundation': Timedelta('5 days 12:00:00'),\n",
       " 'DARDEN D in': Timedelta('-2 days +04:00:00'),\n",
       " 'DARDEN D llc': Timedelta('1 days 04:48:00'),\n",
       " 'DARDEN D systems': Timedelta('1 days 00:00:00'),\n",
       " 'DARDEN D trust': Timedelta('1 days 00:00:00'),\n",
       " 'DARDEN D us': Timedelta('-1 days +00:00:00'),\n",
       " 'DASA I ': Timedelta('4 days 12:00:00'),\n",
       " 'DASA I co': Timedelta('2 days 16:00:00'),\n",
       " 'DASA I foundation': Timedelta('5 days 00:00:00'),\n",
       " 'DASA I llc': Timedelta('7 days 00:00:00'),\n",
       " 'DASA I systems': Timedelta('6 days 00:00:00'),\n",
       " 'DASA I trust': Timedelta('3 days 00:00:00'),\n",
       " 'DASA I us': Timedelta('1 days 08:00:00'),\n",
       " 'DAVI co': Timedelta('-3 days +00:00:00'),\n",
       " 'DAVID  ': Timedelta('10 days 00:00:00'),\n",
       " 'DAVIS trust': Timedelta('15 days 00:00:00'),\n",
       " 'DAVISCO co': Timedelta('12 days 00:00:00'),\n",
       " 'DAWN FOO foundation': Timedelta('-8 days +00:00:00'),\n",
       " 'DAWN foundation': Timedelta('11 days 00:00:00'),\n",
       " 'DAWN trust': Timedelta('1 days 00:00:00'),\n",
       " 'DAWN us': Timedelta('1 days 00:00:00'),\n",
       " 'DAYLIGH co': Timedelta('2 days 00:00:00'),\n",
       " 'DAYSTAR  corporation': Timedelta('3 days 00:00:00'),\n",
       " 'DAYSTAR  llc': Timedelta('21 days 00:00:00'),\n",
       " 'DAYSTAR  us': Timedelta('4 days 00:00:00'),\n",
       " 'DEALER associates': Timedelta('5 days 00:00:00'),\n",
       " 'DEALER in': Timedelta('1 days 00:00:00'),\n",
       " 'DEALER systems': Timedelta('9 days 00:00:00'),\n",
       " 'DEC ': Timedelta('-5 days +14:53:47.586206897'),\n",
       " 'DEC associates': Timedelta('-6 days +16:24:29.387755103'),\n",
       " 'DEC co': Timedelta('-6 days +23:45:44.554455446'),\n",
       " 'DEC corp': Timedelta('-4 days +02:20:52.173913044'),\n",
       " 'DEC corporation': Timedelta('-5 days +02:52:48'),\n",
       " 'DEC foundation': Timedelta('-5 days +20:12:37.894736843'),\n",
       " 'DEC in': Timedelta('-6 days +22:52:14.117647059'),\n",
       " 'DEC llc': Timedelta('-5 days +13:13:50.769230770'),\n",
       " 'DEC systems': Timedelta('-5 days +13:55:33.333333334'),\n",
       " 'DEC trust': Timedelta('-4 days +09:15:10.843373494'),\n",
       " 'DEC us': Timedelta('-5 days +19:54:08.780487805'),\n",
       " 'DECA ': Timedelta('-5 days +16:06:18.947368422'),\n",
       " 'DECA associates': Timedelta('-5 days +05:42:51.428571429'),\n",
       " 'DECA co': Timedelta('-4 days +19:28:56.470588236'),\n",
       " 'DECA corp': Timedelta('-5 days +10:04:48'),\n",
       " 'DECA corporation': Timedelta('-5 days +20:34:17.142857143'),\n",
       " 'DECA foundation': Timedelta('-4 days +05:31:02.068965518'),\n",
       " 'DECA in': Timedelta('-4 days +04:55:53.424657535'),\n",
       " 'DECA llc': Timedelta('-5 days +07:25:42.857142858'),\n",
       " 'DECA systems': Timedelta('-5 days +12:10:44.776119403'),\n",
       " 'DECA trust': Timedelta('-6 days +23:06:00'),\n",
       " 'DECA us': Timedelta('-5 days +05:53:12.452830189'),\n",
       " 'DEF. F co': Timedelta('-8 days +00:00:00'),\n",
       " 'DEF. F corp': Timedelta('-7 days +00:00:00'),\n",
       " 'DEF. F foundation': Timedelta('-6 days +00:00:00'),\n",
       " 'DEF. F in': Timedelta('-8 days +00:00:00'),\n",
       " 'DEF. F llc': Timedelta('-8 days +12:00:00'),\n",
       " 'DEF. F trust': Timedelta('-8 days +00:00:00'),\n",
       " 'DEF. F us': Timedelta('-7 days +00:00:00'),\n",
       " 'DELHAIZE ': Timedelta('2 days 05:36:00'),\n",
       " 'DELHAIZE associates': Timedelta('0 days 19:23:04.615384615'),\n",
       " 'DELHAIZE co': Timedelta('2 days 03:38:10.909090909'),\n",
       " 'DELHAIZE corp': Timedelta('4 days 21:10:35.294117647'),\n",
       " 'DELHAIZE corporation': Timedelta('0 days 07:30:00'),\n",
       " 'DELHAIZE foundation': Timedelta('-1 days +10:40:00'),\n",
       " 'DELHAIZE in': Timedelta('1 days 15:00:00'),\n",
       " 'DELHAIZE llc': Timedelta('-1 days +16:17:08.571428572'),\n",
       " 'DELHAIZE systems': Timedelta('2 days 06:37:14.482758620'),\n",
       " 'DELHAIZE trust': Timedelta('-1 days +10:33:36'),\n",
       " 'DELHAIZE us': Timedelta('1 days 06:00:00'),\n",
       " 'DEMOU ': Timedelta('-1 days +05:20:00'),\n",
       " 'DEMOU associates': Timedelta('-1 days +08:00:00'),\n",
       " 'DEMOU co': Timedelta('-1 days +00:00:00'),\n",
       " 'DEMOU corp': Timedelta('-1 days +00:00:00'),\n",
       " 'DEMOU corporation': Timedelta('-1 days +04:00:00'),\n",
       " 'DEMOU foundation': Timedelta('1 days 00:00:00'),\n",
       " 'DEMOU in': Timedelta('-2 days +12:00:00'),\n",
       " 'DEMOU llc': Timedelta('-1 days +00:00:00'),\n",
       " 'DEMOU systems': Timedelta('-3 days +08:00:00'),\n",
       " 'DEMOU trust': Timedelta('0 days 00:00:00'),\n",
       " 'DEMOU us': Timedelta('-1 days +06:00:00'),\n",
       " 'DENNIS trust': Timedelta('-2 days +00:00:00'),\n",
       " 'DENVER ': Timedelta('-4 days +00:00:00'),\n",
       " 'DENVER associates': Timedelta('-6 days +00:00:00'),\n",
       " 'DENVER co': Timedelta('-7 days +12:00:00'),\n",
       " 'DENVER foundation': Timedelta('-7 days +19:12:00'),\n",
       " 'DENVER in': Timedelta('2 days 00:00:00'),\n",
       " 'DENVER systems': Timedelta('-7 days +00:00:00'),\n",
       " 'DENVER us': Timedelta('-7 days +08:00:00'),\n",
       " 'DI ': Timedelta('0 days 07:12:00'),\n",
       " 'DI associates': Timedelta('0 days 00:00:00'),\n",
       " 'DI co': Timedelta('0 days 09:36:00'),\n",
       " 'DI corp': Timedelta('1 days 00:00:00'),\n",
       " 'DI corporation': Timedelta('0 days 12:00:00'),\n",
       " 'DI foundation': Timedelta('0 days 16:00:00'),\n",
       " 'DI in': Timedelta('0 days 08:00:00'),\n",
       " 'DI llc': Timedelta('0 days 12:00:00'),\n",
       " 'DI systems': Timedelta('0 days 16:00:00'),\n",
       " 'DI trust': Timedelta('0 days 14:24:00'),\n",
       " 'DI us': Timedelta('1 days 00:00:00'),\n",
       " 'DIAC ': Timedelta('9 days 00:00:00'),\n",
       " 'DIAL  ': Timedelta('0 days 00:00:00'),\n",
       " 'DIAL  us': Timedelta('0 days 00:00:00'),\n",
       " 'DIAMO llc': Timedelta('38 days 00:00:00'),\n",
       " 'DIAMON co': Timedelta('0 days 00:00:00'),\n",
       " 'DIANA D llc': Timedelta('-3 days +00:00:00'),\n",
       " 'DIANN ': Timedelta('-4 days +00:00:00'),\n",
       " 'DIANN associates': Timedelta('4 days 00:00:00'),\n",
       " 'DIANN corp': Timedelta('-4 days +00:00:00'),\n",
       " 'DIANN llc': Timedelta('2 days 16:00:00'),\n",
       " 'DICA corp': Timedelta('7 days 00:00:00'),\n",
       " 'DICK associates': Timedelta('6 days 00:00:00'),\n",
       " 'DICK corp': Timedelta('0 days 00:00:00'),\n",
       " 'DICK corporation': Timedelta('-20 days +12:00:00'),\n",
       " 'DICK foundation': Timedelta('3 days 00:00:00'),\n",
       " 'DICK in': Timedelta('-3 days +08:00:00'),\n",
       " 'DICK llc': Timedelta('1 days 00:00:00'),\n",
       " 'DICK systems': Timedelta('-1 days +12:00:00'),\n",
       " 'DICK trust': Timedelta('1 days 12:00:00'),\n",
       " 'DIRECT  ': Timedelta('7 days 00:00:00'),\n",
       " 'DIRECT  associates': Timedelta('13 days 12:00:00'),\n",
       " 'DIRECT  co': Timedelta('0 days 00:00:00'),\n",
       " 'DIRECT  corp': Timedelta('6 days 00:00:00'),\n",
       " 'DIRECT  in': Timedelta('14 days 00:00:00'),\n",
       " 'DIRECT  systems': Timedelta('6 days 12:00:00'),\n",
       " 'DIRECT  us': Timedelta('7 days 00:00:00'),\n",
       " 'DIS ': Timedelta('-1 days +12:00:00'),\n",
       " 'DIS llc': Timedelta('4 days 00:00:00'),\n",
       " 'DIS us': Timedelta('-2 days +00:00:00'),\n",
       " 'DISCOU foundation': Timedelta('0 days 00:00:00'),\n",
       " 'DISTRI systems': Timedelta('44 days 00:00:00'),\n",
       " 'DOERLE ': Timedelta('37 days 00:00:00'),\n",
       " 'DOERLE corp': Timedelta('2 days 00:00:00'),\n",
       " 'DOERLE systems': Timedelta('71 days 12:00:00'),\n",
       " 'DOLLA ': Timedelta('-2 days +04:48:00'),\n",
       " ...}"
      ]
     },
     "execution_count": 49,
     "metadata": {},
     "output_type": "execute_result"
    }
   ],
   "source": [
    "avgdelay = maindata.groupby('name_customer')['Delay'].mean(numeric_only = False).to_dict()\n",
    "avgdelay"
   ]
  },
  {
   "cell_type": "markdown",
   "id": "64b995e8",
   "metadata": {
    "id": "64b995e8"
   },
   "source": [
    "You need to add the \"avg_delay\" column with the maindata, mapped with \"name_customer\" column\n",
    "\n",
    " - Note - You need to use map function to map the avgdelay with respect to \"name_customer\" column"
   ]
  },
  {
   "cell_type": "code",
   "execution_count": 50,
   "id": "e1e1f3d9",
   "metadata": {
    "id": "e1e1f3d9"
   },
   "outputs": [
    {
     "data": {
      "text/plain": [
       "0       -3 days +07:08:49.779837776\n",
       "1                  19 days 00:00:00\n",
       "2         8 days 02:10:54.545454545\n",
       "3       -3 days +19:33:27.692307693\n",
       "4                  71 days 10:40:00\n",
       "                    ...            \n",
       "39153             -1 days +14:45:00\n",
       "39154   -3 days +12:40:08.540925267\n",
       "39155     1 days 01:08:34.285714285\n",
       "39156     1 days 13:36:42.985074626\n",
       "39157   -4 days +02:20:52.173913044\n",
       "Name: avg_delay, Length: 39158, dtype: timedelta64[ns]"
      ]
     },
     "execution_count": 50,
     "metadata": {},
     "output_type": "execute_result"
    }
   ],
   "source": [
    "maindata['avg_delay'] = maindata['name_customer'].map(avgdelay)\n",
    "maindata['avg_delay']"
   ]
  },
  {
   "cell_type": "markdown",
   "id": "1d332525",
   "metadata": {
    "id": "1d332525"
   },
   "source": [
    "### Observe that the \"avg_delay\" column is in days format. You need to change the format into seconds\n",
    "\n",
    "- Days_format :  17 days 00:00:00\n",
    "- Format in seconds : 1641600.0"
   ]
  },
  {
   "cell_type": "code",
   "execution_count": 51,
   "id": "d5f1041e",
   "metadata": {
    "id": "d5f1041e"
   },
   "outputs": [],
   "source": [
    "maindata['avg_delay']=maindata['avg_delay'].astype('timedelta64[s]')"
   ]
  },
  {
   "cell_type": "markdown",
   "id": "OvgtHSsx_O-n",
   "metadata": {
    "id": "OvgtHSsx_O-n"
   },
   "source": [
    "### Display the maindata dataframe "
   ]
  },
  {
   "cell_type": "code",
   "execution_count": 52,
   "id": "97ca9c45",
   "metadata": {
    "id": "97ca9c45"
   },
   "outputs": [
    {
     "data": {
      "text/html": [
       "<div>\n",
       "<style scoped>\n",
       "    .dataframe tbody tr th:only-of-type {\n",
       "        vertical-align: middle;\n",
       "    }\n",
       "\n",
       "    .dataframe tbody tr th {\n",
       "        vertical-align: top;\n",
       "    }\n",
       "\n",
       "    .dataframe thead th {\n",
       "        text-align: right;\n",
       "    }\n",
       "</style>\n",
       "<table border=\"1\" class=\"dataframe\">\n",
       "  <thead>\n",
       "    <tr style=\"text-align: right;\">\n",
       "      <th></th>\n",
       "      <th>business_code</th>\n",
       "      <th>cust_number</th>\n",
       "      <th>name_customer</th>\n",
       "      <th>clear_date</th>\n",
       "      <th>buisness_year</th>\n",
       "      <th>doc_id</th>\n",
       "      <th>posting_date</th>\n",
       "      <th>due_in_date</th>\n",
       "      <th>baseline_create_date</th>\n",
       "      <th>cust_payment_terms</th>\n",
       "      <th>converted_usd</th>\n",
       "      <th>Delay</th>\n",
       "      <th>avg_delay</th>\n",
       "    </tr>\n",
       "  </thead>\n",
       "  <tbody>\n",
       "    <tr>\n",
       "      <th>0</th>\n",
       "      <td>U001</td>\n",
       "      <td>0200769623</td>\n",
       "      <td>WAL-MAR corp</td>\n",
       "      <td>2020-02-11</td>\n",
       "      <td>2020.0</td>\n",
       "      <td>1.930438e+09</td>\n",
       "      <td>2020-01-26</td>\n",
       "      <td>2020-02-10</td>\n",
       "      <td>2020-01-26</td>\n",
       "      <td>NAH4</td>\n",
       "      <td>54273.280</td>\n",
       "      <td>1 days</td>\n",
       "      <td>-233471.0</td>\n",
       "    </tr>\n",
       "    <tr>\n",
       "      <th>1</th>\n",
       "      <td>U001</td>\n",
       "      <td>0200980828</td>\n",
       "      <td>BEN E</td>\n",
       "      <td>2019-08-08</td>\n",
       "      <td>2019.0</td>\n",
       "      <td>1.929646e+09</td>\n",
       "      <td>2019-07-22</td>\n",
       "      <td>2019-08-11</td>\n",
       "      <td>2019-07-22</td>\n",
       "      <td>NAD1</td>\n",
       "      <td>79656.600</td>\n",
       "      <td>-3 days</td>\n",
       "      <td>1641600.0</td>\n",
       "    </tr>\n",
       "    <tr>\n",
       "      <th>2</th>\n",
       "      <td>U001</td>\n",
       "      <td>0200792734</td>\n",
       "      <td>MDV/ trust</td>\n",
       "      <td>2019-12-30</td>\n",
       "      <td>2019.0</td>\n",
       "      <td>1.929874e+09</td>\n",
       "      <td>2019-09-14</td>\n",
       "      <td>2019-09-29</td>\n",
       "      <td>2019-09-14</td>\n",
       "      <td>NAA8</td>\n",
       "      <td>2253.860</td>\n",
       "      <td>92 days</td>\n",
       "      <td>699054.0</td>\n",
       "    </tr>\n",
       "    <tr>\n",
       "      <th>3</th>\n",
       "      <td>U001</td>\n",
       "      <td>0200769623</td>\n",
       "      <td>WAL-MAR foundation</td>\n",
       "      <td>2019-11-25</td>\n",
       "      <td>2019.0</td>\n",
       "      <td>1.930148e+09</td>\n",
       "      <td>2019-11-13</td>\n",
       "      <td>2019-11-28</td>\n",
       "      <td>2019-11-13</td>\n",
       "      <td>NAH4</td>\n",
       "      <td>33133.290</td>\n",
       "      <td>-3 days</td>\n",
       "      <td>-188793.0</td>\n",
       "    </tr>\n",
       "    <tr>\n",
       "      <th>4</th>\n",
       "      <td>CA02</td>\n",
       "      <td>0140106181</td>\n",
       "      <td>THE  corporation</td>\n",
       "      <td>2019-12-04</td>\n",
       "      <td>2019.0</td>\n",
       "      <td>2.960581e+09</td>\n",
       "      <td>2019-09-20</td>\n",
       "      <td>2019-10-04</td>\n",
       "      <td>2019-09-24</td>\n",
       "      <td>CA10</td>\n",
       "      <td>15558.088</td>\n",
       "      <td>61 days</td>\n",
       "      <td>6172800.0</td>\n",
       "    </tr>\n",
       "  </tbody>\n",
       "</table>\n",
       "</div>"
      ],
      "text/plain": [
       "  business_code cust_number       name_customer clear_date  buisness_year  \\\n",
       "0          U001  0200769623        WAL-MAR corp 2020-02-11         2020.0   \n",
       "1          U001  0200980828              BEN E  2019-08-08         2019.0   \n",
       "2          U001  0200792734          MDV/ trust 2019-12-30         2019.0   \n",
       "3          U001  0200769623  WAL-MAR foundation 2019-11-25         2019.0   \n",
       "4          CA02  0140106181    THE  corporation 2019-12-04         2019.0   \n",
       "\n",
       "         doc_id posting_date due_in_date baseline_create_date  \\\n",
       "0  1.930438e+09   2020-01-26  2020-02-10           2020-01-26   \n",
       "1  1.929646e+09   2019-07-22  2019-08-11           2019-07-22   \n",
       "2  1.929874e+09   2019-09-14  2019-09-29           2019-09-14   \n",
       "3  1.930148e+09   2019-11-13  2019-11-28           2019-11-13   \n",
       "4  2.960581e+09   2019-09-20  2019-10-04           2019-09-24   \n",
       "\n",
       "  cust_payment_terms  converted_usd   Delay  avg_delay  \n",
       "0               NAH4      54273.280  1 days  -233471.0  \n",
       "1               NAD1      79656.600 -3 days  1641600.0  \n",
       "2               NAA8       2253.860 92 days   699054.0  \n",
       "3               NAH4      33133.290 -3 days  -188793.0  \n",
       "4               CA10      15558.088 61 days  6172800.0  "
      ]
     },
     "execution_count": 52,
     "metadata": {},
     "output_type": "execute_result"
    }
   ],
   "source": [
    "maindata.head(5)"
   ]
  },
  {
   "cell_type": "markdown",
   "id": "ae24c7bb",
   "metadata": {
    "id": "ae24c7bb"
   },
   "source": [
    "### Since you have created the \"avg_delay\" column from \"Delay\" and \"clear_date\" column, there is no need of these two columns anymore \n",
    "\n",
    "- You are expected to drop \"Delay\" and \"clear_date\" columns from maindata dataframe "
   ]
  },
  {
   "cell_type": "code",
   "execution_count": 53,
   "id": "78a61ab9",
   "metadata": {
    "id": "78a61ab9"
   },
   "outputs": [],
   "source": [
    "maindata = maindata.drop(['Delay','clear_date'], axis = 1)"
   ]
  },
  {
   "cell_type": "markdown",
   "id": "ae724bfc",
   "metadata": {
    "id": "ae724bfc"
   },
   "source": [
    "# Splitting of Train and the Test Data"
   ]
  },
  {
   "cell_type": "markdown",
   "id": "cb6f0264",
   "metadata": {
    "id": "cb6f0264"
   },
   "source": [
    "### You need to split the \"maindata\" columns into X and y dataframe\n",
    "\n",
    "- Note - y should have the target column i.e. \"avg_delay\" and the other column should be in X\n",
    "\n",
    "- X is going to hold the source fields and y will be going to hold the target fields"
   ]
  },
  {
   "cell_type": "code",
   "execution_count": 54,
   "id": "75ab29ab",
   "metadata": {
    "id": "75ab29ab"
   },
   "outputs": [],
   "source": [
    "y = pd.DataFrame(maindata,columns=['avg_delay']) #target column == avg_delay"
   ]
  },
  {
   "cell_type": "code",
   "execution_count": 55,
   "id": "6412c62b",
   "metadata": {
    "id": "6412c62b"
   },
   "outputs": [],
   "source": [
    "X = pd.DataFrame(maindata)\n",
    "X = X.drop(['avg_delay'], axis = 1)"
   ]
  },
  {
   "cell_type": "markdown",
   "id": "1c2942bf",
   "metadata": {
    "id": "1c2942bf"
   },
   "source": [
    "#### You are expected to split both the dataframes into train and test format in 60:40 ratio \n",
    "\n",
    "- Note - The expected output should be in \"X_train\", \"X_loc_test\", \"y_train\", \"y_loc_test\" format "
   ]
  },
  {
   "cell_type": "code",
   "execution_count": 56,
   "id": "12f8bd6b",
   "metadata": {},
   "outputs": [],
   "source": [
    "from sklearn.model_selection import train_test_split"
   ]
  },
  {
   "cell_type": "code",
   "execution_count": 57,
   "id": "91a336f6",
   "metadata": {},
   "outputs": [],
   "source": [
    "X_train, X_loc_test, y_train, y_loc_test = train_test_split(X, y, test_size=0.4, shuffle = True, random_state = 19)"
   ]
  },
  {
   "cell_type": "code",
   "execution_count": 58,
   "id": "d92160a5",
   "metadata": {
    "id": "d92160a5",
    "scrolled": true
   },
   "outputs": [
    {
     "data": {
      "text/plain": [
       "(      business_code cust_number        name_customer  buisness_year  \\\n",
       " 27186          CA02  0140104331            CORE-M in         2019.0   \n",
       " 12643          U001  0200769623          WAL-MAR llc         2019.0   \n",
       " 32103          U001  0200726979    BJ'S  corporation         2019.0   \n",
       " 35614          U001      CCU002  KRFT FDS foundation         2020.0   \n",
       " 28122          U001  0200705742            DOT trust         2020.0   \n",
       " ...             ...         ...                  ...            ...   \n",
       " 33811          CA02  0140106408        WAL-M systems         2019.0   \n",
       " 21416          U001  0200769623        WAL-MAR trust         2019.0   \n",
       " 34146          U001  0200780383                MEIJ          2019.0   \n",
       " 17141          U001  0200148860     DOLLA associates         2019.0   \n",
       " 10862          U001  0200776463             KROGE in         2019.0   \n",
       " \n",
       "              doc_id posting_date due_in_date baseline_create_date  \\\n",
       " 27186  2.960538e+09   2019-03-27  2019-04-14           2019-04-04   \n",
       " 12643  1.930218e+09   2019-12-07  2019-12-22           2019-12-07   \n",
       " 32103  1.929867e+09   2019-09-12  2019-09-27           2019-09-12   \n",
       " 35614  1.930475e+09   2020-02-06  2020-03-12           2020-02-06   \n",
       " 28122  1.930508e+09   2020-02-09  2020-03-12           2020-02-09   \n",
       " ...             ...          ...         ...                  ...   \n",
       " 33811  2.960550e+09   2019-05-26  2019-06-05           2019-05-26   \n",
       " 21416  1.928926e+09   2019-03-09  2019-03-24           2019-03-09   \n",
       " 34146  1.930265e+09   2019-12-11  2019-12-26           2019-12-11   \n",
       " 17141  1.929025e+09   2019-03-27  2019-04-11           2019-03-27   \n",
       " 10862  1.929826e+09   2019-09-03  2019-09-18           2019-09-03   \n",
       " \n",
       "       cust_payment_terms  converted_usd  \n",
       " 27186               CA10       9937.333  \n",
       " 12643               NAH4       1328.250  \n",
       " 32103               NAA8        353.360  \n",
       " 35614               NAG2      61334.910  \n",
       " 28122               NA32      86641.120  \n",
       " ...                  ...            ...  \n",
       " 33811               CA10       2241.274  \n",
       " 21416               NAH4      28198.230  \n",
       " 34146               NAA8     128439.970  \n",
       " 17141               NAA8      14824.320  \n",
       " 10862               NAA8      75953.740  \n",
       " \n",
       " [23494 rows x 10 columns],\n",
       "       business_code cust_number     name_customer  buisness_year  \\\n",
       " 24021          U001  0200803720              DEC          2019.0   \n",
       " 30595          U001  0200782001     GORDO systems         2019.0   \n",
       " 9046           U001  0200974851          RESTA in         2019.0   \n",
       " 18610          U001  0100031704  DELHAIZE systems         2020.0   \n",
       " 29713          CA02  0140105686        SYSC trust         2019.0   \n",
       " ...             ...         ...               ...            ...   \n",
       " 13883          U001  0200230690         DECA corp         2019.0   \n",
       " 9486           U001  0200769623        WAL-MAR us         2019.0   \n",
       " 10006          U001  0200230690         DECA corp         2019.0   \n",
       " 24906          U001  0200793830      M foundation         2019.0   \n",
       " 1728           U001  0200772670  ASSOCIAT systems         2019.0   \n",
       " \n",
       "              doc_id posting_date due_in_date baseline_create_date  \\\n",
       " 24021  1.929843e+09   2019-09-07  2019-09-24           2019-09-01   \n",
       " 30595  1.929918e+09   2019-10-04  2019-10-19           2019-10-04   \n",
       " 9046   1.929776e+09   2019-08-22  2019-09-11           2019-08-22   \n",
       " 18610  1.930477e+09   2020-02-05  2020-02-20           2020-02-05   \n",
       " 29713  2.960565e+09   2019-07-16  2019-07-28           2019-07-18   \n",
       " ...             ...          ...         ...                  ...   \n",
       " 13883  1.929275e+09   2019-05-07  2019-05-24           2019-05-01   \n",
       " 9486   1.930013e+09   2019-10-14  2019-10-29           2019-10-14   \n",
       " 10006  1.930213e+09   2019-12-03  2019-12-24           2019-12-01   \n",
       " 24906  1.929147e+09   2019-04-14  2019-04-29           2019-04-14   \n",
       " 1728   1.929903e+09   2019-09-20  2019-10-05           2019-09-20   \n",
       " \n",
       "       cust_payment_terms  converted_usd  \n",
       " 24021               NAM4        470.400  \n",
       " 30595               NAA8      13702.710  \n",
       " 9046                NAD1        856.090  \n",
       " 18610               NAA8      85758.860  \n",
       " 29713               CA10       1198.267  \n",
       " ...                  ...            ...  \n",
       " 13883               NAM4        420.240  \n",
       " 9486                NAH4      52148.410  \n",
       " 10006               NAM4       7024.320  \n",
       " 24906               NAA8     119539.180  \n",
       " 1728                NAU5      27588.980  \n",
       " \n",
       " [15664 rows x 10 columns])"
      ]
     },
     "execution_count": 58,
     "metadata": {},
     "output_type": "execute_result"
    }
   ],
   "source": [
    "X_train, X_loc_test"
   ]
  },
  {
   "cell_type": "code",
   "execution_count": 59,
   "id": "ef27d942",
   "metadata": {},
   "outputs": [
    {
     "data": {
      "text/plain": [
       "(       avg_delay\n",
       " 27186  -777600.0\n",
       " 12643  -225657.0\n",
       " 32103   133010.0\n",
       " 35614   254400.0\n",
       " 28122  -550639.0\n",
       " ...          ...\n",
       " 33811   810830.0\n",
       " 21416  -200193.0\n",
       " 34146   150582.0\n",
       " 17141   -17280.0\n",
       " 10862   372600.0\n",
       " \n",
       " [23494 rows x 1 columns],\n",
       "        avg_delay\n",
       " 24021  -378373.0\n",
       " 30595   124800.0\n",
       " 9046     18000.0\n",
       " 18610   196634.0\n",
       " 29713   484200.0\n",
       " ...          ...\n",
       " 13883  -395712.0\n",
       " 9486   -194558.0\n",
       " 10006  -395712.0\n",
       " 24906   138240.0\n",
       " 1728    204000.0\n",
       " \n",
       " [15664 rows x 1 columns])"
      ]
     },
     "execution_count": 59,
     "metadata": {},
     "output_type": "execute_result"
    }
   ],
   "source": [
    "y_train, y_loc_test"
   ]
  },
  {
   "cell_type": "markdown",
   "id": "p4OME62pDufR",
   "metadata": {
    "id": "p4OME62pDufR"
   },
   "source": [
    "### Please check for the number of rows and columns of all the new dataframes (all 4)"
   ]
  },
  {
   "cell_type": "code",
   "execution_count": 60,
   "id": "567752db",
   "metadata": {},
   "outputs": [
    {
     "name": "stdout",
     "output_type": "stream",
     "text": [
      "X_train shape: (23494, 10)\n",
      "X_loc_test shape: (15664, 10)\n",
      "y_train shape: (23494, 1)\n",
      "y_loc_test shape: (15664, 1)\n"
     ]
    }
   ],
   "source": [
    "print(\"X_train shape: {}\".format(X_train.shape))\n",
    "print(\"X_loc_test shape: {}\".format(X_loc_test.shape))\n",
    "print(\"y_train shape: {}\".format(y_train.shape))\n",
    "print(\"y_loc_test shape: {}\".format(y_loc_test.shape))"
   ]
  },
  {
   "cell_type": "markdown",
   "id": "4a68ed71",
   "metadata": {
    "id": "4a68ed71"
   },
   "source": [
    "### Now you are expected to split the \"X_loc_test\" and \"y_loc_test\" dataset into \"Test\" and \"Validation\" (as the names given below) dataframe with 50:50 format \n",
    "\n",
    "- Note - The expected output should be in \"X_val\", \"X_test\", \"y_val\", \"y_test\" format"
   ]
  },
  {
   "cell_type": "code",
   "execution_count": 61,
   "id": "b56c62f2",
   "metadata": {
    "id": "b56c62f2"
   },
   "outputs": [],
   "source": [
    "X_test, X_val, y_test, y_val = train_test_split(X_loc_test, y_loc_test, test_size=0.5, random_state= 19)"
   ]
  },
  {
   "cell_type": "markdown",
   "id": "bJTSAskvERH1",
   "metadata": {
    "id": "bJTSAskvERH1"
   },
   "source": [
    "### Please check for the number of rows and columns of all the 4 dataframes "
   ]
  },
  {
   "cell_type": "code",
   "execution_count": 62,
   "id": "845d7564",
   "metadata": {
    "id": "845d7564"
   },
   "outputs": [
    {
     "name": "stdout",
     "output_type": "stream",
     "text": [
      "X_test shape: (7832, 10)\n",
      "X_val shape: (7832, 10)\n",
      "y_test shape: (7832, 1)\n",
      "y_val shape: (7832, 1)\n"
     ]
    }
   ],
   "source": [
    "print(\"X_test shape: {}\".format(X_test.shape))\n",
    "print(\"X_val shape: {}\".format(X_val.shape))\n",
    "print(\"y_test shape: {}\".format(y_test.shape))\n",
    "print(\"y_val shape: {}\".format(y_val.shape))"
   ]
  },
  {
   "cell_type": "markdown",
   "id": "110fa872",
   "metadata": {
    "id": "110fa872"
   },
   "source": [
    "# Exploratory Data Analysis (EDA) "
   ]
  },
  {
   "cell_type": "markdown",
   "id": "ffc8fe0f",
   "metadata": {
    "id": "ffc8fe0f"
   },
   "source": [
    "### Distribution Plot of the target variable (use the dataframe which contains the target field)\n",
    "\n",
    "- Note - You are expected to make a distribution plot for the target variable "
   ]
  },
  {
   "cell_type": "code",
   "execution_count": 63,
   "id": "14f827f7",
   "metadata": {},
   "outputs": [],
   "source": [
    "import seaborn as sns"
   ]
  },
  {
   "cell_type": "code",
   "execution_count": 64,
   "id": "d079948f",
   "metadata": {
    "scrolled": false
   },
   "outputs": [
    {
     "data": {
      "text/plain": [
       "[Text(0.5, 1.0, 'Distribution plot of TARGET VARIABLE viz avg_delay')]"
      ]
     },
     "execution_count": 64,
     "metadata": {},
     "output_type": "execute_result"
    },
    {
     "data": {
      "image/png": "[encoded data removed]",
      "text/plain": [
       "<Figure size 432x288 with 1 Axes>"
      ]
     },
     "metadata": {
      "needs_background": "light"
     },
     "output_type": "display_data"
    }
   ],
   "source": [
    "sns.distplot(x = maindata['avg_delay'],color = ('green') ).set(title = 'Distribution plot of TARGET VARIABLE viz avg_delay')"
   ]
  },
  {
   "cell_type": "markdown",
   "id": "d0e323a3",
   "metadata": {
    "id": "d0e323a3"
   },
   "source": [
    "### You are expected to group the X_train dataset on 'name_customer' column with 'doc_id' in the x_train set\n",
    "\n",
    "### Need to store the outcome into a new dataframe \n",
    "\n",
    "- Note code given for groupby statement- X_train.groupby(by=['name_customer'], as_index=False)['doc_id'].count()"
   ]
  },
  {
   "cell_type": "code",
   "execution_count": 65,
   "id": "f7acf0ee",
   "metadata": {
    "id": "f7acf0ee"
   },
   "outputs": [
    {
     "data": {
      "text/html": [
       "<div>\n",
       "<style scoped>\n",
       "    .dataframe tbody tr th:only-of-type {\n",
       "        vertical-align: middle;\n",
       "    }\n",
       "\n",
       "    .dataframe tbody tr th {\n",
       "        vertical-align: top;\n",
       "    }\n",
       "\n",
       "    .dataframe thead th {\n",
       "        text-align: right;\n",
       "    }\n",
       "</style>\n",
       "<table border=\"1\" class=\"dataframe\">\n",
       "  <thead>\n",
       "    <tr style=\"text-align: right;\">\n",
       "      <th></th>\n",
       "      <th>name_customer</th>\n",
       "      <th>doc_id</th>\n",
       "    </tr>\n",
       "  </thead>\n",
       "  <tbody>\n",
       "    <tr>\n",
       "      <th>0</th>\n",
       "      <td>11078 us</td>\n",
       "      <td>1</td>\n",
       "    </tr>\n",
       "    <tr>\n",
       "      <th>1</th>\n",
       "      <td>17135 associates</td>\n",
       "      <td>1</td>\n",
       "    </tr>\n",
       "    <tr>\n",
       "      <th>2</th>\n",
       "      <td>17135 llc</td>\n",
       "      <td>1</td>\n",
       "    </tr>\n",
       "    <tr>\n",
       "      <th>3</th>\n",
       "      <td>99 CE</td>\n",
       "      <td>2</td>\n",
       "    </tr>\n",
       "    <tr>\n",
       "      <th>4</th>\n",
       "      <td>99 CE associates</td>\n",
       "      <td>2</td>\n",
       "    </tr>\n",
       "    <tr>\n",
       "      <th>...</th>\n",
       "      <td>...</td>\n",
       "      <td>...</td>\n",
       "    </tr>\n",
       "    <tr>\n",
       "      <th>3100</th>\n",
       "      <td>YAEGER corp</td>\n",
       "      <td>1</td>\n",
       "    </tr>\n",
       "    <tr>\n",
       "      <th>3101</th>\n",
       "      <td>YEN BROS</td>\n",
       "      <td>1</td>\n",
       "    </tr>\n",
       "    <tr>\n",
       "      <th>3102</th>\n",
       "      <td>YEN BROS corp</td>\n",
       "      <td>1</td>\n",
       "    </tr>\n",
       "    <tr>\n",
       "      <th>3103</th>\n",
       "      <td>YEN BROS corporation</td>\n",
       "      <td>2</td>\n",
       "    </tr>\n",
       "    <tr>\n",
       "      <th>3104</th>\n",
       "      <td>ZIYAD  us</td>\n",
       "      <td>1</td>\n",
       "    </tr>\n",
       "  </tbody>\n",
       "</table>\n",
       "<p>3105 rows × 2 columns</p>\n",
       "</div>"
      ],
      "text/plain": [
       "             name_customer  doc_id\n",
       "0                 11078 us       1\n",
       "1         17135 associates       1\n",
       "2                17135 llc       1\n",
       "3                   99 CE        2\n",
       "4         99 CE associates       2\n",
       "...                    ...     ...\n",
       "3100           YAEGER corp       1\n",
       "3101             YEN BROS        1\n",
       "3102         YEN BROS corp       1\n",
       "3103  YEN BROS corporation       2\n",
       "3104             ZIYAD  us       1\n",
       "\n",
       "[3105 rows x 2 columns]"
      ]
     },
     "execution_count": 65,
     "metadata": {},
     "output_type": "execute_result"
    }
   ],
   "source": [
    "x_train = pd.DataFrame(X_train)\n",
    "x_train = X_train.groupby(by=['name_customer'], as_index=False)['doc_id'].count()\n",
    "x_train"
   ]
  },
  {
   "cell_type": "markdown",
   "id": "cA43bFffFt6i",
   "metadata": {
    "id": "cA43bFffFt6i"
   },
   "source": [
    "### You can make another distribution plot of the \"doc_id\" column from x_train"
   ]
  },
  {
   "cell_type": "code",
   "execution_count": 66,
   "id": "9576bf33",
   "metadata": {
    "id": "9576bf33"
   },
   "outputs": [
    {
     "data": {
      "text/plain": [
       "[Text(0.5, 1.0, 'Distribution plot of doc_id from x_train')]"
      ]
     },
     "execution_count": 66,
     "metadata": {},
     "output_type": "execute_result"
    },
    {
     "data": {
      "image/png": "[encoded data removed]",
      "text/plain": [
       "<Figure size 432x288 with 1 Axes>"
      ]
     },
     "metadata": {
      "needs_background": "light"
     },
     "output_type": "display_data"
    }
   ],
   "source": [
    "sns.distplot(x_train['doc_id'],color = ('green') ).set(title = 'Distribution plot of doc_id from x_train')"
   ]
  },
  {
   "cell_type": "markdown",
   "id": "fba2c44f",
   "metadata": {
    "id": "fba2c44f"
   },
   "source": [
    "#### Create a Distribution plot only for business_year and a seperate distribution plot of \"business_year\" column along with the doc_id\" column\n"
   ]
  },
  {
   "cell_type": "code",
   "execution_count": 67,
   "id": "4fecec77",
   "metadata": {
    "id": "4fecec77"
   },
   "outputs": [
    {
     "data": {
      "text/plain": [
       "[Text(0.5, 1.0, 'Distribution plot of business_year from X_train')]"
      ]
     },
     "execution_count": 67,
     "metadata": {},
     "output_type": "execute_result"
    },
    {
     "data": {
      "image/png": "[encoded data removed]",
      "text/plain": [
       "<Figure size 432x288 with 1 Axes>"
      ]
     },
     "metadata": {
      "needs_background": "light"
     },
     "output_type": "display_data"
    }
   ],
   "source": [
    "sns.distplot(X_train['buisness_year'],color = ('green') ).set(title = 'Distribution plot of business_year from X_train')"
   ]
  },
  {
   "cell_type": "code",
   "execution_count": 68,
   "id": "qr1jGhfOKjnw",
   "metadata": {
    "id": "qr1jGhfOKjnw"
   },
   "outputs": [
    {
     "data": {
      "text/plain": [
       "[Text(0.5, 1.0, 'Distribution plot of business_year and doc_id from X_train')]"
      ]
     },
     "execution_count": 68,
     "metadata": {},
     "output_type": "execute_result"
    },
    {
     "data": {
      "image/png": "[encoded data removed]",
      "text/plain": [
       "<Figure size 432x288 with 1 Axes>"
      ]
     },
     "metadata": {
      "needs_background": "light"
     },
     "output_type": "display_data"
    }
   ],
   "source": [
    "sns.distplot(X_train[['buisness_year','doc_id']],color = ('green')).set(title = 'Distribution plot of business_year and doc_id from X_train')"
   ]
  },
  {
   "cell_type": "markdown",
   "id": "968fbcc9",
   "metadata": {
    "id": "968fbcc9"
   },
   "source": [
    "# Feature Engineering "
   ]
  },
  {
   "cell_type": "markdown",
   "id": "jbh6CyGqH3XE",
   "metadata": {
    "id": "jbh6CyGqH3XE"
   },
   "source": [
    "### Display and describe the X_train dataframe "
   ]
  },
  {
   "cell_type": "code",
   "execution_count": 69,
   "id": "e6bcf307",
   "metadata": {
    "id": "e6bcf307"
   },
   "outputs": [
    {
     "data": {
      "text/html": [
       "<div>\n",
       "<style scoped>\n",
       "    .dataframe tbody tr th:only-of-type {\n",
       "        vertical-align: middle;\n",
       "    }\n",
       "\n",
       "    .dataframe tbody tr th {\n",
       "        vertical-align: top;\n",
       "    }\n",
       "\n",
       "    .dataframe thead th {\n",
       "        text-align: right;\n",
       "    }\n",
       "</style>\n",
       "<table border=\"1\" class=\"dataframe\">\n",
       "  <thead>\n",
       "    <tr style=\"text-align: right;\">\n",
       "      <th></th>\n",
       "      <th>business_code</th>\n",
       "      <th>cust_number</th>\n",
       "      <th>name_customer</th>\n",
       "      <th>buisness_year</th>\n",
       "      <th>doc_id</th>\n",
       "      <th>posting_date</th>\n",
       "      <th>due_in_date</th>\n",
       "      <th>baseline_create_date</th>\n",
       "      <th>cust_payment_terms</th>\n",
       "      <th>converted_usd</th>\n",
       "    </tr>\n",
       "  </thead>\n",
       "  <tbody>\n",
       "    <tr>\n",
       "      <th>27186</th>\n",
       "      <td>CA02</td>\n",
       "      <td>0140104331</td>\n",
       "      <td>CORE-M in</td>\n",
       "      <td>2019.0</td>\n",
       "      <td>2.960538e+09</td>\n",
       "      <td>2019-03-27</td>\n",
       "      <td>2019-04-14</td>\n",
       "      <td>2019-04-04</td>\n",
       "      <td>CA10</td>\n",
       "      <td>9937.333</td>\n",
       "    </tr>\n",
       "    <tr>\n",
       "      <th>12643</th>\n",
       "      <td>U001</td>\n",
       "      <td>0200769623</td>\n",
       "      <td>WAL-MAR llc</td>\n",
       "      <td>2019.0</td>\n",
       "      <td>1.930218e+09</td>\n",
       "      <td>2019-12-07</td>\n",
       "      <td>2019-12-22</td>\n",
       "      <td>2019-12-07</td>\n",
       "      <td>NAH4</td>\n",
       "      <td>1328.250</td>\n",
       "    </tr>\n",
       "    <tr>\n",
       "      <th>32103</th>\n",
       "      <td>U001</td>\n",
       "      <td>0200726979</td>\n",
       "      <td>BJ'S  corporation</td>\n",
       "      <td>2019.0</td>\n",
       "      <td>1.929867e+09</td>\n",
       "      <td>2019-09-12</td>\n",
       "      <td>2019-09-27</td>\n",
       "      <td>2019-09-12</td>\n",
       "      <td>NAA8</td>\n",
       "      <td>353.360</td>\n",
       "    </tr>\n",
       "    <tr>\n",
       "      <th>35614</th>\n",
       "      <td>U001</td>\n",
       "      <td>CCU002</td>\n",
       "      <td>KRFT FDS foundation</td>\n",
       "      <td>2020.0</td>\n",
       "      <td>1.930475e+09</td>\n",
       "      <td>2020-02-06</td>\n",
       "      <td>2020-03-12</td>\n",
       "      <td>2020-02-06</td>\n",
       "      <td>NAG2</td>\n",
       "      <td>61334.910</td>\n",
       "    </tr>\n",
       "    <tr>\n",
       "      <th>28122</th>\n",
       "      <td>U001</td>\n",
       "      <td>0200705742</td>\n",
       "      <td>DOT trust</td>\n",
       "      <td>2020.0</td>\n",
       "      <td>1.930508e+09</td>\n",
       "      <td>2020-02-09</td>\n",
       "      <td>2020-03-12</td>\n",
       "      <td>2020-02-09</td>\n",
       "      <td>NA32</td>\n",
       "      <td>86641.120</td>\n",
       "    </tr>\n",
       "    <tr>\n",
       "      <th>14454</th>\n",
       "      <td>U001</td>\n",
       "      <td>0200886415</td>\n",
       "      <td>COSTCO in</td>\n",
       "      <td>2019.0</td>\n",
       "      <td>1.928960e+09</td>\n",
       "      <td>2019-03-19</td>\n",
       "      <td>2019-04-03</td>\n",
       "      <td>2019-03-19</td>\n",
       "      <td>NAA8</td>\n",
       "      <td>10377.600</td>\n",
       "    </tr>\n",
       "    <tr>\n",
       "      <th>22911</th>\n",
       "      <td>U001</td>\n",
       "      <td>200769623</td>\n",
       "      <td>WAL-MAR co</td>\n",
       "      <td>2019.0</td>\n",
       "      <td>1.929085e+09</td>\n",
       "      <td>2019-04-04</td>\n",
       "      <td>2019-04-19</td>\n",
       "      <td>2019-04-04</td>\n",
       "      <td>NAH4</td>\n",
       "      <td>28091.060</td>\n",
       "    </tr>\n",
       "    <tr>\n",
       "      <th>14136</th>\n",
       "      <td>U002</td>\n",
       "      <td>0100036009</td>\n",
       "      <td>JOSE foundation</td>\n",
       "      <td>2019.0</td>\n",
       "      <td>1.990570e+09</td>\n",
       "      <td>2019-11-08</td>\n",
       "      <td>2019-12-13</td>\n",
       "      <td>2019-11-08</td>\n",
       "      <td>NAG2</td>\n",
       "      <td>20726.050</td>\n",
       "    </tr>\n",
       "  </tbody>\n",
       "</table>\n",
       "</div>"
      ],
      "text/plain": [
       "      business_code cust_number        name_customer  buisness_year  \\\n",
       "27186          CA02  0140104331            CORE-M in         2019.0   \n",
       "12643          U001  0200769623          WAL-MAR llc         2019.0   \n",
       "32103          U001  0200726979    BJ'S  corporation         2019.0   \n",
       "35614          U001      CCU002  KRFT FDS foundation         2020.0   \n",
       "28122          U001  0200705742            DOT trust         2020.0   \n",
       "14454          U001  0200886415            COSTCO in         2019.0   \n",
       "22911          U001   200769623           WAL-MAR co         2019.0   \n",
       "14136          U002  0100036009      JOSE foundation         2019.0   \n",
       "\n",
       "             doc_id posting_date due_in_date baseline_create_date  \\\n",
       "27186  2.960538e+09   2019-03-27  2019-04-14           2019-04-04   \n",
       "12643  1.930218e+09   2019-12-07  2019-12-22           2019-12-07   \n",
       "32103  1.929867e+09   2019-09-12  2019-09-27           2019-09-12   \n",
       "35614  1.930475e+09   2020-02-06  2020-03-12           2020-02-06   \n",
       "28122  1.930508e+09   2020-02-09  2020-03-12           2020-02-09   \n",
       "14454  1.928960e+09   2019-03-19  2019-04-03           2019-03-19   \n",
       "22911  1.929085e+09   2019-04-04  2019-04-19           2019-04-04   \n",
       "14136  1.990570e+09   2019-11-08  2019-12-13           2019-11-08   \n",
       "\n",
       "      cust_payment_terms  converted_usd  \n",
       "27186               CA10       9937.333  \n",
       "12643               NAH4       1328.250  \n",
       "32103               NAA8        353.360  \n",
       "35614               NAG2      61334.910  \n",
       "28122               NA32      86641.120  \n",
       "14454               NAA8      10377.600  \n",
       "22911               NAH4      28091.060  \n",
       "14136               NAG2      20726.050  "
      ]
     },
     "execution_count": 69,
     "metadata": {},
     "output_type": "execute_result"
    }
   ],
   "source": [
    "X_train.head(8)"
   ]
  },
  {
   "cell_type": "code",
   "execution_count": 70,
   "id": "08ccc819",
   "metadata": {
    "id": "08ccc819"
   },
   "outputs": [
    {
     "data": {
      "text/html": [
       "<div>\n",
       "<style scoped>\n",
       "    .dataframe tbody tr th:only-of-type {\n",
       "        vertical-align: middle;\n",
       "    }\n",
       "\n",
       "    .dataframe tbody tr th {\n",
       "        vertical-align: top;\n",
       "    }\n",
       "\n",
       "    .dataframe thead th {\n",
       "        text-align: right;\n",
       "    }\n",
       "</style>\n",
       "<table border=\"1\" class=\"dataframe\">\n",
       "  <thead>\n",
       "    <tr style=\"text-align: right;\">\n",
       "      <th></th>\n",
       "      <th>buisness_year</th>\n",
       "      <th>doc_id</th>\n",
       "      <th>converted_usd</th>\n",
       "    </tr>\n",
       "  </thead>\n",
       "  <tbody>\n",
       "    <tr>\n",
       "      <th>count</th>\n",
       "      <td>23494.000000</td>\n",
       "      <td>2.349400e+04</td>\n",
       "      <td>23494.000000</td>\n",
       "    </tr>\n",
       "    <tr>\n",
       "      <th>mean</th>\n",
       "      <td>2019.131991</td>\n",
       "      <td>2.014229e+09</td>\n",
       "      <td>30673.799056</td>\n",
       "    </tr>\n",
       "    <tr>\n",
       "      <th>std</th>\n",
       "      <td>0.338488</td>\n",
       "      <td>2.958624e+08</td>\n",
       "      <td>36793.352634</td>\n",
       "    </tr>\n",
       "    <tr>\n",
       "      <th>min</th>\n",
       "      <td>2019.000000</td>\n",
       "      <td>1.928502e+09</td>\n",
       "      <td>0.790000</td>\n",
       "    </tr>\n",
       "    <tr>\n",
       "      <th>25%</th>\n",
       "      <td>2019.000000</td>\n",
       "      <td>1.929178e+09</td>\n",
       "      <td>4582.305000</td>\n",
       "    </tr>\n",
       "    <tr>\n",
       "      <th>50%</th>\n",
       "      <td>2019.000000</td>\n",
       "      <td>1.929732e+09</td>\n",
       "      <td>16894.392000</td>\n",
       "    </tr>\n",
       "    <tr>\n",
       "      <th>75%</th>\n",
       "      <td>2019.000000</td>\n",
       "      <td>1.930211e+09</td>\n",
       "      <td>45181.832500</td>\n",
       "    </tr>\n",
       "    <tr>\n",
       "      <th>max</th>\n",
       "      <td>2020.000000</td>\n",
       "      <td>9.500000e+09</td>\n",
       "      <td>668593.360000</td>\n",
       "    </tr>\n",
       "  </tbody>\n",
       "</table>\n",
       "</div>"
      ],
      "text/plain": [
       "       buisness_year        doc_id  converted_usd\n",
       "count   23494.000000  2.349400e+04   23494.000000\n",
       "mean     2019.131991  2.014229e+09   30673.799056\n",
       "std         0.338488  2.958624e+08   36793.352634\n",
       "min      2019.000000  1.928502e+09       0.790000\n",
       "25%      2019.000000  1.929178e+09    4582.305000\n",
       "50%      2019.000000  1.929732e+09   16894.392000\n",
       "75%      2019.000000  1.930211e+09   45181.832500\n",
       "max      2020.000000  9.500000e+09  668593.360000"
      ]
     },
     "execution_count": 70,
     "metadata": {},
     "output_type": "execute_result"
    }
   ],
   "source": [
    "X_train.describe()"
   ]
  },
  {
   "cell_type": "markdown",
   "id": "abd7ac8b",
   "metadata": {
    "id": "abd7ac8b"
   },
   "source": [
    "#### The \"business_code\" column inside X_train, is a categorical column, so you need to perform Labelencoder on that particular column\n",
    "\n",
    "- Note - call the Label Encoder from sklearn library and use the fit() function on \"business_code\" column\n",
    "- Note - Please fill in the blanks (two) to complete this code"
   ]
  },
  {
   "cell_type": "code",
   "execution_count": 71,
   "id": "7c223545",
   "metadata": {
    "id": "7c223545"
   },
   "outputs": [
    {
     "data": {
      "text/plain": [
       "LabelEncoder()"
      ]
     },
     "execution_count": 71,
     "metadata": {},
     "output_type": "execute_result"
    }
   ],
   "source": [
    "from sklearn.preprocessing import LabelEncoder\n",
    "business_coder = LabelEncoder()\n",
    "business_coder.fit(X_train['business_code'])"
   ]
  },
  {
   "cell_type": "markdown",
   "id": "f86f7d9c",
   "metadata": {
    "id": "f86f7d9c"
   },
   "source": [
    "#### You are expected to store the value into a new column i.e. \"business_code_enc\"\n",
    "\n",
    "- Note - For Training set you are expected to use fit_trainsform()\n",
    "- Note - For Test set you are expected to use the trainsform()\n",
    "- Note - For Validation set you are expected to use the trainsform()\n",
    "\n",
    "\n",
    "- Partial code is provided, please fill in the blanks "
   ]
  },
  {
   "cell_type": "code",
   "execution_count": 72,
   "id": "4269c307",
   "metadata": {
    "id": "4269c307"
   },
   "outputs": [],
   "source": [
    "X_train['business_code_enc'] = business_coder.fit_transform(X_train['business_code'])"
   ]
  },
  {
   "cell_type": "code",
   "execution_count": 73,
   "id": "70a53712",
   "metadata": {
    "id": "70a53712"
   },
   "outputs": [],
   "source": [
    "X_val['business_code_enc'] = business_coder.transform(X_val['business_code'])\n",
    "X_test['business_code_enc'] = business_coder.transform(X_test['business_code'])"
   ]
  },
  {
   "cell_type": "markdown",
   "id": "gdNYxTkqNfmz",
   "metadata": {
    "id": "gdNYxTkqNfmz"
   },
   "source": [
    "### Display \"business_code\" and \"business_code_enc\" together from X_train dataframe "
   ]
  },
  {
   "cell_type": "code",
   "execution_count": 74,
   "id": "1196a002",
   "metadata": {
    "id": "1196a002"
   },
   "outputs": [
    {
     "data": {
      "text/html": [
       "<div>\n",
       "<style scoped>\n",
       "    .dataframe tbody tr th:only-of-type {\n",
       "        vertical-align: middle;\n",
       "    }\n",
       "\n",
       "    .dataframe tbody tr th {\n",
       "        vertical-align: top;\n",
       "    }\n",
       "\n",
       "    .dataframe thead th {\n",
       "        text-align: right;\n",
       "    }\n",
       "</style>\n",
       "<table border=\"1\" class=\"dataframe\">\n",
       "  <thead>\n",
       "    <tr style=\"text-align: right;\">\n",
       "      <th></th>\n",
       "      <th>business_code</th>\n",
       "      <th>business_code_enc</th>\n",
       "    </tr>\n",
       "  </thead>\n",
       "  <tbody>\n",
       "    <tr>\n",
       "      <th>0</th>\n",
       "      <td>U001</td>\n",
       "      <td>1</td>\n",
       "    </tr>\n",
       "    <tr>\n",
       "      <th>5894</th>\n",
       "      <td>U001</td>\n",
       "      <td>1</td>\n",
       "    </tr>\n",
       "    <tr>\n",
       "      <th>29068</th>\n",
       "      <td>U001</td>\n",
       "      <td>1</td>\n",
       "    </tr>\n",
       "    <tr>\n",
       "      <th>4263</th>\n",
       "      <td>U001</td>\n",
       "      <td>1</td>\n",
       "    </tr>\n",
       "    <tr>\n",
       "      <th>35136</th>\n",
       "      <td>U001</td>\n",
       "      <td>1</td>\n",
       "    </tr>\n",
       "    <tr>\n",
       "      <th>...</th>\n",
       "      <td>...</td>\n",
       "      <td>...</td>\n",
       "    </tr>\n",
       "    <tr>\n",
       "      <th>33811</th>\n",
       "      <td>CA02</td>\n",
       "      <td>0</td>\n",
       "    </tr>\n",
       "    <tr>\n",
       "      <th>21416</th>\n",
       "      <td>U001</td>\n",
       "      <td>1</td>\n",
       "    </tr>\n",
       "    <tr>\n",
       "      <th>34146</th>\n",
       "      <td>U001</td>\n",
       "      <td>1</td>\n",
       "    </tr>\n",
       "    <tr>\n",
       "      <th>17141</th>\n",
       "      <td>U001</td>\n",
       "      <td>1</td>\n",
       "    </tr>\n",
       "    <tr>\n",
       "      <th>10862</th>\n",
       "      <td>U001</td>\n",
       "      <td>1</td>\n",
       "    </tr>\n",
       "  </tbody>\n",
       "</table>\n",
       "<p>11233 rows × 2 columns</p>\n",
       "</div>"
      ],
      "text/plain": [
       "      business_code  business_code_enc\n",
       "0              U001                  1\n",
       "5894           U001                  1\n",
       "29068          U001                  1\n",
       "4263           U001                  1\n",
       "35136          U001                  1\n",
       "...             ...                ...\n",
       "33811          CA02                  0\n",
       "21416          U001                  1\n",
       "34146          U001                  1\n",
       "17141          U001                  1\n",
       "10862          U001                  1\n",
       "\n",
       "[11233 rows x 2 columns]"
      ]
     },
     "execution_count": 74,
     "metadata": {},
     "output_type": "execute_result"
    }
   ],
   "source": [
    "X_train.loc[0:,['business_code','business_code_enc']]"
   ]
  },
  {
   "cell_type": "markdown",
   "id": "11477224",
   "metadata": {
    "id": "11477224"
   },
   "source": [
    "#### Create a function called \"custom\" for dropping the columns 'business_code' from train, test and validation dataframe\n",
    "\n",
    "- Note - Fill in the blank to complete the code"
   ]
  },
  {
   "cell_type": "code",
   "execution_count": 75,
   "id": "1052868a",
   "metadata": {
    "id": "1052868a"
   },
   "outputs": [],
   "source": [
    "def custom(col ,traindf = X_train,valdf = X_val,testdf = X_test):\n",
    "    traindf.drop(col, axis =1,inplace=True)\n",
    "    valdf.drop(col,axis=1 , inplace=True)\n",
    "    testdf.drop(col,axis=1 , inplace=True)\n",
    "\n",
    "    return traindf,valdf ,testdf"
   ]
  },
  {
   "cell_type": "markdown",
   "id": "rI--ZuMbNLne",
   "metadata": {
    "id": "rI--ZuMbNLne"
   },
   "source": [
    "### Call the function by passing the column name which needed to be dropped from train, test and validation dataframes. Return updated dataframes to be stored in X_train ,X_val, X_test  \n",
    "\n",
    "- Note = Fill in the blank to complete the code "
   ]
  },
  {
   "cell_type": "code",
   "execution_count": 76,
   "id": "1a0f955c",
   "metadata": {
    "id": "1a0f955c"
   },
   "outputs": [],
   "source": [
    "X_train , X_val , X_test = custom(['business_code'])"
   ]
  },
  {
   "cell_type": "markdown",
   "id": "28b5b27e",
   "metadata": {
    "id": "28b5b27e"
   },
   "source": [
    "### Manually replacing str values with numbers, Here we are trying manually replace the customer numbers with some specific values like, 'CCCA' as 1, 'CCU' as 2 and so on. Also we are converting the datatype \"cust_number\" field to int type.\n",
    "\n",
    "- We are doing it for all the three dataframes as shown below. This is fully completed code. No need to modify anything here \n",
    "\n"
   ]
  },
  {
   "cell_type": "code",
   "execution_count": 77,
   "id": "85dd129e",
   "metadata": {
    "id": "85dd129e"
   },
   "outputs": [],
   "source": [
    "X_train['cust_number'] = X_train['cust_number'].str.replace('CCCA',\"1\").str.replace('CCU',\"2\").str.replace('CC',\"3\").astype(int)\n",
    "X_test['cust_number'] = X_test['cust_number'].str.replace('CCCA',\"1\").str.replace('CCU',\"2\").str.replace('CC',\"3\").astype(int)\n",
    "X_val['cust_number'] = X_val['cust_number'].str.replace('CCCA',\"1\").str.replace('CCU',\"2\").str.replace('CC',\"3\").astype(int)\n"
   ]
  },
  {
   "cell_type": "markdown",
   "id": "U8vA-zmdPnJ8",
   "metadata": {
    "id": "U8vA-zmdPnJ8"
   },
   "source": [
    "#### It differs from LabelEncoder by handling new classes and providing a value for it [Unknown]. Unknown will be added in fit and transform will take care of new item. It gives unknown class id.\n",
    "\n",
    "#### This will fit the encoder for all the unique values and introduce unknown value\n",
    "\n",
    "- Note - Keep this code as it is, we will be using this later on.  "
   ]
  },
  {
   "cell_type": "code",
   "execution_count": 78,
   "id": "151f48ba",
   "metadata": {
    "id": "151f48ba"
   },
   "outputs": [],
   "source": [
    "#For encoding unseen labels\n",
    "class EncoderExt(object):\n",
    "    def __init__(self):\n",
    "        self.label_encoder = LabelEncoder()\n",
    "    def fit(self, data_list):\n",
    "        self.label_encoder = self.label_encoder.fit(list(data_list) + ['Unknown'])\n",
    "        self.classes_ = self.label_encoder.classes_\n",
    "        return self\n",
    "    def transform(self, data_list):\n",
    "        new_data_list = list(data_list)\n",
    "        for unique_item in np.unique(data_list):\n",
    "            if unique_item not in self.label_encoder.classes_:\n",
    "                new_data_list = ['Unknown' if x==unique_item else x for x in new_data_list]\n",
    "        return self.label_encoder.transform(new_data_list)"
   ]
  },
  {
   "cell_type": "markdown",
   "id": "254c64e6",
   "metadata": {
    "id": "254c64e6"
   },
   "source": [
    "### Use the user define Label Encoder function called \"EncoderExt\" for the \"name_customer\" column\n",
    "\n",
    "- Note - Keep the code as it is, no need to change"
   ]
  },
  {
   "cell_type": "code",
   "execution_count": 79,
   "id": "62b17eff",
   "metadata": {
    "id": "62b17eff"
   },
   "outputs": [],
   "source": [
    "label_encoder = EncoderExt()\n",
    "label_encoder.fit(X_train['name_customer'])\n",
    "X_train['name_customer_enc']=label_encoder.transform(X_train['name_customer'])\n",
    "X_val['name_customer_enc']=label_encoder.transform(X_val['name_customer'])\n",
    "X_test['name_customer_enc']=label_encoder.transform(X_test['name_customer'])"
   ]
  },
  {
   "cell_type": "markdown",
   "id": "mK7LMoy2QZhy",
   "metadata": {
    "id": "mK7LMoy2QZhy"
   },
   "source": [
    "### As we have created the a new column \"name_customer_enc\", so now drop \"name_customer\" column from all three dataframes\n",
    "\n",
    "- Note - Keep the code as it is, no need to change"
   ]
  },
  {
   "cell_type": "code",
   "execution_count": 80,
   "id": "ef85f1c0",
   "metadata": {
    "id": "ef85f1c0"
   },
   "outputs": [],
   "source": [
    "X_train ,X_val, X_test = custom(['name_customer'])"
   ]
  },
  {
   "cell_type": "markdown",
   "id": "3aa09d22",
   "metadata": {
    "id": "3aa09d22"
   },
   "source": [
    "### Using Label Encoder for the \"cust_payment_terms\" column\n",
    "\n",
    "- Note - Keep the code as it is, no need to change"
   ]
  },
  {
   "cell_type": "code",
   "execution_count": 81,
   "id": "6f9ab642",
   "metadata": {
    "id": "6f9ab642"
   },
   "outputs": [],
   "source": [
    "label_encoder1 = EncoderExt()\n",
    "label_encoder1.fit(X_train['cust_payment_terms'])\n",
    "X_train['cust_payment_terms_enc']=label_encoder1.transform(X_train['cust_payment_terms'])\n",
    "X_val['cust_payment_terms_enc']=label_encoder1.transform(X_val['cust_payment_terms'])\n",
    "X_test['cust_payment_terms_enc']=label_encoder1.transform(X_test['cust_payment_terms'])"
   ]
  },
  {
   "cell_type": "code",
   "execution_count": 82,
   "id": "55f9a7c2",
   "metadata": {
    "id": "55f9a7c2"
   },
   "outputs": [],
   "source": [
    "X_train ,X_val, X_test = custom(['cust_payment_terms'])"
   ]
  },
  {
   "cell_type": "markdown",
   "id": "0788f42b",
   "metadata": {
    "id": "0788f42b"
   },
   "source": [
    "## Check the datatype of all the columns of Train, Test and Validation dataframes realted to X\n",
    "\n",
    "- Note - You are expected yo use dtype"
   ]
  },
  {
   "cell_type": "code",
   "execution_count": 83,
   "id": "bc79a316",
   "metadata": {
    "id": "bc79a316"
   },
   "outputs": [
    {
     "data": {
      "text/plain": [
       "cust_number                        int32\n",
       "buisness_year                    float64\n",
       "doc_id                           float64\n",
       "posting_date              datetime64[ns]\n",
       "due_in_date               datetime64[ns]\n",
       "baseline_create_date      datetime64[ns]\n",
       "converted_usd                    float64\n",
       "business_code_enc                  int32\n",
       "name_customer_enc                  int32\n",
       "cust_payment_terms_enc             int32\n",
       "dtype: object"
      ]
     },
     "execution_count": 83,
     "metadata": {},
     "output_type": "execute_result"
    }
   ],
   "source": [
    "X_train.dtypes"
   ]
  },
  {
   "cell_type": "code",
   "execution_count": 84,
   "id": "b33242d8",
   "metadata": {
    "id": "b33242d8"
   },
   "outputs": [
    {
     "data": {
      "text/plain": [
       "cust_number                        int32\n",
       "buisness_year                    float64\n",
       "doc_id                           float64\n",
       "posting_date              datetime64[ns]\n",
       "due_in_date               datetime64[ns]\n",
       "baseline_create_date      datetime64[ns]\n",
       "converted_usd                    float64\n",
       "business_code_enc                  int32\n",
       "name_customer_enc                  int32\n",
       "cust_payment_terms_enc             int32\n",
       "dtype: object"
      ]
     },
     "execution_count": 84,
     "metadata": {},
     "output_type": "execute_result"
    }
   ],
   "source": [
    "X_val.dtypes"
   ]
  },
  {
   "cell_type": "code",
   "execution_count": 85,
   "id": "6bd4da71",
   "metadata": {
    "id": "6bd4da71"
   },
   "outputs": [
    {
     "data": {
      "text/plain": [
       "cust_number                        int32\n",
       "buisness_year                    float64\n",
       "doc_id                           float64\n",
       "posting_date              datetime64[ns]\n",
       "due_in_date               datetime64[ns]\n",
       "baseline_create_date      datetime64[ns]\n",
       "converted_usd                    float64\n",
       "business_code_enc                  int32\n",
       "name_customer_enc                  int32\n",
       "cust_payment_terms_enc             int32\n",
       "dtype: object"
      ]
     },
     "execution_count": 85,
     "metadata": {},
     "output_type": "execute_result"
    }
   ],
   "source": [
    "X_test.dtypes"
   ]
  },
  {
   "cell_type": "markdown",
   "id": "LVfvuPiWPeMB",
   "metadata": {
    "id": "LVfvuPiWPeMB"
   },
   "source": [
    "### From the above output you can notice their are multiple date columns with datetime format\n",
    "\n",
    "### In order to pass it into our model, we need to convert it into float format"
   ]
  },
  {
   "cell_type": "markdown",
   "id": "9d344db9",
   "metadata": {
    "id": "9d344db9"
   },
   "source": [
    "### You need to extract day, month and year from the \"posting_date\" column \n",
    "\n",
    "1.   Extract days from \"posting_date\" column and store it into a new column \"day_of_postingdate\" for train, test and validation dataset \n",
    "2.   Extract months from \"posting_date\" column and store it into a new column \"month_of_postingdate\" for train, test and validation dataset\n",
    "3.   Extract year from \"posting_date\" column and store it into a new column \"year_of_postingdate\" for train, test and validation dataset \n",
    "\n",
    "\n",
    "\n",
    "- Note - You are supposed yo use \n",
    "\n",
    "*   dt.day\n",
    "*   dt.month\n",
    "*   dt.year\n",
    "\n",
    "\n",
    "\n",
    "\n"
   ]
  },
  {
   "cell_type": "code",
   "execution_count": 86,
   "id": "6e3cdfd6",
   "metadata": {
    "id": "6e3cdfd6"
   },
   "outputs": [],
   "source": [
    "X_train['day_of_postingdate'] = X_train['posting_date'].dt.day\n",
    "X_train['month_of_postingdate'] = X_train['posting_date'].dt.month\n",
    "X_train['year_of_postingdate'] = X_train['posting_date'].dt.year\n",
    "\n",
    "X_val['day_of_postingdate'] = X_val['posting_date'].dt.day\n",
    "X_val['month_of_postingdate'] = X_val['posting_date'].dt.month\n",
    "X_val['year_of_postingdate'] = X_val['posting_date'].dt.year\n",
    "\n",
    "\n",
    "X_test['day_of_postingdate'] = X_test['posting_date'].dt.day\n",
    "X_test['month_of_postingdate'] = X_test['posting_date'].dt.month\n",
    "X_test['year_of_postingdate'] = X_test['posting_date'].dt.year"
   ]
  },
  {
   "cell_type": "markdown",
   "id": "GyI-F853Rxa7",
   "metadata": {
    "id": "GyI-F853Rxa7"
   },
   "source": [
    "### pass the \"posting_date\" column into the Custom function for train, test and validation dataset"
   ]
  },
  {
   "cell_type": "code",
   "execution_count": 87,
   "id": "FQHtQkrnRx_V",
   "metadata": {
    "id": "FQHtQkrnRx_V"
   },
   "outputs": [],
   "source": [
    "X_train ,X_val, X_test = custom(['posting_date'])"
   ]
  },
  {
   "cell_type": "markdown",
   "id": "GMnCaEcKReSw",
   "metadata": {
    "id": "GMnCaEcKReSw"
   },
   "source": [
    "### You need to extract day, month and year from the \"baseline_create_date\" column \n",
    "\n",
    "1.   Extract days from \"baseline_create_date\" column and store it into a new column \"day_of_createdate\" for train, test and validation dataset \n",
    "2.   Extract months from \"baseline_create_date\" column and store it into a new column \"month_of_createdate\" for train, test and validation dataset\n",
    "3.   Extract year from \"baseline_create_date\" column and store it into a new column \"year_of_createdate\" for train, test and validation dataset \n",
    "\n",
    "\n",
    "\n",
    "- Note - You are supposed yo use \n",
    "\n",
    "*   dt.day\n",
    "*   dt.month\n",
    "*   dt.year\n",
    "\n",
    "\n",
    "- Note - Do as it is been shown in the previous two code boxes"
   ]
  },
  {
   "cell_type": "markdown",
   "id": "ee4d83d0",
   "metadata": {
    "id": "ee4d83d0"
   },
   "source": [
    "### Extracting Day, Month, Year for 'baseline_create_date' column"
   ]
  },
  {
   "cell_type": "code",
   "execution_count": 88,
   "id": "32b240e1",
   "metadata": {
    "id": "32b240e1"
   },
   "outputs": [],
   "source": [
    "X_train['day_of_createdate'] = X_train['baseline_create_date'].dt.day\n",
    "X_train['month_of_createdate'] = X_train['baseline_create_date'].dt.month\n",
    "X_train['year_of_createdate'] = X_train['baseline_create_date'].dt.year\n",
    "\n",
    "X_val['day_of_createdate'] = X_val['baseline_create_date'].dt.day\n",
    "X_val['month_of_createdate'] = X_val['baseline_create_date'].dt.month\n",
    "X_val['year_of_createdate'] = X_val['baseline_create_date'].dt.year\n",
    "\n",
    "\n",
    "X_test['day_of_createdate'] = X_test['baseline_create_date'].dt.day\n",
    "X_test['month_of_createdate'] = X_test['baseline_create_date'].dt.month\n",
    "X_test['year_of_createdate'] = X_test['baseline_create_date'].dt.year"
   ]
  },
  {
   "cell_type": "markdown",
   "id": "cFgwkS5rSDDs",
   "metadata": {
    "id": "cFgwkS5rSDDs"
   },
   "source": [
    "### pass the \"baseline_create_date\" column into the Custom function for train, test and validation dataset"
   ]
  },
  {
   "cell_type": "code",
   "execution_count": 89,
   "id": "RGYa2BEQSDg3",
   "metadata": {
    "id": "RGYa2BEQSDg3"
   },
   "outputs": [],
   "source": [
    "X_train ,X_val, X_test = custom(['baseline_create_date'])"
   ]
  },
  {
   "cell_type": "markdown",
   "id": "77c7a0df",
   "metadata": {
    "id": "77c7a0df"
   },
   "source": [
    "### You need to extract day, month and year from the \"due_in_date\" column \n",
    "\n",
    "1.   Extract days from \"due_in_date\" column and store it into a new column \"day_of_due\" for train, test and validation dataset \n",
    "2.   Extract months from \"due_in_date\" column and store it into a new column \"month_of_due\" for train, test and validation dataset\n",
    "3.   Extract year from \"due_in_date\" column and store it into a new column \"year_of_due\" for train, test and validation dataset \n",
    "\n",
    "\n",
    "\n",
    "- Note - You are supposed yo use \n",
    "\n",
    "*   dt.day\n",
    "*   dt.month\n",
    "*   dt.year\n",
    "\n",
    "- Note - Do as it is been shown in the previous code"
   ]
  },
  {
   "cell_type": "code",
   "execution_count": 90,
   "id": "5c745547",
   "metadata": {
    "id": "5c745547"
   },
   "outputs": [],
   "source": [
    "X_train['day_of_due'] = X_train['due_in_date'].dt.day\n",
    "X_train['month_of_due'] = X_train['due_in_date'].dt.month\n",
    "X_train['year_of_due'] = X_train['due_in_date'].dt.year\n",
    "\n",
    "X_val['day_of_due'] = X_val['due_in_date'].dt.day\n",
    "X_val['month_of_due'] = X_val['due_in_date'].dt.month\n",
    "X_val['year_of_due'] = X_val['due_in_date'].dt.year\n",
    "\n",
    "\n",
    "X_test['day_of_due'] = X_test['due_in_date'].dt.day\n",
    "X_test['month_of_due'] = X_test['due_in_date'].dt.month\n",
    "X_test['year_of_due'] = X_test['due_in_date'].dt.year"
   ]
  },
  {
   "cell_type": "markdown",
   "id": "FYLLzulGSvRd",
   "metadata": {
    "id": "FYLLzulGSvRd"
   },
   "source": [
    "pass the \"due_in_date\" column into the Custom function for train, test and validation dataset"
   ]
  },
  {
   "cell_type": "code",
   "execution_count": 91,
   "id": "1-s6QuY9Svrh",
   "metadata": {
    "id": "1-s6QuY9Svrh"
   },
   "outputs": [],
   "source": [
    "X_train ,X_val, X_test = custom(['due_in_date'])"
   ]
  },
  {
   "cell_type": "markdown",
   "id": "1ae5d052",
   "metadata": {
    "id": "1ae5d052"
   },
   "source": [
    "### Check for the datatypes for train, test and validation set again\n",
    "\n",
    "- Note - all the data type should be in either int64 or float64 format \n"
   ]
  },
  {
   "cell_type": "code",
   "execution_count": 92,
   "id": "aee9d828",
   "metadata": {
    "id": "aee9d828"
   },
   "outputs": [
    {
     "data": {
      "text/plain": [
       "cust_number                 int32\n",
       "buisness_year             float64\n",
       "doc_id                    float64\n",
       "converted_usd             float64\n",
       "business_code_enc           int32\n",
       "name_customer_enc           int32\n",
       "cust_payment_terms_enc      int32\n",
       "day_of_postingdate          int64\n",
       "month_of_postingdate        int64\n",
       "year_of_postingdate         int64\n",
       "day_of_createdate           int64\n",
       "month_of_createdate         int64\n",
       "year_of_createdate          int64\n",
       "day_of_due                  int64\n",
       "month_of_due                int64\n",
       "year_of_due                 int64\n",
       "dtype: object"
      ]
     },
     "execution_count": 92,
     "metadata": {},
     "output_type": "execute_result"
    }
   ],
   "source": [
    "X_train.dtypes"
   ]
  },
  {
   "cell_type": "code",
   "execution_count": 93,
   "id": "72b20b09",
   "metadata": {},
   "outputs": [
    {
     "data": {
      "text/plain": [
       "cust_number                 int32\n",
       "buisness_year             float64\n",
       "doc_id                    float64\n",
       "converted_usd             float64\n",
       "business_code_enc           int32\n",
       "name_customer_enc           int32\n",
       "cust_payment_terms_enc      int32\n",
       "day_of_postingdate          int64\n",
       "month_of_postingdate        int64\n",
       "year_of_postingdate         int64\n",
       "day_of_createdate           int64\n",
       "month_of_createdate         int64\n",
       "year_of_createdate          int64\n",
       "day_of_due                  int64\n",
       "month_of_due                int64\n",
       "year_of_due                 int64\n",
       "dtype: object"
      ]
     },
     "execution_count": 93,
     "metadata": {},
     "output_type": "execute_result"
    }
   ],
   "source": [
    "X_test.dtypes"
   ]
  },
  {
   "cell_type": "code",
   "execution_count": 94,
   "id": "3849849d",
   "metadata": {
    "scrolled": true
   },
   "outputs": [
    {
     "data": {
      "text/plain": [
       "cust_number                 int32\n",
       "buisness_year             float64\n",
       "doc_id                    float64\n",
       "converted_usd             float64\n",
       "business_code_enc           int32\n",
       "name_customer_enc           int32\n",
       "cust_payment_terms_enc      int32\n",
       "day_of_postingdate          int64\n",
       "month_of_postingdate        int64\n",
       "year_of_postingdate         int64\n",
       "day_of_createdate           int64\n",
       "month_of_createdate         int64\n",
       "year_of_createdate          int64\n",
       "day_of_due                  int64\n",
       "month_of_due                int64\n",
       "year_of_due                 int64\n",
       "dtype: object"
      ]
     },
     "execution_count": 94,
     "metadata": {},
     "output_type": "execute_result"
    }
   ],
   "source": [
    "X_val.dtypes"
   ]
  },
  {
   "cell_type": "markdown",
   "id": "65810f55",
   "metadata": {
    "id": "65810f55"
   },
   "source": [
    "# Feature Selection"
   ]
  },
  {
   "cell_type": "markdown",
   "id": "4bb1ad9f",
   "metadata": {
    "id": "4bb1ad9f"
   },
   "source": [
    "### Filter Method\n",
    "\n",
    "- Calling the VarianceThreshold Function \n",
    "- Note - Keep the code as it is, no need to change "
   ]
  },
  {
   "cell_type": "code",
   "execution_count": 95,
   "id": "e882509f",
   "metadata": {
    "id": "e882509f",
    "scrolled": true
   },
   "outputs": [
    {
     "data": {
      "text/plain": [
       "16"
      ]
     },
     "execution_count": 95,
     "metadata": {},
     "output_type": "execute_result"
    }
   ],
   "source": [
    "from sklearn.feature_selection import VarianceThreshold\n",
    "constant_filter = VarianceThreshold(threshold=0)\n",
    "constant_filter.fit(X_train)\n",
    "len(X_train.columns[constant_filter.get_support()])"
   ]
  },
  {
   "cell_type": "markdown",
   "id": "V9531H3jR-W2",
   "metadata": {
    "id": "V9531H3jR-W2"
   },
   "source": [
    "- Note - Keep the code as it is, no need to change \n"
   ]
  },
  {
   "cell_type": "code",
   "execution_count": 96,
   "id": "c77c12e1",
   "metadata": {
    "id": "c77c12e1"
   },
   "outputs": [
    {
     "name": "stdout",
     "output_type": "stream",
     "text": [
      "0\n"
     ]
    }
   ],
   "source": [
    "constant_columns = [column for column in X_train.columns\n",
    "                    if column not in X_train.columns[constant_filter.get_support()]]\n",
    "print(len(constant_columns))"
   ]
  },
  {
   "cell_type": "markdown",
   "id": "6d9b8610",
   "metadata": {
    "id": "6d9b8610"
   },
   "source": [
    "- transpose the feature matrice\n",
    "- print the number of duplicated features\n",
    "- select the duplicated features columns names\n",
    "\n",
    "- Note - Keep the code as it is, no need to change \n"
   ]
  },
  {
   "cell_type": "code",
   "execution_count": 97,
   "id": "0fb7db95",
   "metadata": {
    "id": "0fb7db95"
   },
   "outputs": [
    {
     "name": "stdout",
     "output_type": "stream",
     "text": [
      "0\n"
     ]
    }
   ],
   "source": [
    "x_train_T = X_train.T\n",
    "print(x_train_T.duplicated().sum())\n",
    "duplicated_columns = x_train_T[x_train_T.duplicated()].index.values"
   ]
  },
  {
   "cell_type": "markdown",
   "id": "510fa831",
   "metadata": {
    "id": "510fa831"
   },
   "source": [
    "### Filtering depending upon correlation matrix value\n",
    "- We have created a function called handling correlation which is going to return fields based on the correlation matrix value with a threshold of 0.8\n",
    "\n",
    "- Note - Keep the code as it is, no need to change "
   ]
  },
  {
   "cell_type": "code",
   "execution_count": 98,
   "id": "67731abc",
   "metadata": {
    "id": "67731abc"
   },
   "outputs": [],
   "source": [
    "def handling_correlation(X_train,threshold=0.8):\n",
    "    corr_features = set()\n",
    "    corr_matrix = X_train.corr()\n",
    "    for i in range(len(corr_matrix .columns)):\n",
    "        for j in range(i):\n",
    "            if abs(corr_matrix.iloc[i, j]) >threshold:\n",
    "                colname = corr_matrix.columns[i]\n",
    "                corr_features.add(colname)\n",
    "    return list(corr_features)"
   ]
  },
  {
   "cell_type": "markdown",
   "id": "JaE_6qVgSXl3",
   "metadata": {
    "id": "JaE_6qVgSXl3"
   },
   "source": [
    "- Note : Here we are trying to find out the relevant fields, from X_train\n",
    "- Please fill in the blanks to call handling_correlation() function with a threshold value of 0.85"
   ]
  },
  {
   "cell_type": "code",
   "execution_count": 99,
   "id": "dd91d1a2",
   "metadata": {
    "id": "dd91d1a2"
   },
   "outputs": [
    {
     "data": {
      "text/plain": [
       "['year_of_createdate',\n",
       " 'month_of_createdate',\n",
       " 'day_of_createdate',\n",
       " 'month_of_due',\n",
       " 'year_of_due',\n",
       " 'year_of_postingdate']"
      ]
     },
     "execution_count": 99,
     "metadata": {},
     "output_type": "execute_result"
    }
   ],
   "source": [
    "train=X_train.copy()\n",
    "handling_correlation(train.copy(),0.85)"
   ]
  },
  {
   "cell_type": "markdown",
   "id": "154da511",
   "metadata": {
    "id": "154da511"
   },
   "source": [
    "### Heatmap for X_train\n",
    "\n",
    "- Note - Keep the code as it is, no need to change"
   ]
  },
  {
   "cell_type": "code",
   "execution_count": 100,
   "id": "2e8f2fe4",
   "metadata": {
    "id": "2e8f2fe4"
   },
   "outputs": [
    {
     "data": {
      "text/plain": [
       "<AxesSubplot:title={'center':'Pearson Correlation of Features'}>"
      ]
     },
     "execution_count": 100,
     "metadata": {},
     "output_type": "execute_result"
    },
    {
     "data": {
      "image/png": "[encoded data removed]",
      "text/plain": [
       "<Figure size 1008x864 with 2 Axes>"
      ]
     },
     "metadata": {
      "needs_background": "light"
     },
     "output_type": "display_data"
    }
   ],
   "source": [
    "colormap = plt.cm.RdBu\n",
    "plt.figure(figsize=(14,12))\n",
    "plt.title('Pearson Correlation of Features', y=1.05, size=20)\n",
    "sns.heatmap(X_train.merge(y_train , on = X_train.index ).corr(),linewidths=0.1,vmax=1.0, \n",
    "            square=True, cmap='gist_rainbow_r', linecolor='white', annot=True)"
   ]
  },
  {
   "cell_type": "markdown",
   "id": "e3b0d745",
   "metadata": {
    "id": "e3b0d745"
   },
   "source": [
    "#### Calling variance threshold for threshold value = 0.8\n",
    "\n",
    "- Note -  Fill in the blanks to call the appropriate method"
   ]
  },
  {
   "cell_type": "code",
   "execution_count": 101,
   "id": "a9b2080f",
   "metadata": {
    "id": "a9b2080f"
   },
   "outputs": [
    {
     "data": {
      "text/plain": [
       "VarianceThreshold(threshold=0.8)"
      ]
     },
     "execution_count": 101,
     "metadata": {},
     "output_type": "execute_result"
    }
   ],
   "source": [
    "from sklearn.feature_selection import VarianceThreshold\n",
    "sel = VarianceThreshold(threshold=0.8)\n",
    "sel.fit(X_train)"
   ]
  },
  {
   "cell_type": "code",
   "execution_count": 102,
   "id": "6cb8c3dc",
   "metadata": {
    "id": "6cb8c3dc"
   },
   "outputs": [
    {
     "data": {
      "text/plain": [
       "array([1.81589408e+15, 1.14569484e-01, 8.75308245e+16, 1.35369318e+09,\n",
       "       3.01159716e-01, 1.07968431e+06, 1.37310956e+02, 7.58917382e+01,\n",
       "       1.22750819e+01, 1.15818852e-01, 7.78123051e+01, 1.22862596e+01,\n",
       "       1.15979015e-01, 7.60405521e+01, 1.20867434e+01, 1.17544576e-01])"
      ]
     },
     "execution_count": 102,
     "metadata": {},
     "output_type": "execute_result"
    }
   ],
   "source": [
    "sel.variances_"
   ]
  },
  {
   "cell_type": "markdown",
   "id": "62633a84",
   "metadata": {
    "id": "62633a84"
   },
   "source": [
    "### Features columns are \n",
    "- 'year_of_createdate' \n",
    "- 'year_of_due'\n",
    "- 'day_of_createdate'\n",
    "- 'year_of_postingdate'\n",
    "- 'month_of_due'\n",
    "- 'month_of_createdate'"
   ]
  },
  {
   "cell_type": "markdown",
   "id": "651f1ad0",
   "metadata": {
    "id": "651f1ad0"
   },
   "source": [
    "# Modelling \n",
    "\n",
    "#### Now you need to compare with different machine learning models, and needs to find out the best predicted model\n",
    "\n",
    "- Linear Regression\n",
    "- Decision Tree Regression\n",
    "- Random Forest Regression\n",
    "- Support Vector Regression\n",
    "- Extreme Gradient Boost Regression "
   ]
  },
  {
   "cell_type": "markdown",
   "id": "PicEhSuUUOkt",
   "metadata": {
    "id": "PicEhSuUUOkt"
   },
   "source": [
    "### You need to make different blank list for different evaluation matrix \n",
    "\n",
    "- MSE\n",
    "- R2\n",
    "- Algorithm"
   ]
  },
  {
   "cell_type": "code",
   "execution_count": 103,
   "id": "701e12b0",
   "metadata": {
    "id": "701e12b0"
   },
   "outputs": [],
   "source": [
    "MSE_Score = []\n",
    "R2_Score = []\n",
    "Algorithm = []\n",
    "from sklearn.metrics import mean_squared_error\n",
    "from sklearn.metrics import r2_score"
   ]
  },
  {
   "cell_type": "markdown",
   "id": "29310119",
   "metadata": {
    "id": "29310119"
   },
   "source": [
    "### You need to start with the baseline model Linear Regression\n",
    "\n",
    "- Step 1 : Call the Linear Regression from sklearn library\n",
    "- Step 2 : make an object of Linear Regression \n",
    "- Step 3 : fit the X_train and y_train dataframe into the object \n",
    "- Step 4 : Predict the output by passing the X_test Dataset into predict function\n",
    "\n",
    "\n",
    "\n",
    "\n",
    "- Note - Append the Algorithm name into the algorithm list for tracking purpose"
   ]
  },
  {
   "cell_type": "code",
   "execution_count": 104,
   "id": "1f2ebd46",
   "metadata": {},
   "outputs": [
    {
     "name": "stdout",
     "output_type": "stream",
     "text": [
      "X_test shape: (7832, 16)\n",
      "X_val shape: (7832, 16)\n",
      "X_train shape: (23494, 16)\n",
      "y_test shape: (7832, 1)\n",
      "y_val shape: (7832, 1)\n",
      "y_train shape: (23494, 1)\n"
     ]
    }
   ],
   "source": [
    "print(\"X_test shape: {}\".format(X_test.shape))\n",
    "print(\"X_val shape: {}\".format(X_val.shape))\n",
    "print(\"X_train shape: {}\".format(X_train.shape))\n",
    "print(\"y_test shape: {}\".format(y_test.shape))\n",
    "print(\"y_val shape: {}\".format(y_val.shape))\n",
    "print(\"y_train shape: {}\".format(y_train.shape))"
   ]
  },
  {
   "cell_type": "code",
   "execution_count": 105,
   "id": "6bdea395",
   "metadata": {
    "id": "6bdea395"
   },
   "outputs": [],
   "source": [
    "from sklearn.linear_model import LinearRegression\n",
    "Algorithm.append('LinearRegression')\n",
    "regressor = LinearRegression()\n",
    "regressor.fit(X_train, y_train)\n",
    "predicted= regressor.predict(X_test)"
   ]
  },
  {
   "cell_type": "markdown",
   "id": "G02cpnBhXJ14",
   "metadata": {
    "id": "G02cpnBhXJ14"
   },
   "source": [
    "### Check for the \n",
    "\n",
    "- Mean Square Error\n",
    "- R Square Error \n",
    "\n",
    "for y_test and predicted dataset and store those data inside respective list for comparison "
   ]
  },
  {
   "cell_type": "code",
   "execution_count": 106,
   "id": "0f69ca19",
   "metadata": {
    "id": "0f69ca19"
   },
   "outputs": [],
   "source": [
    "MSE_Score.append(mean_squared_error(y_test, predicted))\n",
    "R2_Score.append(r2_score(y_test, predicted))"
   ]
  },
  {
   "cell_type": "markdown",
   "id": "CsmScbHjYMv1",
   "metadata": {
    "id": "CsmScbHjYMv1"
   },
   "source": [
    "### Check the same for the Validation set also "
   ]
  },
  {
   "cell_type": "code",
   "execution_count": 107,
   "id": "fe653295",
   "metadata": {
    "colab": {
     "base_uri": "https://localhost:8080/"
    },
    "executionInfo": {
     "elapsed": 10,
     "status": "ok",
     "timestamp": 1643093994094,
     "user": {
      "displayName": "Chandramouli Das",
      "photoUrl": "https://lh3.googleusercontent.com/a-/AOh14GgsMuDXf6PZsS77v0Q5x8metxFPnlLXsBC6Y3O7=s64",
      "userId": "13777762579346461395"
     },
     "user_tz": -330
    },
    "id": "fe653295",
    "outputId": "0c7429ca-50d0-42a2-96a1-effaa92f549e"
   },
   "outputs": [
    {
     "data": {
      "text/plain": [
       "516030.6366599126"
      ]
     },
     "execution_count": 107,
     "metadata": {},
     "output_type": "execute_result"
    }
   ],
   "source": [
    "predict_test= regressor.predict(X_val)\n",
    "mean_squared_error(y_val, predict_test, squared=False)"
   ]
  },
  {
   "cell_type": "markdown",
   "id": "LokxV2LGYUVh",
   "metadata": {
    "id": "LokxV2LGYUVh"
   },
   "source": [
    "### Display The Comparison Lists"
   ]
  },
  {
   "cell_type": "code",
   "execution_count": 108,
   "id": "9c405bd3",
   "metadata": {
    "colab": {
     "base_uri": "https://localhost:8080/"
    },
    "executionInfo": {
     "elapsed": 8,
     "status": "ok",
     "timestamp": 1643093994095,
     "user": {
      "displayName": "Chandramouli Das",
      "photoUrl": "https://lh3.googleusercontent.com/a-/AOh14GgsMuDXf6PZsS77v0Q5x8metxFPnlLXsBC6Y3O7=s64",
      "userId": "13777762579346461395"
     },
     "user_tz": -330
    },
    "id": "9c405bd3",
    "outputId": "9d78f4a9-33fc-48d1-edc8-c997eca38de0"
   },
   "outputs": [
    {
     "name": "stdout",
     "output_type": "stream",
     "text": [
      "['LinearRegression'],[285543498378.3167],[0.36113492428586236],"
     ]
    }
   ],
   "source": [
    "for i in Algorithm, MSE_Score, R2_Score:\n",
    "    print(i,end=',')"
   ]
  },
  {
   "cell_type": "markdown",
   "id": "b0e65c86",
   "metadata": {
    "id": "b0e65c86"
   },
   "source": [
    "### You need to start with the baseline model Support Vector Regression\n",
    "\n",
    "- Step 1 : Call the Support Vector Regressor from sklearn library\n",
    "- Step 2 : make an object of SVR\n",
    "- Step 3 : fit the X_train and y_train dataframe into the object \n",
    "- Step 4 : Predict the output by passing the X_test Dataset into predict function\n",
    "\n",
    "\n",
    "\n",
    "\n",
    "- Note - Append the Algorithm name into the algorithm list for tracking purpose"
   ]
  },
  {
   "cell_type": "code",
   "execution_count": 109,
   "id": "ccb5de08",
   "metadata": {
    "id": "ccb5de08"
   },
   "outputs": [],
   "source": [
    "from sklearn.svm import SVR\n",
    "Algorithm.append('SVR')\n",
    "regressor = SVR()\n",
    "regressor.fit(X_train, y_train)\n",
    "predicted= regressor.predict(X_test)"
   ]
  },
  {
   "cell_type": "markdown",
   "id": "zz9kcrViYt7e",
   "metadata": {
    "id": "zz9kcrViYt7e"
   },
   "source": [
    "### Check for the \n",
    "\n",
    "- Mean Square Error\n",
    "- R Square Error \n",
    "\n",
    "for \"y_test\" and \"predicted\" dataset and store those data inside respective list for comparison "
   ]
  },
  {
   "cell_type": "code",
   "execution_count": 110,
   "id": "5bb9db76",
   "metadata": {
    "id": "5bb9db76"
   },
   "outputs": [],
   "source": [
    "MSE_Score.append(mean_squared_error(y_test, predicted))\n",
    "R2_Score.append(r2_score(y_test, predicted))"
   ]
  },
  {
   "cell_type": "markdown",
   "id": "0YAxd8N9Y0hJ",
   "metadata": {
    "id": "0YAxd8N9Y0hJ"
   },
   "source": [
    "### Check the same for the Validation set also "
   ]
  },
  {
   "cell_type": "code",
   "execution_count": 111,
   "id": "d6ee71b1",
   "metadata": {
    "id": "d6ee71b1"
   },
   "outputs": [
    {
     "data": {
      "text/plain": [
       "636051.0100086322"
      ]
     },
     "execution_count": 111,
     "metadata": {},
     "output_type": "execute_result"
    }
   ],
   "source": [
    "predict_test= regressor.predict(X_val)\n",
    "mean_squared_error(y_val, predict_test, squared=False)"
   ]
  },
  {
   "cell_type": "markdown",
   "id": "eGcqS5EcY4BI",
   "metadata": {
    "id": "eGcqS5EcY4BI"
   },
   "source": [
    "### Display The Comparison Lists"
   ]
  },
  {
   "cell_type": "code",
   "execution_count": 112,
   "id": "aa72c1ec",
   "metadata": {
    "id": "aa72c1ec"
   },
   "outputs": [
    {
     "name": "stdout",
     "output_type": "stream",
     "text": [
      "['LinearRegression', 'SVR'],[285543498378.3167, 450691484949.76215],[0.36113492428586236, -0.008361427563190249],"
     ]
    }
   ],
   "source": [
    "for i in Algorithm, MSE_Score, R2_Score:\n",
    "    print(i,end=',')"
   ]
  },
  {
   "cell_type": "markdown",
   "id": "dad18bb3",
   "metadata": {
    "id": "dad18bb3"
   },
   "source": [
    "### Your next model would be Decision Tree Regression\n",
    "\n",
    "- Step 1 : Call the Decision Tree Regressor from sklearn library\n",
    "- Step 2 : make an object of Decision Tree\n",
    "- Step 3 : fit the X_train and y_train dataframe into the object \n",
    "- Step 4 : Predict the output by passing the X_test Dataset into predict function\n",
    "\n",
    "\n",
    "\n",
    "\n",
    "- Note - Append the Algorithm name into the algorithm list for tracking purpose"
   ]
  },
  {
   "cell_type": "code",
   "execution_count": 113,
   "id": "1b6a51eb",
   "metadata": {
    "id": "1b6a51eb"
   },
   "outputs": [],
   "source": [
    "from sklearn.tree import DecisionTreeRegressor\n",
    "Algorithm.append('DecisionTreeRegressor')\n",
    "regressor = DecisionTreeRegressor()\n",
    "regressor.fit(X_train, y_train)\n",
    "predicted= regressor.predict(X_test)"
   ]
  },
  {
   "cell_type": "markdown",
   "id": "AOzfgfeOZo3F",
   "metadata": {
    "id": "AOzfgfeOZo3F"
   },
   "source": [
    "### Check for the \n",
    "\n",
    "- Mean Square Error\n",
    "- R Square Error \n",
    "\n",
    "for y_test and predicted dataset and store those data inside respective list for comparison "
   ]
  },
  {
   "cell_type": "code",
   "execution_count": 114,
   "id": "776e6983",
   "metadata": {
    "id": "776e6983"
   },
   "outputs": [],
   "source": [
    "MSE_Score.append(mean_squared_error(y_test, predicted))\n",
    "R2_Score.append(r2_score(y_test, predicted))"
   ]
  },
  {
   "cell_type": "markdown",
   "id": "eI6d49DQZrhW",
   "metadata": {
    "id": "eI6d49DQZrhW"
   },
   "source": [
    "### Check the same for the Validation set also "
   ]
  },
  {
   "cell_type": "code",
   "execution_count": 115,
   "id": "155fb55c",
   "metadata": {
    "id": "155fb55c"
   },
   "outputs": [
    {
     "data": {
      "text/plain": [
       "425734.5582137005"
      ]
     },
     "execution_count": 115,
     "metadata": {},
     "output_type": "execute_result"
    }
   ],
   "source": [
    "predict_test= regressor.predict(X_val)\n",
    "mean_squared_error(y_val, predict_test, squared=False)"
   ]
  },
  {
   "cell_type": "markdown",
   "id": "sbGXvBLQZw5E",
   "metadata": {
    "id": "sbGXvBLQZw5E"
   },
   "source": [
    "### Display The Comparison Lists"
   ]
  },
  {
   "cell_type": "code",
   "execution_count": 116,
   "id": "1d74d515",
   "metadata": {
    "id": "1d74d515"
   },
   "outputs": [
    {
     "name": "stdout",
     "output_type": "stream",
     "text": [
      "['LinearRegression', 'SVR', 'DecisionTreeRegressor'],[285543498378.3167, 450691484949.76215, 242156978050.21054],[0.36113492428586236, -0.008361427563190249, 0.45820641339980717],"
     ]
    }
   ],
   "source": [
    "for i in Algorithm, MSE_Score, R2_Score:\n",
    "    print(i,end=',')"
   ]
  },
  {
   "cell_type": "markdown",
   "id": "4ae9979b",
   "metadata": {
    "id": "4ae9979b"
   },
   "source": [
    "### Your next model would be Random Forest Regression\n",
    "\n",
    "- Step 1 : Call the Random Forest Regressor from sklearn library\n",
    "- Step 2 : make an object of Random Forest\n",
    "- Step 3 : fit the X_train and y_train dataframe into the object \n",
    "- Step 4 : Predict the output by passing the X_test Dataset into predict function\n",
    "\n",
    "\n",
    "\n",
    "\n",
    "- Note - Append the Algorithm name into the algorithm list for tracking purpose"
   ]
  },
  {
   "cell_type": "code",
   "execution_count": 117,
   "id": "a69e476a",
   "metadata": {
    "id": "a69e476a"
   },
   "outputs": [],
   "source": [
    "from sklearn.ensemble import RandomForestRegressor\n",
    "Algorithm.append('RandomForestRegressor')\n",
    "regressor = RandomForestRegressor()\n",
    "regressor.fit(X_train, y_train)\n",
    "predicted= regressor.predict(X_test)"
   ]
  },
  {
   "cell_type": "markdown",
   "id": "XNcEJF-6anof",
   "metadata": {
    "id": "XNcEJF-6anof"
   },
   "source": [
    "### Check for the \n",
    "\n",
    "- Mean Square Error\n",
    "- R Square Error \n",
    "\n",
    "for y_test and predicted dataset and store those data inside respective list for comparison "
   ]
  },
  {
   "cell_type": "code",
   "execution_count": 118,
   "id": "826f63f4",
   "metadata": {
    "id": "826f63f4"
   },
   "outputs": [],
   "source": [
    "MSE_Score.append(mean_squared_error(y_test, predicted))\n",
    "R2_Score.append(r2_score(y_test, predicted))"
   ]
  },
  {
   "cell_type": "markdown",
   "id": "yMbyr9V4ati1",
   "metadata": {
    "id": "yMbyr9V4ati1"
   },
   "source": [
    "### Check the same for the Validation set also "
   ]
  },
  {
   "cell_type": "code",
   "execution_count": 119,
   "id": "55b9fb54",
   "metadata": {
    "id": "55b9fb54"
   },
   "outputs": [
    {
     "data": {
      "text/plain": [
       "300511.3672482532"
      ]
     },
     "execution_count": 119,
     "metadata": {},
     "output_type": "execute_result"
    }
   ],
   "source": [
    "predict_test= regressor.predict(X_val)\n",
    "mean_squared_error(y_val, predict_test, squared=False)"
   ]
  },
  {
   "cell_type": "markdown",
   "id": "tiBawcCsaw_Z",
   "metadata": {
    "id": "tiBawcCsaw_Z"
   },
   "source": [
    "### Display The Comparison Lists\n"
   ]
  },
  {
   "cell_type": "code",
   "execution_count": 120,
   "id": "8277c13e",
   "metadata": {
    "id": "8277c13e"
   },
   "outputs": [
    {
     "name": "stdout",
     "output_type": "stream",
     "text": [
      "['LinearRegression', 'SVR', 'DecisionTreeRegressor', 'RandomForestRegressor'],[285543498378.3167, 450691484949.76215, 242156978050.21054, 101534214421.88383],[0.36113492428586236, -0.008361427563190249, 0.45820641339980717, 0.7728308858278733],"
     ]
    }
   ],
   "source": [
    "for i in Algorithm, MSE_Score, R2_Score:\n",
    "    print(i,end=',')"
   ]
  },
  {
   "cell_type": "markdown",
   "id": "e6b21881",
   "metadata": {
    "id": "e6b21881"
   },
   "source": [
    "### The last but not the least model would be XGBoost or Extreme Gradient Boost Regression\n",
    "\n",
    "- Step 1 : Call the XGBoost Regressor from xgb library\n",
    "- Step 2 : make an object of Xgboost\n",
    "- Step 3 : fit the X_train and y_train dataframe into the object \n",
    "- Step 4 : Predict the output by passing the X_test Dataset into predict function\n",
    "\n",
    "\n",
    "\n",
    "\n",
    "- Note - Append the Algorithm name into the algorithm list for tracking purpose### Extreme Gradient Boost Regression\n",
    "- Note -  No need to change the code "
   ]
  },
  {
   "cell_type": "code",
   "execution_count": 121,
   "id": "705a38ec",
   "metadata": {
    "id": "705a38ec"
   },
   "outputs": [],
   "source": [
    "import xgboost as xgb\n",
    "Algorithm.append('XGB Regressor')\n",
    "regressor = xgb.XGBRegressor()\n",
    "regressor.fit(X_train, y_train)\n",
    "predicted = regressor.predict(X_test)"
   ]
  },
  {
   "cell_type": "markdown",
   "id": "ierNZkb9bQDD",
   "metadata": {
    "id": "ierNZkb9bQDD"
   },
   "source": [
    "### Check for the \n",
    "\n",
    "- Mean Square Error\n",
    "- R Square Error \n",
    "\n",
    "for y_test and predicted dataset and store those data inside respective list for comparison "
   ]
  },
  {
   "cell_type": "code",
   "execution_count": 122,
   "id": "507a9d2f",
   "metadata": {
    "id": "507a9d2f"
   },
   "outputs": [],
   "source": [
    "MSE_Score.append(mean_squared_error(y_test, predicted))\n",
    "R2_Score.append(r2_score(y_test, predicted))"
   ]
  },
  {
   "cell_type": "markdown",
   "id": "84UZ2ojsbWaH",
   "metadata": {
    "id": "84UZ2ojsbWaH"
   },
   "source": [
    "### Check the same for the Validation set also "
   ]
  },
  {
   "cell_type": "code",
   "execution_count": 123,
   "id": "e78ac250",
   "metadata": {
    "id": "e78ac250"
   },
   "outputs": [
    {
     "data": {
      "text/plain": [
       "296246.23300377844"
      ]
     },
     "execution_count": 123,
     "metadata": {},
     "output_type": "execute_result"
    }
   ],
   "source": [
    "predict_test= regressor.predict(X_val)\n",
    "mean_squared_error(y_val, predict_test, squared=False)"
   ]
  },
  {
   "cell_type": "markdown",
   "id": "9FJFyaVbbbAH",
   "metadata": {
    "id": "9FJFyaVbbbAH"
   },
   "source": [
    "### Display The Comparison Lists\n"
   ]
  },
  {
   "cell_type": "code",
   "execution_count": 124,
   "id": "f765ba35",
   "metadata": {
    "id": "f765ba35"
   },
   "outputs": [
    {
     "name": "stdout",
     "output_type": "stream",
     "text": [
      "['LinearRegression', 'SVR', 'DecisionTreeRegressor', 'RandomForestRegressor', 'XGB Regressor'],[285543498378.3167, 450691484949.76215, 242156978050.21054, 101534214421.88383, 93230553605.94574],[0.36113492428586236, -0.008361427563190249, 0.45820641339980717, 0.7728308858278733, 0.7914092072605341],"
     ]
    }
   ],
   "source": [
    "for i in Algorithm, MSE_Score, R2_Score:\n",
    "    print(i,end=',')"
   ]
  },
  {
   "cell_type": "markdown",
   "id": "a71bc90f",
   "metadata": {
    "id": "a71bc90f"
   },
   "source": [
    "## You need to make the comparison list into a comparison dataframe "
   ]
  },
  {
   "cell_type": "code",
   "execution_count": 125,
   "id": "ff5159a7",
   "metadata": {
    "id": "ff5159a7"
   },
   "outputs": [
    {
     "data": {
      "text/html": [
       "<div>\n",
       "<style scoped>\n",
       "    .dataframe tbody tr th:only-of-type {\n",
       "        vertical-align: middle;\n",
       "    }\n",
       "\n",
       "    .dataframe tbody tr th {\n",
       "        vertical-align: top;\n",
       "    }\n",
       "\n",
       "    .dataframe thead th {\n",
       "        text-align: right;\n",
       "    }\n",
       "</style>\n",
       "<table border=\"1\" class=\"dataframe\">\n",
       "  <thead>\n",
       "    <tr style=\"text-align: right;\">\n",
       "      <th></th>\n",
       "      <th>Algorithm</th>\n",
       "      <th>MSE_Score</th>\n",
       "      <th>R2_Score</th>\n",
       "    </tr>\n",
       "  </thead>\n",
       "  <tbody>\n",
       "    <tr>\n",
       "      <th>0</th>\n",
       "      <td>LinearRegression</td>\n",
       "      <td>2.855435e+11</td>\n",
       "      <td>0.361135</td>\n",
       "    </tr>\n",
       "    <tr>\n",
       "      <th>1</th>\n",
       "      <td>SVR</td>\n",
       "      <td>4.506915e+11</td>\n",
       "      <td>-0.008361</td>\n",
       "    </tr>\n",
       "    <tr>\n",
       "      <th>2</th>\n",
       "      <td>DecisionTreeRegressor</td>\n",
       "      <td>2.421570e+11</td>\n",
       "      <td>0.458206</td>\n",
       "    </tr>\n",
       "    <tr>\n",
       "      <th>3</th>\n",
       "      <td>RandomForestRegressor</td>\n",
       "      <td>1.015342e+11</td>\n",
       "      <td>0.772831</td>\n",
       "    </tr>\n",
       "    <tr>\n",
       "      <th>4</th>\n",
       "      <td>XGB Regressor</td>\n",
       "      <td>9.323055e+10</td>\n",
       "      <td>0.791409</td>\n",
       "    </tr>\n",
       "  </tbody>\n",
       "</table>\n",
       "</div>"
      ],
      "text/plain": [
       "               Algorithm     MSE_Score  R2_Score\n",
       "0       LinearRegression  2.855435e+11  0.361135\n",
       "1                    SVR  4.506915e+11 -0.008361\n",
       "2  DecisionTreeRegressor  2.421570e+11  0.458206\n",
       "3  RandomForestRegressor  1.015342e+11  0.772831\n",
       "4          XGB Regressor  9.323055e+10  0.791409"
      ]
     },
     "execution_count": 125,
     "metadata": {},
     "output_type": "execute_result"
    }
   ],
   "source": [
    "comparison = pd.DataFrame({'Algorithm' : Algorithm, 'MSE_Score' : MSE_Score, 'R2_Score' : R2_Score})\n",
    "comparison "
   ]
  },
  {
   "cell_type": "markdown",
   "id": "62e61c60",
   "metadata": {
    "id": "62e61c60"
   },
   "source": [
    "## Now from the Comparison table, you need to choose the best fit model\n",
    "\n",
    "- Step 1 - Fit X_train and y_train inside the model \n",
    "- Step 2 - Predict the X_test dataset\n",
    "- Step 3 - Predict the X_val dataset\n",
    "\n",
    "\n",
    "- Note - No need to change the code"
   ]
  },
  {
   "cell_type": "code",
   "execution_count": 126,
   "id": "3e07c258",
   "metadata": {
    "id": "3e07c258"
   },
   "outputs": [],
   "source": [
    "regressorfinal = xgb.XGBRegressor()\n",
    "regressorfinal.fit(X_train, y_train)\n",
    "predictedfinal = regressorfinal.predict(X_test)\n",
    "predict_testfinal = regressorfinal.predict(X_val)"
   ]
  },
  {
   "cell_type": "markdown",
   "id": "8e4df6c4",
   "metadata": {
    "id": "8e4df6c4"
   },
   "source": [
    "### Calculate the Mean Square Error for test dataset\n",
    "\n",
    "- Note - No need to change the code"
   ]
  },
  {
   "cell_type": "code",
   "execution_count": 127,
   "id": "5fb466d0",
   "metadata": {
    "id": "5fb466d0"
   },
   "outputs": [
    {
     "data": {
      "text/plain": [
       "305336.78718088614"
      ]
     },
     "execution_count": 127,
     "metadata": {},
     "output_type": "execute_result"
    }
   ],
   "source": [
    "mean_squared_error(y_test,predictedfinal,squared=False)"
   ]
  },
  {
   "cell_type": "markdown",
   "id": "ce27f87f",
   "metadata": {
    "id": "ce27f87f"
   },
   "source": [
    "### Calculate the mean Square Error for validation dataset"
   ]
  },
  {
   "cell_type": "code",
   "execution_count": 128,
   "id": "b47978ea",
   "metadata": {
    "id": "b47978ea"
   },
   "outputs": [
    {
     "data": {
      "text/plain": [
       "876930.5409722985"
      ]
     },
     "execution_count": 128,
     "metadata": {},
     "output_type": "execute_result"
    }
   ],
   "source": [
    "mean_squared_error(y_val,predictedfinal,squared=False)"
   ]
  },
  {
   "cell_type": "markdown",
   "id": "30014dbd",
   "metadata": {
    "id": "30014dbd"
   },
   "source": [
    "### Calculate the R2 score for test"
   ]
  },
  {
   "cell_type": "code",
   "execution_count": 129,
   "id": "8a162737",
   "metadata": {
    "id": "8a162737"
   },
   "outputs": [
    {
     "data": {
      "text/plain": [
       "-0.7520740123157559"
      ]
     },
     "execution_count": 129,
     "metadata": {},
     "output_type": "execute_result"
    }
   ],
   "source": [
    "r2_score(y_test,predict_testfinal)"
   ]
  },
  {
   "cell_type": "markdown",
   "id": "1c9853b0",
   "metadata": {
    "id": "1c9853b0"
   },
   "source": [
    "### Calculate the R2 score for Validation"
   ]
  },
  {
   "cell_type": "code",
   "execution_count": 130,
   "id": "1a6dc77c",
   "metadata": {
    "id": "1a6dc77c"
   },
   "outputs": [
    {
     "data": {
      "text/plain": [
       "0.7817418276034571"
      ]
     },
     "execution_count": 130,
     "metadata": {},
     "output_type": "execute_result"
    }
   ],
   "source": [
    "r2_score(y_val,predict_testfinal)"
   ]
  },
  {
   "cell_type": "markdown",
   "id": "499522d9",
   "metadata": {
    "id": "499522d9"
   },
   "source": [
    "### Calculate the Accuracy for train Dataset "
   ]
  },
  {
   "cell_type": "code",
   "execution_count": 131,
   "id": "7a4f1ce8",
   "metadata": {
    "id": "7a4f1ce8"
   },
   "outputs": [
    {
     "data": {
      "text/plain": [
       "0.9527229009989021"
      ]
     },
     "execution_count": 131,
     "metadata": {},
     "output_type": "execute_result"
    }
   ],
   "source": [
    "regressorfinal.score(X_train, y_train)"
   ]
  },
  {
   "cell_type": "markdown",
   "id": "12a1c921",
   "metadata": {
    "id": "12a1c921"
   },
   "source": [
    "### Calculate the accuracy for validation"
   ]
  },
  {
   "cell_type": "code",
   "execution_count": 132,
   "id": "d2579b4f",
   "metadata": {
    "id": "d2579b4f"
   },
   "outputs": [
    {
     "data": {
      "text/plain": [
       "0.7817418276034571"
      ]
     },
     "execution_count": 132,
     "metadata": {},
     "output_type": "execute_result"
    }
   ],
   "source": [
    "regressorfinal.score(X_val, y_val)"
   ]
  },
  {
   "cell_type": "markdown",
   "id": "79b82e84",
   "metadata": {
    "id": "79b82e84"
   },
   "source": [
    "### Calculate the accuracy for test"
   ]
  },
  {
   "cell_type": "code",
   "execution_count": 133,
   "id": "f09e6431",
   "metadata": {
    "id": "f09e6431"
   },
   "outputs": [
    {
     "data": {
      "text/plain": [
       "0.7914092072605341"
      ]
     },
     "execution_count": 133,
     "metadata": {},
     "output_type": "execute_result"
    }
   ],
   "source": [
    "regressorfinal.score(X_test, y_test)"
   ]
  },
  {
   "cell_type": "markdown",
   "id": "9488a5d9",
   "metadata": {
    "id": "9488a5d9"
   },
   "source": [
    "# Specify the reason behind choosing your machine learning model \n",
    "\n",
    "<font color=red>We are choosing xgboost. Why?</font>\n",
    "\n",
    "1. It has a lower Mean squared error. MSE is used to check how close estimates or forecasts are to actual values. Lower the    MSE, the closer is forecast to actual. This is used as a model evaluation measure for regression models and the lower      value indicates a better fit.\n",
    "<div>\n",
    "<img src=\"https://user-images.githubusercontent.com/84791003/155658909-d3d35042-b1bc-4396-a6b0-18fcbe89e478.png\" width=\"360\"/>\n",
    "</div>\n",
    "<font color=pink>....................................................................................................</font>\n",
    "2. It has a higher R2 score, and higher r-squared indicates a better fit for the model\n",
    "<div>\n",
    "<img src=\"https://user-images.githubusercontent.com/84791003/155659115-da1241a9-c1ac-4792-88ad-69e8a0b02d06.png\" width=\"360\"/>\n",
    "</div>"
   ]
  },
  {
   "cell_type": "markdown",
   "id": "387a6519",
   "metadata": {
    "id": "387a6519"
   },
   "source": [
    "## Now you need to pass the Nulldata dataframe into this machine learning model\n",
    "\n",
    "#### In order to pass this Nulldata dataframe into the ML model, we need to perform the following\n",
    "\n",
    "- Step 1 : Label Encoding \n",
    "- Step 2 : Day, Month and Year extraction \n",
    "- Step 3 : Change all the column data type into int64 or float64\n",
    "- Step 4 : Need to drop the useless columns "
   ]
  },
  {
   "cell_type": "markdown",
   "id": "I7JuxAkdiAdI",
   "metadata": {
    "id": "I7JuxAkdiAdI"
   },
   "source": [
    "### Display the Nulldata "
   ]
  },
  {
   "cell_type": "code",
   "execution_count": 134,
   "id": "6d6a51d2",
   "metadata": {
    "id": "6d6a51d2"
   },
   "outputs": [
    {
     "data": {
      "text/html": [
       "<div>\n",
       "<style scoped>\n",
       "    .dataframe tbody tr th:only-of-type {\n",
       "        vertical-align: middle;\n",
       "    }\n",
       "\n",
       "    .dataframe tbody tr th {\n",
       "        vertical-align: top;\n",
       "    }\n",
       "\n",
       "    .dataframe thead th {\n",
       "        text-align: right;\n",
       "    }\n",
       "</style>\n",
       "<table border=\"1\" class=\"dataframe\">\n",
       "  <thead>\n",
       "    <tr style=\"text-align: right;\">\n",
       "      <th></th>\n",
       "      <th>business_code</th>\n",
       "      <th>cust_number</th>\n",
       "      <th>name_customer</th>\n",
       "      <th>clear_date</th>\n",
       "      <th>buisness_year</th>\n",
       "      <th>doc_id</th>\n",
       "      <th>posting_date</th>\n",
       "      <th>due_in_date</th>\n",
       "      <th>baseline_create_date</th>\n",
       "      <th>cust_payment_terms</th>\n",
       "      <th>converted_usd</th>\n",
       "    </tr>\n",
       "  </thead>\n",
       "  <tbody>\n",
       "    <tr>\n",
       "      <th>0</th>\n",
       "      <td>CA02</td>\n",
       "      <td>0140105686</td>\n",
       "      <td>SYSC llc</td>\n",
       "      <td>NaT</td>\n",
       "      <td>2020.0</td>\n",
       "      <td>2.960623e+09</td>\n",
       "      <td>2020-03-30</td>\n",
       "      <td>2020-04-10</td>\n",
       "      <td>2020-03-31</td>\n",
       "      <td>CA10</td>\n",
       "      <td>2309.790</td>\n",
       "    </tr>\n",
       "    <tr>\n",
       "      <th>1</th>\n",
       "      <td>U001</td>\n",
       "      <td>0200744019</td>\n",
       "      <td>TARG us</td>\n",
       "      <td>NaT</td>\n",
       "      <td>2020.0</td>\n",
       "      <td>1.930659e+09</td>\n",
       "      <td>2020-03-19</td>\n",
       "      <td>2020-04-03</td>\n",
       "      <td>2020-03-19</td>\n",
       "      <td>NAA8</td>\n",
       "      <td>11173.020</td>\n",
       "    </tr>\n",
       "    <tr>\n",
       "      <th>2</th>\n",
       "      <td>U001</td>\n",
       "      <td>0200418007</td>\n",
       "      <td>AM</td>\n",
       "      <td>NaT</td>\n",
       "      <td>2020.0</td>\n",
       "      <td>1.930611e+09</td>\n",
       "      <td>2020-03-11</td>\n",
       "      <td>2020-03-26</td>\n",
       "      <td>2020-03-11</td>\n",
       "      <td>NAA8</td>\n",
       "      <td>3525.590</td>\n",
       "    </tr>\n",
       "    <tr>\n",
       "      <th>3</th>\n",
       "      <td>U001</td>\n",
       "      <td>0200739534</td>\n",
       "      <td>OK systems</td>\n",
       "      <td>NaT</td>\n",
       "      <td>2020.0</td>\n",
       "      <td>1.930788e+09</td>\n",
       "      <td>2020-04-15</td>\n",
       "      <td>2020-04-30</td>\n",
       "      <td>2020-04-15</td>\n",
       "      <td>NAA8</td>\n",
       "      <td>121105.650</td>\n",
       "    </tr>\n",
       "    <tr>\n",
       "      <th>4</th>\n",
       "      <td>U001</td>\n",
       "      <td>0200353024</td>\n",
       "      <td>DECA corporation</td>\n",
       "      <td>NaT</td>\n",
       "      <td>2020.0</td>\n",
       "      <td>1.930817e+09</td>\n",
       "      <td>2020-04-23</td>\n",
       "      <td>2020-04-26</td>\n",
       "      <td>2020-04-16</td>\n",
       "      <td>NAM2</td>\n",
       "      <td>3726.060</td>\n",
       "    </tr>\n",
       "    <tr>\n",
       "      <th>5</th>\n",
       "      <td>U001</td>\n",
       "      <td>0200744019</td>\n",
       "      <td>TARG associates</td>\n",
       "      <td>NaT</td>\n",
       "      <td>2020.0</td>\n",
       "      <td>1.930676e+09</td>\n",
       "      <td>2020-03-21</td>\n",
       "      <td>2020-04-05</td>\n",
       "      <td>2020-03-21</td>\n",
       "      <td>NAA8</td>\n",
       "      <td>5893.010</td>\n",
       "    </tr>\n",
       "    <tr>\n",
       "      <th>6</th>\n",
       "      <td>CA02</td>\n",
       "      <td>0140106408</td>\n",
       "      <td>WAL-M corp</td>\n",
       "      <td>NaT</td>\n",
       "      <td>2020.0</td>\n",
       "      <td>2.960619e+09</td>\n",
       "      <td>2020-03-06</td>\n",
       "      <td>2020-03-16</td>\n",
       "      <td>2020-03-06</td>\n",
       "      <td>CA10</td>\n",
       "      <td>64982.589</td>\n",
       "    </tr>\n",
       "    <tr>\n",
       "      <th>7</th>\n",
       "      <td>U001</td>\n",
       "      <td>0200337148</td>\n",
       "      <td>COAS llc</td>\n",
       "      <td>NaT</td>\n",
       "      <td>2020.0</td>\n",
       "      <td>1.930592e+09</td>\n",
       "      <td>2020-03-02</td>\n",
       "      <td>2020-03-17</td>\n",
       "      <td>2020-03-02</td>\n",
       "      <td>NAA8</td>\n",
       "      <td>11380.830</td>\n",
       "    </tr>\n",
       "  </tbody>\n",
       "</table>\n",
       "</div>"
      ],
      "text/plain": [
       "  business_code cust_number     name_customer clear_date  buisness_year  \\\n",
       "0          CA02  0140105686          SYSC llc        NaT         2020.0   \n",
       "1          U001  0200744019           TARG us        NaT         2020.0   \n",
       "2          U001  0200418007               AM         NaT         2020.0   \n",
       "3          U001  0200739534        OK systems        NaT         2020.0   \n",
       "4          U001  0200353024  DECA corporation        NaT         2020.0   \n",
       "5          U001  0200744019   TARG associates        NaT         2020.0   \n",
       "6          CA02  0140106408        WAL-M corp        NaT         2020.0   \n",
       "7          U001  0200337148          COAS llc        NaT         2020.0   \n",
       "\n",
       "         doc_id posting_date due_in_date baseline_create_date  \\\n",
       "0  2.960623e+09   2020-03-30  2020-04-10           2020-03-31   \n",
       "1  1.930659e+09   2020-03-19  2020-04-03           2020-03-19   \n",
       "2  1.930611e+09   2020-03-11  2020-03-26           2020-03-11   \n",
       "3  1.930788e+09   2020-04-15  2020-04-30           2020-04-15   \n",
       "4  1.930817e+09   2020-04-23  2020-04-26           2020-04-16   \n",
       "5  1.930676e+09   2020-03-21  2020-04-05           2020-03-21   \n",
       "6  2.960619e+09   2020-03-06  2020-03-16           2020-03-06   \n",
       "7  1.930592e+09   2020-03-02  2020-03-17           2020-03-02   \n",
       "\n",
       "  cust_payment_terms  converted_usd  \n",
       "0               CA10       2309.790  \n",
       "1               NAA8      11173.020  \n",
       "2               NAA8       3525.590  \n",
       "3               NAA8     121105.650  \n",
       "4               NAM2       3726.060  \n",
       "5               NAA8       5893.010  \n",
       "6               CA10      64982.589  \n",
       "7               NAA8      11380.830  "
      ]
     },
     "execution_count": 134,
     "metadata": {},
     "output_type": "execute_result"
    }
   ],
   "source": [
    "nulldata.head(8)"
   ]
  },
  {
   "cell_type": "markdown",
   "id": "Vamx5xqtiHCH",
   "metadata": {
    "id": "Vamx5xqtiHCH"
   },
   "source": [
    "### Check for the number of rows and columns in the nulldata"
   ]
  },
  {
   "cell_type": "code",
   "execution_count": 135,
   "id": "59de1092",
   "metadata": {
    "id": "59de1092"
   },
   "outputs": [
    {
     "data": {
      "text/plain": [
       "(9681, 11)"
      ]
     },
     "execution_count": 135,
     "metadata": {},
     "output_type": "execute_result"
    }
   ],
   "source": [
    "nulldata.shape"
   ]
  },
  {
   "cell_type": "markdown",
   "id": "BxzHNbBjpqXL",
   "metadata": {
    "id": "BxzHNbBjpqXL"
   },
   "source": [
    "### Check the Description and Information of the nulldata "
   ]
  },
  {
   "cell_type": "code",
   "execution_count": 136,
   "id": "a6294d29",
   "metadata": {
    "id": "a6294d29"
   },
   "outputs": [
    {
     "name": "stdout",
     "output_type": "stream",
     "text": [
      "<class 'pandas.core.frame.DataFrame'>\n",
      "RangeIndex: 9681 entries, 0 to 9680\n",
      "Data columns (total 11 columns):\n",
      " #   Column                Non-Null Count  Dtype         \n",
      "---  ------                --------------  -----         \n",
      " 0   business_code         9681 non-null   object        \n",
      " 1   cust_number           9681 non-null   object        \n",
      " 2   name_customer         9681 non-null   object        \n",
      " 3   clear_date            0 non-null      datetime64[ns]\n",
      " 4   buisness_year         9681 non-null   float64       \n",
      " 5   doc_id                9681 non-null   float64       \n",
      " 6   posting_date          9681 non-null   datetime64[ns]\n",
      " 7   due_in_date           9681 non-null   datetime64[ns]\n",
      " 8   baseline_create_date  9681 non-null   datetime64[ns]\n",
      " 9   cust_payment_terms    9681 non-null   object        \n",
      " 10  converted_usd         9681 non-null   float64       \n",
      "dtypes: datetime64[ns](4), float64(3), object(4)\n",
      "memory usage: 832.1+ KB\n"
     ]
    }
   ],
   "source": [
    "nulldata.info()"
   ]
  },
  {
   "cell_type": "markdown",
   "id": "fe860d94",
   "metadata": {
    "id": "fe860d94"
   },
   "source": [
    "### Storing the Nulldata into a different dataset \n",
    "# for BACKUP"
   ]
  },
  {
   "cell_type": "code",
   "execution_count": 137,
   "id": "16352034",
   "metadata": {
    "id": "16352034"
   },
   "outputs": [],
   "source": [
    "backnulldata = nulldata.copy()"
   ]
  },
  {
   "cell_type": "markdown",
   "id": "00f35b8c",
   "metadata": {
    "id": "00f35b8c"
   },
   "source": [
    "### Call the Label Encoder for Nulldata\n",
    "\n",
    "- Note - you are expected to fit \"business_code\" as it is a categorical variable\n",
    "- Note - No need to change the code"
   ]
  },
  {
   "cell_type": "code",
   "execution_count": 138,
   "id": "baf04b17",
   "metadata": {
    "id": "baf04b17"
   },
   "outputs": [],
   "source": [
    "from sklearn.preprocessing import LabelEncoder\n",
    "business_codern = LabelEncoder()\n",
    "business_codern.fit(nulldata['business_code'])\n",
    "nulldata['business_code_enc'] = business_codern.transform(nulldata['business_code'])"
   ]
  },
  {
   "cell_type": "markdown",
   "id": "ZCPBK9karIR-",
   "metadata": {
    "id": "ZCPBK9karIR-"
   },
   "source": [
    "### Now you need to manually replacing str values with numbers\n",
    "- Note - No need to change the code"
   ]
  },
  {
   "cell_type": "code",
   "execution_count": 139,
   "id": "c64924be",
   "metadata": {
    "id": "c64924be"
   },
   "outputs": [],
   "source": [
    "nulldata['cust_number'] = nulldata['cust_number'].str.replace('CCCA',\"1\").str.replace('CCU',\"2\").str.replace('CC',\"3\").astype(int)"
   ]
  },
  {
   "cell_type": "markdown",
   "id": "9a55f5f6",
   "metadata": {
    "id": "9a55f5f6"
   },
   "source": [
    "## You need to extract day, month and year from the \"clear_date\", \"posting_date\", \"due_in_date\", \"baseline_create_date\" columns\n",
    "\n",
    "\n",
    "##### 1.   Extract day from \"clear_date\" column and store it into 'day_of_cleardate'\n",
    "##### 2.   Extract month from \"clear_date\" column and store it into 'month_of_cleardate'\n",
    "##### 3.   Extract year from \"clear_date\" column and store it into 'year_of_cleardate'\n",
    "\n",
    "\n",
    "\n",
    "##### 4.   Extract day from \"posting_date\" column and store it into 'day_of_postingdate'\n",
    "##### 5.   Extract month from \"posting_date\" column and store it into 'month_of_postingdate'\n",
    "##### 6.   Extract year from \"posting_date\" column and store it into 'year_of_postingdate'\n",
    "\n",
    "\n",
    "\n",
    "\n",
    "##### 7.   Extract day from \"due_in_date\" column and store it into 'day_of_due'\n",
    "##### 8.   Extract month from \"due_in_date\" column and store it into 'month_of_due'\n",
    "##### 9.   Extract year from \"due_in_date\" column and store it into 'year_of_due'\n",
    "\n",
    "\n",
    "\n",
    "\n",
    "##### 10.   Extract day from \"baseline_create_date\" column and store it into 'day_of_createdate'\n",
    "##### 11.   Extract month from \"baseline_create_date\" column and store it into 'month_of_createdate'\n",
    "##### 12.   Extract year from \"baseline_create_date\" column and store it into 'year_of_createdate'\n",
    "\n",
    "\n",
    "\n",
    "\n",
    "- Note - You are supposed To use - \n",
    "\n",
    "*   dt.day\n",
    "*   dt.month\n",
    "*   dt.year"
   ]
  },
  {
   "cell_type": "code",
   "execution_count": 140,
   "id": "4166fbe4",
   "metadata": {
    "id": "4166fbe4"
   },
   "outputs": [],
   "source": [
    "nulldata['day_of_cleardate'] = nulldata['clear_date'].dt.day\n",
    "nulldata['month_of_cleardate'] = nulldata['clear_date'].dt.month\n",
    "nulldata['year_of_cleardate'] = nulldata['clear_date'].dt.year\n",
    "\n",
    "nulldata['day_of_postingdate'] = nulldata['posting_date'].dt.day\n",
    "nulldata['month_of_postingdate'] = nulldata['posting_date'].dt.month\n",
    "nulldata['year_of_postingdate'] = nulldata['posting_date'].dt.year\n",
    "\n",
    "nulldata['day_of_due'] = nulldata['due_in_date'].dt.day\n",
    "nulldata['month_of_due'] = nulldata['due_in_date'].dt.month\n",
    "nulldata['year_of_due'] = nulldata['due_in_date'].dt.year\n",
    "\n",
    "nulldata['day_of_createdate'] = nulldata['baseline_create_date'].dt.day\n",
    "nulldata['month_of_createdate'] = nulldata['baseline_create_date'].dt.month\n",
    "nulldata['year_of_createdate'] = nulldata['baseline_create_date'].dt.year"
   ]
  },
  {
   "cell_type": "markdown",
   "id": "QeHWJYrAvOC6",
   "metadata": {
    "id": "QeHWJYrAvOC6"
   },
   "source": [
    "### Use Label Encoder1 of all the following columns - \n",
    "- 'cust_payment_terms' and store into 'cust_payment_terms_enc'\n",
    "- 'business_code' and store into 'business_code_enc'\n",
    "- 'name_customer' and store into 'name_customer_enc'\n",
    "\n",
    "Note - No need to change the code"
   ]
  },
  {
   "cell_type": "code",
   "execution_count": 141,
   "id": "bac330e2",
   "metadata": {
    "id": "bac330e2"
   },
   "outputs": [],
   "source": [
    "nulldata['cust_payment_terms_enc']=label_encoder1.transform(nulldata['cust_payment_terms'])\n",
    "nulldata['business_code_enc']=label_encoder1.transform(nulldata['business_code'])\n",
    "nulldata['name_customer_enc']=label_encoder.transform(nulldata['name_customer'])\n"
   ]
  },
  {
   "cell_type": "markdown",
   "id": "zD9I-XqQwC28",
   "metadata": {
    "id": "zD9I-XqQwC28"
   },
   "source": [
    "### Check for the datatypes of all the columns of Nulldata"
   ]
  },
  {
   "cell_type": "code",
   "execution_count": 142,
   "id": "d4f72517",
   "metadata": {
    "id": "d4f72517"
   },
   "outputs": [
    {
     "data": {
      "text/plain": [
       "business_code                     object\n",
       "cust_number                        int32\n",
       "name_customer                     object\n",
       "clear_date                datetime64[ns]\n",
       "buisness_year                    float64\n",
       "doc_id                           float64\n",
       "posting_date              datetime64[ns]\n",
       "due_in_date               datetime64[ns]\n",
       "baseline_create_date      datetime64[ns]\n",
       "cust_payment_terms                object\n",
       "converted_usd                    float64\n",
       "business_code_enc                  int32\n",
       "day_of_cleardate                 float64\n",
       "month_of_cleardate               float64\n",
       "year_of_cleardate                float64\n",
       "day_of_postingdate                 int64\n",
       "month_of_postingdate               int64\n",
       "year_of_postingdate                int64\n",
       "day_of_due                         int64\n",
       "month_of_due                       int64\n",
       "year_of_due                        int64\n",
       "day_of_createdate                  int64\n",
       "month_of_createdate                int64\n",
       "year_of_createdate                 int64\n",
       "cust_payment_terms_enc             int32\n",
       "name_customer_enc                  int32\n",
       "dtype: object"
      ]
     },
     "execution_count": 142,
     "metadata": {},
     "output_type": "execute_result"
    }
   ],
   "source": [
    "nulldata.dtypes"
   ]
  },
  {
   "cell_type": "markdown",
   "id": "17cd5452",
   "metadata": {
    "id": "17cd5452"
   },
   "source": [
    "### Now you need to drop all the unnecessary columns - \n",
    "\n",
    "- 'business_code'\n",
    "- \"baseline_create_date\"\n",
    "- \"due_in_date\"\n",
    "- \"posting_date\"\n",
    "- \"name_customer\"\n",
    "- \"clear_date\"\n",
    "- \"cust_payment_terms\"\n",
    "- 'day_of_cleardate'\n",
    "- \"month_of_cleardate\"\n",
    "- \"year_of_cleardate\""
   ]
  },
  {
   "cell_type": "code",
   "execution_count": 143,
   "id": "d7c82076",
   "metadata": {
    "id": "d7c82076"
   },
   "outputs": [],
   "source": [
    "nulldata = nulldata.drop(['business_code',\"baseline_create_date\",\"due_in_date\",\"posting_date\",\"name_customer\",\"clear_date\",\"cust_payment_terms\",'day_of_cleardate',\"month_of_cleardate\",\"year_of_cleardate\"], axis = 1)"
   ]
  },
  {
   "cell_type": "markdown",
   "id": "Q_NCr9IPweVq",
   "metadata": {
    "id": "Q_NCr9IPweVq"
   },
   "source": [
    "### Check the information of the \"nulldata\" dataframe"
   ]
  },
  {
   "cell_type": "code",
   "execution_count": 144,
   "id": "4e7ffee0",
   "metadata": {
    "id": "4e7ffee0"
   },
   "outputs": [
    {
     "name": "stdout",
     "output_type": "stream",
     "text": [
      "<class 'pandas.core.frame.DataFrame'>\n",
      "RangeIndex: 9681 entries, 0 to 9680\n",
      "Data columns (total 16 columns):\n",
      " #   Column                  Non-Null Count  Dtype  \n",
      "---  ------                  --------------  -----  \n",
      " 0   cust_number             9681 non-null   int32  \n",
      " 1   buisness_year           9681 non-null   float64\n",
      " 2   doc_id                  9681 non-null   float64\n",
      " 3   converted_usd           9681 non-null   float64\n",
      " 4   business_code_enc       9681 non-null   int32  \n",
      " 5   day_of_postingdate      9681 non-null   int64  \n",
      " 6   month_of_postingdate    9681 non-null   int64  \n",
      " 7   year_of_postingdate     9681 non-null   int64  \n",
      " 8   day_of_due              9681 non-null   int64  \n",
      " 9   month_of_due            9681 non-null   int64  \n",
      " 10  year_of_due             9681 non-null   int64  \n",
      " 11  day_of_createdate       9681 non-null   int64  \n",
      " 12  month_of_createdate     9681 non-null   int64  \n",
      " 13  year_of_createdate      9681 non-null   int64  \n",
      " 14  cust_payment_terms_enc  9681 non-null   int32  \n",
      " 15  name_customer_enc       9681 non-null   int32  \n",
      "dtypes: float64(3), int32(4), int64(9)\n",
      "memory usage: 1.0 MB\n"
     ]
    }
   ],
   "source": [
    "nulldata.info()"
   ]
  },
  {
   "cell_type": "markdown",
   "id": "-XvjhWqmwi-C",
   "metadata": {
    "id": "-XvjhWqmwi-C"
   },
   "source": [
    "### Compare \"nulldata\" with the \"X_test\" dataframe \n",
    "\n",
    "- use info() method"
   ]
  },
  {
   "cell_type": "code",
   "execution_count": 145,
   "id": "02f4b62d",
   "metadata": {
    "id": "02f4b62d"
   },
   "outputs": [
    {
     "name": "stdout",
     "output_type": "stream",
     "text": [
      "<class 'pandas.core.frame.DataFrame'>\n",
      "RangeIndex: 9681 entries, 0 to 9680\n",
      "Data columns (total 16 columns):\n",
      " #   Column                  Non-Null Count  Dtype  \n",
      "---  ------                  --------------  -----  \n",
      " 0   cust_number             9681 non-null   int32  \n",
      " 1   buisness_year           9681 non-null   float64\n",
      " 2   doc_id                  9681 non-null   float64\n",
      " 3   converted_usd           9681 non-null   float64\n",
      " 4   business_code_enc       9681 non-null   int32  \n",
      " 5   day_of_postingdate      9681 non-null   int64  \n",
      " 6   month_of_postingdate    9681 non-null   int64  \n",
      " 7   year_of_postingdate     9681 non-null   int64  \n",
      " 8   day_of_due              9681 non-null   int64  \n",
      " 9   month_of_due            9681 non-null   int64  \n",
      " 10  year_of_due             9681 non-null   int64  \n",
      " 11  day_of_createdate       9681 non-null   int64  \n",
      " 12  month_of_createdate     9681 non-null   int64  \n",
      " 13  year_of_createdate      9681 non-null   int64  \n",
      " 14  cust_payment_terms_enc  9681 non-null   int32  \n",
      " 15  name_customer_enc       9681 non-null   int32  \n",
      "dtypes: float64(3), int32(4), int64(9)\n",
      "memory usage: 1.0 MB\n",
      "<class 'pandas.core.frame.DataFrame'>\n",
      "Int64Index: 7832 entries, 6296 to 27235\n",
      "Data columns (total 16 columns):\n",
      " #   Column                  Non-Null Count  Dtype  \n",
      "---  ------                  --------------  -----  \n",
      " 0   cust_number             7832 non-null   int32  \n",
      " 1   buisness_year           7832 non-null   float64\n",
      " 2   doc_id                  7832 non-null   float64\n",
      " 3   converted_usd           7832 non-null   float64\n",
      " 4   business_code_enc       7832 non-null   int32  \n",
      " 5   name_customer_enc       7832 non-null   int32  \n",
      " 6   cust_payment_terms_enc  7832 non-null   int32  \n",
      " 7   day_of_postingdate      7832 non-null   int64  \n",
      " 8   month_of_postingdate    7832 non-null   int64  \n",
      " 9   year_of_postingdate     7832 non-null   int64  \n",
      " 10  day_of_createdate       7832 non-null   int64  \n",
      " 11  month_of_createdate     7832 non-null   int64  \n",
      " 12  year_of_createdate      7832 non-null   int64  \n",
      " 13  day_of_due              7832 non-null   int64  \n",
      " 14  month_of_due            7832 non-null   int64  \n",
      " 15  year_of_due             7832 non-null   int64  \n",
      "dtypes: float64(3), int32(4), int64(9)\n",
      "memory usage: 917.8 KB\n"
     ]
    }
   ],
   "source": [
    "nulldata.info()\n",
    "X_test.info()"
   ]
  },
  {
   "cell_type": "markdown",
   "id": "Us3ey-9zwqjq",
   "metadata": {
    "id": "Us3ey-9zwqjq"
   },
   "source": [
    "### You must have noticed that there is a mismatch in the column sequence while compairing the dataframes\n",
    "\n",
    "- Note - In order to fed into the machine learning model, you need to edit the sequence of \"nulldata\", similar to the \"X_test\" dataframe"
   ]
  },
  {
   "cell_type": "markdown",
   "id": "vduVNt1kxPW-",
   "metadata": {
    "id": "vduVNt1kxPW-"
   },
   "source": [
    "- Display all the columns of the X_test dataframe \n",
    "- Display all the columns of the Nulldata dataframe \n",
    "- Store the Nulldata with new sequence into a new dataframe \n",
    "\n",
    "\n",
    "- Note - The code is given below, no need to change "
   ]
  },
  {
   "cell_type": "code",
   "execution_count": 146,
   "id": "6729353e",
   "metadata": {
    "id": "6729353e"
   },
   "outputs": [
    {
     "data": {
      "text/plain": [
       "Index(['cust_number', 'buisness_year', 'doc_id', 'converted_usd',\n",
       "       'business_code_enc', 'name_customer_enc', 'cust_payment_terms_enc',\n",
       "       'day_of_postingdate', 'month_of_postingdate', 'year_of_postingdate',\n",
       "       'day_of_createdate', 'month_of_createdate', 'year_of_createdate',\n",
       "       'day_of_due', 'month_of_due', 'year_of_due'],\n",
       "      dtype='object')"
      ]
     },
     "execution_count": 146,
     "metadata": {},
     "output_type": "execute_result"
    }
   ],
   "source": [
    "X_test.columns"
   ]
  },
  {
   "cell_type": "code",
   "execution_count": 147,
   "id": "47bd9c5e",
   "metadata": {
    "id": "47bd9c5e"
   },
   "outputs": [
    {
     "data": {
      "text/plain": [
       "Index(['cust_number', 'buisness_year', 'doc_id', 'converted_usd',\n",
       "       'business_code_enc', 'day_of_postingdate', 'month_of_postingdate',\n",
       "       'year_of_postingdate', 'day_of_due', 'month_of_due', 'year_of_due',\n",
       "       'day_of_createdate', 'month_of_createdate', 'year_of_createdate',\n",
       "       'cust_payment_terms_enc', 'name_customer_enc'],\n",
       "      dtype='object')"
      ]
     },
     "execution_count": 147,
     "metadata": {},
     "output_type": "execute_result"
    }
   ],
   "source": [
    "nulldata.columns"
   ]
  },
  {
   "cell_type": "code",
   "execution_count": 148,
   "id": "aa5a2103",
   "metadata": {
    "id": "aa5a2103"
   },
   "outputs": [],
   "source": [
    "nulldata2=nulldata[['cust_number', 'buisness_year', 'doc_id', 'converted_usd',\n",
    "       'business_code_enc', 'name_customer_enc', 'cust_payment_terms_enc',\n",
    "       'day_of_postingdate', 'month_of_postingdate', 'year_of_postingdate',\n",
    "       'day_of_createdate', 'month_of_createdate', 'year_of_createdate',\n",
    "       'day_of_due', 'month_of_due', 'year_of_due']]"
   ]
  },
  {
   "cell_type": "markdown",
   "id": "1dc8b021",
   "metadata": {
    "id": "1dc8b021"
   },
   "source": [
    "### Display the Final Dataset"
   ]
  },
  {
   "cell_type": "code",
   "execution_count": 149,
   "id": "2f39785a",
   "metadata": {
    "id": "2f39785a"
   },
   "outputs": [
    {
     "data": {
      "text/html": [
       "<div>\n",
       "<style scoped>\n",
       "    .dataframe tbody tr th:only-of-type {\n",
       "        vertical-align: middle;\n",
       "    }\n",
       "\n",
       "    .dataframe tbody tr th {\n",
       "        vertical-align: top;\n",
       "    }\n",
       "\n",
       "    .dataframe thead th {\n",
       "        text-align: right;\n",
       "    }\n",
       "</style>\n",
       "<table border=\"1\" class=\"dataframe\">\n",
       "  <thead>\n",
       "    <tr style=\"text-align: right;\">\n",
       "      <th></th>\n",
       "      <th>cust_number</th>\n",
       "      <th>buisness_year</th>\n",
       "      <th>doc_id</th>\n",
       "      <th>converted_usd</th>\n",
       "      <th>business_code_enc</th>\n",
       "      <th>name_customer_enc</th>\n",
       "      <th>cust_payment_terms_enc</th>\n",
       "      <th>day_of_postingdate</th>\n",
       "      <th>month_of_postingdate</th>\n",
       "      <th>year_of_postingdate</th>\n",
       "      <th>day_of_createdate</th>\n",
       "      <th>month_of_createdate</th>\n",
       "      <th>year_of_createdate</th>\n",
       "      <th>day_of_due</th>\n",
       "      <th>month_of_due</th>\n",
       "      <th>year_of_due</th>\n",
       "    </tr>\n",
       "  </thead>\n",
       "  <tbody>\n",
       "    <tr>\n",
       "      <th>0</th>\n",
       "      <td>140105686</td>\n",
       "      <td>2020.0</td>\n",
       "      <td>2.960623e+09</td>\n",
       "      <td>2309.790</td>\n",
       "      <td>65</td>\n",
       "      <td>2716</td>\n",
       "      <td>4</td>\n",
       "      <td>30</td>\n",
       "      <td>3</td>\n",
       "      <td>2020</td>\n",
       "      <td>31</td>\n",
       "      <td>3</td>\n",
       "      <td>2020</td>\n",
       "      <td>10</td>\n",
       "      <td>4</td>\n",
       "      <td>2020</td>\n",
       "    </tr>\n",
       "    <tr>\n",
       "      <th>1</th>\n",
       "      <td>200744019</td>\n",
       "      <td>2020.0</td>\n",
       "      <td>1.930659e+09</td>\n",
       "      <td>11173.020</td>\n",
       "      <td>65</td>\n",
       "      <td>2800</td>\n",
       "      <td>18</td>\n",
       "      <td>19</td>\n",
       "      <td>3</td>\n",
       "      <td>2020</td>\n",
       "      <td>19</td>\n",
       "      <td>3</td>\n",
       "      <td>2020</td>\n",
       "      <td>3</td>\n",
       "      <td>4</td>\n",
       "      <td>2020</td>\n",
       "    </tr>\n",
       "    <tr>\n",
       "      <th>2</th>\n",
       "      <td>200418007</td>\n",
       "      <td>2020.0</td>\n",
       "      <td>1.930611e+09</td>\n",
       "      <td>3525.590</td>\n",
       "      <td>65</td>\n",
       "      <td>93</td>\n",
       "      <td>18</td>\n",
       "      <td>11</td>\n",
       "      <td>3</td>\n",
       "      <td>2020</td>\n",
       "      <td>11</td>\n",
       "      <td>3</td>\n",
       "      <td>2020</td>\n",
       "      <td>26</td>\n",
       "      <td>3</td>\n",
       "      <td>2020</td>\n",
       "    </tr>\n",
       "    <tr>\n",
       "      <th>3</th>\n",
       "      <td>200739534</td>\n",
       "      <td>2020.0</td>\n",
       "      <td>1.930788e+09</td>\n",
       "      <td>121105.650</td>\n",
       "      <td>65</td>\n",
       "      <td>2023</td>\n",
       "      <td>18</td>\n",
       "      <td>15</td>\n",
       "      <td>4</td>\n",
       "      <td>2020</td>\n",
       "      <td>15</td>\n",
       "      <td>4</td>\n",
       "      <td>2020</td>\n",
       "      <td>30</td>\n",
       "      <td>4</td>\n",
       "      <td>2020</td>\n",
       "    </tr>\n",
       "    <tr>\n",
       "      <th>4</th>\n",
       "      <td>200353024</td>\n",
       "      <td>2020.0</td>\n",
       "      <td>1.930817e+09</td>\n",
       "      <td>3726.060</td>\n",
       "      <td>65</td>\n",
       "      <td>738</td>\n",
       "      <td>34</td>\n",
       "      <td>23</td>\n",
       "      <td>4</td>\n",
       "      <td>2020</td>\n",
       "      <td>16</td>\n",
       "      <td>4</td>\n",
       "      <td>2020</td>\n",
       "      <td>26</td>\n",
       "      <td>4</td>\n",
       "      <td>2020</td>\n",
       "    </tr>\n",
       "    <tr>\n",
       "      <th>5</th>\n",
       "      <td>200744019</td>\n",
       "      <td>2020.0</td>\n",
       "      <td>1.930676e+09</td>\n",
       "      <td>5893.010</td>\n",
       "      <td>65</td>\n",
       "      <td>2791</td>\n",
       "      <td>18</td>\n",
       "      <td>21</td>\n",
       "      <td>3</td>\n",
       "      <td>2020</td>\n",
       "      <td>21</td>\n",
       "      <td>3</td>\n",
       "      <td>2020</td>\n",
       "      <td>5</td>\n",
       "      <td>4</td>\n",
       "      <td>2020</td>\n",
       "    </tr>\n",
       "    <tr>\n",
       "      <th>6</th>\n",
       "      <td>140106408</td>\n",
       "      <td>2020.0</td>\n",
       "      <td>2.960619e+09</td>\n",
       "      <td>64982.589</td>\n",
       "      <td>65</td>\n",
       "      <td>2993</td>\n",
       "      <td>4</td>\n",
       "      <td>6</td>\n",
       "      <td>3</td>\n",
       "      <td>2020</td>\n",
       "      <td>6</td>\n",
       "      <td>3</td>\n",
       "      <td>2020</td>\n",
       "      <td>16</td>\n",
       "      <td>3</td>\n",
       "      <td>2020</td>\n",
       "    </tr>\n",
       "    <tr>\n",
       "      <th>7</th>\n",
       "      <td>200337148</td>\n",
       "      <td>2020.0</td>\n",
       "      <td>1.930592e+09</td>\n",
       "      <td>11380.830</td>\n",
       "      <td>65</td>\n",
       "      <td>567</td>\n",
       "      <td>18</td>\n",
       "      <td>2</td>\n",
       "      <td>3</td>\n",
       "      <td>2020</td>\n",
       "      <td>2</td>\n",
       "      <td>3</td>\n",
       "      <td>2020</td>\n",
       "      <td>17</td>\n",
       "      <td>3</td>\n",
       "      <td>2020</td>\n",
       "    </tr>\n",
       "  </tbody>\n",
       "</table>\n",
       "</div>"
      ],
      "text/plain": [
       "   cust_number  buisness_year        doc_id  converted_usd  business_code_enc  \\\n",
       "0    140105686         2020.0  2.960623e+09       2309.790                 65   \n",
       "1    200744019         2020.0  1.930659e+09      11173.020                 65   \n",
       "2    200418007         2020.0  1.930611e+09       3525.590                 65   \n",
       "3    200739534         2020.0  1.930788e+09     121105.650                 65   \n",
       "4    200353024         2020.0  1.930817e+09       3726.060                 65   \n",
       "5    200744019         2020.0  1.930676e+09       5893.010                 65   \n",
       "6    140106408         2020.0  2.960619e+09      64982.589                 65   \n",
       "7    200337148         2020.0  1.930592e+09      11380.830                 65   \n",
       "\n",
       "   name_customer_enc  cust_payment_terms_enc  day_of_postingdate  \\\n",
       "0               2716                       4                  30   \n",
       "1               2800                      18                  19   \n",
       "2                 93                      18                  11   \n",
       "3               2023                      18                  15   \n",
       "4                738                      34                  23   \n",
       "5               2791                      18                  21   \n",
       "6               2993                       4                   6   \n",
       "7                567                      18                   2   \n",
       "\n",
       "   month_of_postingdate  year_of_postingdate  day_of_createdate  \\\n",
       "0                     3                 2020                 31   \n",
       "1                     3                 2020                 19   \n",
       "2                     3                 2020                 11   \n",
       "3                     4                 2020                 15   \n",
       "4                     4                 2020                 16   \n",
       "5                     3                 2020                 21   \n",
       "6                     3                 2020                  6   \n",
       "7                     3                 2020                  2   \n",
       "\n",
       "   month_of_createdate  year_of_createdate  day_of_due  month_of_due  \\\n",
       "0                    3                2020          10             4   \n",
       "1                    3                2020           3             4   \n",
       "2                    3                2020          26             3   \n",
       "3                    4                2020          30             4   \n",
       "4                    4                2020          26             4   \n",
       "5                    3                2020           5             4   \n",
       "6                    3                2020          16             3   \n",
       "7                    3                2020          17             3   \n",
       "\n",
       "   year_of_due  \n",
       "0         2020  \n",
       "1         2020  \n",
       "2         2020  \n",
       "3         2020  \n",
       "4         2020  \n",
       "5         2020  \n",
       "6         2020  \n",
       "7         2020  "
      ]
     },
     "execution_count": 149,
     "metadata": {},
     "output_type": "execute_result"
    }
   ],
   "source": [
    "nulldata2.head(8)"
   ]
  },
  {
   "cell_type": "markdown",
   "id": "27b88c5a",
   "metadata": {
    "id": "27b88c5a"
   },
   "source": [
    "### Now you can pass this dataset into you final model and store it into \"final_result\""
   ]
  },
  {
   "cell_type": "code",
   "execution_count": 150,
   "id": "9e0b6388",
   "metadata": {
    "id": "9e0b6388"
   },
   "outputs": [],
   "source": [
    "final_result = regressorfinal.predict(nulldata2)"
   ]
  },
  {
   "cell_type": "markdown",
   "id": "9653d3c6",
   "metadata": {
    "id": "9653d3c6"
   },
   "source": [
    "### you need to make the final_result as dataframe, with a column name \"avg_delay\"\n",
    "\n",
    "- Note - No need to change the code"
   ]
  },
  {
   "cell_type": "code",
   "execution_count": 151,
   "id": "25ef814d",
   "metadata": {
    "id": "25ef814d"
   },
   "outputs": [],
   "source": [
    "final_result = pd.Series(final_result,name='avg_delay')"
   ]
  },
  {
   "cell_type": "markdown",
   "id": "C86staIhyf2C",
   "metadata": {
    "id": "C86staIhyf2C"
   },
   "source": [
    "### Display the \"avg_delay\" column"
   ]
  },
  {
   "cell_type": "code",
   "execution_count": 152,
   "id": "4fd46406",
   "metadata": {
    "id": "4fd46406",
    "scrolled": true
   },
   "outputs": [
    {
     "data": {
      "text/plain": [
       "0        -233471.0\n",
       "1        1641600.0\n",
       "2         699054.0\n",
       "3        -188793.0\n",
       "4        6172800.0\n",
       "           ...    \n",
       "39153     -33300.0\n",
       "39154    -213592.0\n",
       "39155      90514.0\n",
       "39156     135402.0\n",
       "39157    -337148.0\n",
       "Name: avg_delay, Length: 39158, dtype: float64"
      ]
     },
     "execution_count": 152,
     "metadata": {},
     "output_type": "execute_result"
    }
   ],
   "source": [
    "maindata['avg_delay']"
   ]
  },
  {
   "cell_type": "markdown",
   "id": "44f71a7e",
   "metadata": {
    "id": "44f71a7e"
   },
   "source": [
    "### Now you need to merge this final_result dataframe with the BACKUP of \"nulldata\" Dataframe which we have created in earlier steps"
   ]
  },
  {
   "cell_type": "code",
   "execution_count": 153,
   "id": "e8f0969d",
   "metadata": {
    "id": "e8f0969d"
   },
   "outputs": [],
   "source": [
    "backnulldata.reset_index(drop=True,inplace=True)\n",
    "Final = backnulldata.merge(final_result , on = nulldata.index )"
   ]
  },
  {
   "cell_type": "markdown",
   "id": "G-hLtxXgy4GZ",
   "metadata": {
    "id": "G-hLtxXgy4GZ"
   },
   "source": [
    "### Display the \"Final\" dataframe "
   ]
  },
  {
   "cell_type": "code",
   "execution_count": 154,
   "id": "71fb4dc0",
   "metadata": {
    "id": "71fb4dc0"
   },
   "outputs": [
    {
     "data": {
      "text/html": [
       "<div>\n",
       "<style scoped>\n",
       "    .dataframe tbody tr th:only-of-type {\n",
       "        vertical-align: middle;\n",
       "    }\n",
       "\n",
       "    .dataframe tbody tr th {\n",
       "        vertical-align: top;\n",
       "    }\n",
       "\n",
       "    .dataframe thead th {\n",
       "        text-align: right;\n",
       "    }\n",
       "</style>\n",
       "<table border=\"1\" class=\"dataframe\">\n",
       "  <thead>\n",
       "    <tr style=\"text-align: right;\">\n",
       "      <th></th>\n",
       "      <th>key_0</th>\n",
       "      <th>business_code</th>\n",
       "      <th>cust_number</th>\n",
       "      <th>name_customer</th>\n",
       "      <th>clear_date</th>\n",
       "      <th>buisness_year</th>\n",
       "      <th>doc_id</th>\n",
       "      <th>posting_date</th>\n",
       "      <th>due_in_date</th>\n",
       "      <th>baseline_create_date</th>\n",
       "      <th>cust_payment_terms</th>\n",
       "      <th>converted_usd</th>\n",
       "      <th>avg_delay</th>\n",
       "    </tr>\n",
       "  </thead>\n",
       "  <tbody>\n",
       "    <tr>\n",
       "      <th>0</th>\n",
       "      <td>0</td>\n",
       "      <td>CA02</td>\n",
       "      <td>0140105686</td>\n",
       "      <td>SYSC llc</td>\n",
       "      <td>NaT</td>\n",
       "      <td>2020.0</td>\n",
       "      <td>2.960623e+09</td>\n",
       "      <td>2020-03-30</td>\n",
       "      <td>2020-04-10</td>\n",
       "      <td>2020-03-31</td>\n",
       "      <td>CA10</td>\n",
       "      <td>2309.79</td>\n",
       "      <td>3.440908e+05</td>\n",
       "    </tr>\n",
       "    <tr>\n",
       "      <th>1</th>\n",
       "      <td>1</td>\n",
       "      <td>U001</td>\n",
       "      <td>0200744019</td>\n",
       "      <td>TARG us</td>\n",
       "      <td>NaT</td>\n",
       "      <td>2020.0</td>\n",
       "      <td>1.930659e+09</td>\n",
       "      <td>2020-03-19</td>\n",
       "      <td>2020-04-03</td>\n",
       "      <td>2020-03-19</td>\n",
       "      <td>NAA8</td>\n",
       "      <td>11173.02</td>\n",
       "      <td>8.142053e+05</td>\n",
       "    </tr>\n",
       "    <tr>\n",
       "      <th>2</th>\n",
       "      <td>2</td>\n",
       "      <td>U001</td>\n",
       "      <td>0200418007</td>\n",
       "      <td>AM</td>\n",
       "      <td>NaT</td>\n",
       "      <td>2020.0</td>\n",
       "      <td>1.930611e+09</td>\n",
       "      <td>2020-03-11</td>\n",
       "      <td>2020-03-26</td>\n",
       "      <td>2020-03-11</td>\n",
       "      <td>NAA8</td>\n",
       "      <td>3525.59</td>\n",
       "      <td>2.366072e+06</td>\n",
       "    </tr>\n",
       "    <tr>\n",
       "      <th>3</th>\n",
       "      <td>3</td>\n",
       "      <td>U001</td>\n",
       "      <td>0200739534</td>\n",
       "      <td>OK systems</td>\n",
       "      <td>NaT</td>\n",
       "      <td>2020.0</td>\n",
       "      <td>1.930788e+09</td>\n",
       "      <td>2020-04-15</td>\n",
       "      <td>2020-04-30</td>\n",
       "      <td>2020-04-15</td>\n",
       "      <td>NAA8</td>\n",
       "      <td>121105.65</td>\n",
       "      <td>-9.437563e+04</td>\n",
       "    </tr>\n",
       "    <tr>\n",
       "      <th>4</th>\n",
       "      <td>4</td>\n",
       "      <td>U001</td>\n",
       "      <td>0200353024</td>\n",
       "      <td>DECA corporation</td>\n",
       "      <td>NaT</td>\n",
       "      <td>2020.0</td>\n",
       "      <td>1.930817e+09</td>\n",
       "      <td>2020-04-23</td>\n",
       "      <td>2020-04-26</td>\n",
       "      <td>2020-04-16</td>\n",
       "      <td>NAM2</td>\n",
       "      <td>3726.06</td>\n",
       "      <td>-2.553316e+05</td>\n",
       "    </tr>\n",
       "  </tbody>\n",
       "</table>\n",
       "</div>"
      ],
      "text/plain": [
       "   key_0 business_code cust_number     name_customer clear_date  \\\n",
       "0      0          CA02  0140105686          SYSC llc        NaT   \n",
       "1      1          U001  0200744019           TARG us        NaT   \n",
       "2      2          U001  0200418007               AM         NaT   \n",
       "3      3          U001  0200739534        OK systems        NaT   \n",
       "4      4          U001  0200353024  DECA corporation        NaT   \n",
       "\n",
       "   buisness_year        doc_id posting_date due_in_date baseline_create_date  \\\n",
       "0         2020.0  2.960623e+09   2020-03-30  2020-04-10           2020-03-31   \n",
       "1         2020.0  1.930659e+09   2020-03-19  2020-04-03           2020-03-19   \n",
       "2         2020.0  1.930611e+09   2020-03-11  2020-03-26           2020-03-11   \n",
       "3         2020.0  1.930788e+09   2020-04-15  2020-04-30           2020-04-15   \n",
       "4         2020.0  1.930817e+09   2020-04-23  2020-04-26           2020-04-16   \n",
       "\n",
       "  cust_payment_terms  converted_usd     avg_delay  \n",
       "0               CA10        2309.79  3.440908e+05  \n",
       "1               NAA8       11173.02  8.142053e+05  \n",
       "2               NAA8        3525.59  2.366072e+06  \n",
       "3               NAA8      121105.65 -9.437563e+04  \n",
       "4               NAM2        3726.06 -2.553316e+05  "
      ]
     },
     "execution_count": 154,
     "metadata": {},
     "output_type": "execute_result"
    }
   ],
   "source": [
    "Final.head(5)"
   ]
  },
  {
   "cell_type": "markdown",
   "id": "4sc27Uz-y-0O",
   "metadata": {
    "id": "4sc27Uz-y-0O"
   },
   "source": [
    "### Check for the Number of Rows and Columns in your \"Final\" dataframe "
   ]
  },
  {
   "cell_type": "code",
   "execution_count": 155,
   "id": "5iUXOIhzy_HR",
   "metadata": {
    "id": "5iUXOIhzy_HR"
   },
   "outputs": [
    {
     "name": "stdout",
     "output_type": "stream",
     "text": [
      "Number of rows are:  9681\n",
      "Number of columns are:  13\n"
     ]
    }
   ],
   "source": [
    "rows = len(Final.axes[0])\n",
    "print(\"Number of rows are: \", rows)\n",
    "columns = len(Final.axes[1])\n",
    "print(\"Number of columns are: \", columns)"
   ]
  },
  {
   "cell_type": "markdown",
   "id": "48886d2c",
   "metadata": {
    "id": "48886d2c"
   },
   "source": [
    "### Now, you need to do convert the below fields back into date and time format \n",
    "\n",
    "- Convert \"due_in_date\" into datetime format\n",
    "- Convert \"avg_delay\" into datetime format\n",
    "- Create a new column \"clear_date\" and store the sum of \"due_in_date\" and \"avg_delay\"\n",
    "- display the new \"clear_date\" column\n",
    "- Note - Code is given below, no need to change "
   ]
  },
  {
   "cell_type": "code",
   "execution_count": 156,
   "id": "243abc2d",
   "metadata": {
    "id": "243abc2d"
   },
   "outputs": [],
   "source": [
    "Final['clear_date'] = pd.to_datetime(Final['due_in_date']) + pd.to_timedelta(Final['avg_delay'], unit='s')"
   ]
  },
  {
   "cell_type": "markdown",
   "id": "9QcX_fAjIkYR",
   "metadata": {
    "id": "9QcX_fAjIkYR"
   },
   "source": [
    "### Display the \"clear_date\" column"
   ]
  },
  {
   "cell_type": "code",
   "execution_count": 157,
   "id": "740e1486",
   "metadata": {
    "id": "740e1486"
   },
   "outputs": [
    {
     "data": {
      "text/plain": [
       "0   2020-04-13 23:34:50.750000000\n",
       "1   2020-04-12 10:10:05.312500000\n",
       "2   2020-04-22 09:14:31.500000000\n",
       "3   2020-04-28 21:47:04.367187500\n",
       "4   2020-04-23 01:04:28.390625000\n",
       "Name: clear_date, dtype: datetime64[ns]"
      ]
     },
     "execution_count": 157,
     "metadata": {},
     "output_type": "execute_result"
    }
   ],
   "source": [
    "Final['clear_date'].head(5)"
   ]
  },
  {
   "cell_type": "markdown",
   "id": "MSkNLq6-z7rZ",
   "metadata": {
    "id": "MSkNLq6-z7rZ"
   },
   "source": [
    "### Convert the average delay into number of days format \n",
    "\n",
    "- Note - Formula = avg_delay//(24 * 3600)\n",
    "- Note - full code is given for this, no need to change "
   ]
  },
  {
   "cell_type": "code",
   "execution_count": 158,
   "id": "ce6b618a",
   "metadata": {
    "id": "ce6b618a"
   },
   "outputs": [],
   "source": [
    "Final['avg_delay'] = Final.apply(lambda row: row.avg_delay//(24 * 3600), axis = 1)"
   ]
  },
  {
   "cell_type": "markdown",
   "id": "wbBBZPjP0W7o",
   "metadata": {
    "id": "wbBBZPjP0W7o"
   },
   "source": [
    "### Display the \"avg_delay\" column "
   ]
  },
  {
   "cell_type": "code",
   "execution_count": 159,
   "id": "a494982f",
   "metadata": {
    "id": "a494982f",
    "scrolled": true
   },
   "outputs": [
    {
     "data": {
      "text/plain": [
       "0     3.0\n",
       "1     9.0\n",
       "2    27.0\n",
       "3    -2.0\n",
       "4    -3.0\n",
       "Name: avg_delay, dtype: float64"
      ]
     },
     "execution_count": 159,
     "metadata": {},
     "output_type": "execute_result"
    }
   ],
   "source": [
    "Final['avg_delay'].head(5)"
   ]
  },
  {
   "cell_type": "markdown",
   "id": "815d8811",
   "metadata": {
    "id": "815d8811"
   },
   "source": [
    "### Now you need to convert average delay column into bucket\n",
    "\n",
    "- Need to perform binning \n",
    "- create a list of bins i.e. bins= [0,15,30,45,60,100]\n",
    "- create a list of labels i.e. labels = ['0-15','16-30','31-45','46-60','Greatar than 60']\n",
    "- perform binning by using cut() function from \"Final\" dataframe\n",
    "\n",
    "\n",
    "- Please fill up the first two rows of the code"
   ]
  },
  {
   "cell_type": "code",
   "execution_count": 160,
   "id": "c797e4b5",
   "metadata": {
    "id": "c797e4b5"
   },
   "outputs": [],
   "source": [
    "bins= [-100,0,15,30,45,60,100]\n",
    "labels =['already cleared','0-15','16-30','31-45','46-60','Greatar than 60']\n",
    "Final['Aging Bucket'] = pd.cut(Final['avg_delay'], bins=bins, labels=labels, right=False)"
   ]
  },
  {
   "cell_type": "markdown",
   "id": "1c35725f",
   "metadata": {
    "id": "1c35725f"
   },
   "source": [
    "### Now you need to drop \"key_0\" and \"avg_delay\" columns from the \"Final\" Dataframe"
   ]
  },
  {
   "cell_type": "code",
   "execution_count": 161,
   "id": "b31bc6a3",
   "metadata": {
    "id": "b31bc6a3"
   },
   "outputs": [],
   "source": [
    "Final = Final.drop(['key_0','avg_delay'],axis = 1)"
   ]
  },
  {
   "cell_type": "markdown",
   "id": "Ui-tyIvU0-5u",
   "metadata": {
    "id": "Ui-tyIvU0-5u"
   },
   "source": [
    "### Display the count of each categoty of new \"Aging Bucket\" column "
   ]
  },
  {
   "cell_type": "code",
   "execution_count": 162,
   "id": "a6e16218",
   "metadata": {
    "id": "a6e16218"
   },
   "outputs": [
    {
     "data": {
      "text/plain": [
       "0-15               6378\n",
       "already cleared    2616\n",
       "16-30               474\n",
       "31-45               145\n",
       "46-60                65\n",
       "Greatar than 60       3\n",
       "Name: Aging Bucket, dtype: int64"
      ]
     },
     "execution_count": 162,
     "metadata": {},
     "output_type": "execute_result"
    }
   ],
   "source": [
    "Final[\"Aging Bucket\"].value_counts()"
   ]
  },
  {
   "cell_type": "markdown",
   "id": "kgYegy551GKJ",
   "metadata": {
    "id": "kgYegy551GKJ"
   },
   "source": [
    "### Display your final dataset with aging buckets "
   ]
  },
  {
   "cell_type": "code",
   "execution_count": 163,
   "id": "c4bc87ec",
   "metadata": {
    "id": "c4bc87ec"
   },
   "outputs": [
    {
     "data": {
      "text/html": [
       "<div>\n",
       "<style scoped>\n",
       "    .dataframe tbody tr th:only-of-type {\n",
       "        vertical-align: middle;\n",
       "    }\n",
       "\n",
       "    .dataframe tbody tr th {\n",
       "        vertical-align: top;\n",
       "    }\n",
       "\n",
       "    .dataframe thead th {\n",
       "        text-align: right;\n",
       "    }\n",
       "</style>\n",
       "<table border=\"1\" class=\"dataframe\">\n",
       "  <thead>\n",
       "    <tr style=\"text-align: right;\">\n",
       "      <th></th>\n",
       "      <th>business_code</th>\n",
       "      <th>cust_number</th>\n",
       "      <th>name_customer</th>\n",
       "      <th>clear_date</th>\n",
       "      <th>buisness_year</th>\n",
       "      <th>doc_id</th>\n",
       "      <th>posting_date</th>\n",
       "      <th>due_in_date</th>\n",
       "      <th>baseline_create_date</th>\n",
       "      <th>cust_payment_terms</th>\n",
       "      <th>converted_usd</th>\n",
       "      <th>Aging Bucket</th>\n",
       "    </tr>\n",
       "  </thead>\n",
       "  <tbody>\n",
       "    <tr>\n",
       "      <th>0</th>\n",
       "      <td>CA02</td>\n",
       "      <td>0140105686</td>\n",
       "      <td>SYSC llc</td>\n",
       "      <td>2020-04-13 23:34:50.750000000</td>\n",
       "      <td>2020.0</td>\n",
       "      <td>2.960623e+09</td>\n",
       "      <td>2020-03-30</td>\n",
       "      <td>2020-04-10</td>\n",
       "      <td>2020-03-31</td>\n",
       "      <td>CA10</td>\n",
       "      <td>2309.79</td>\n",
       "      <td>0-15</td>\n",
       "    </tr>\n",
       "    <tr>\n",
       "      <th>1</th>\n",
       "      <td>U001</td>\n",
       "      <td>0200744019</td>\n",
       "      <td>TARG us</td>\n",
       "      <td>2020-04-12 10:10:05.312500000</td>\n",
       "      <td>2020.0</td>\n",
       "      <td>1.930659e+09</td>\n",
       "      <td>2020-03-19</td>\n",
       "      <td>2020-04-03</td>\n",
       "      <td>2020-03-19</td>\n",
       "      <td>NAA8</td>\n",
       "      <td>11173.02</td>\n",
       "      <td>0-15</td>\n",
       "    </tr>\n",
       "    <tr>\n",
       "      <th>2</th>\n",
       "      <td>U001</td>\n",
       "      <td>0200418007</td>\n",
       "      <td>AM</td>\n",
       "      <td>2020-04-22 09:14:31.500000000</td>\n",
       "      <td>2020.0</td>\n",
       "      <td>1.930611e+09</td>\n",
       "      <td>2020-03-11</td>\n",
       "      <td>2020-03-26</td>\n",
       "      <td>2020-03-11</td>\n",
       "      <td>NAA8</td>\n",
       "      <td>3525.59</td>\n",
       "      <td>16-30</td>\n",
       "    </tr>\n",
       "    <tr>\n",
       "      <th>3</th>\n",
       "      <td>U001</td>\n",
       "      <td>0200739534</td>\n",
       "      <td>OK systems</td>\n",
       "      <td>2020-04-28 21:47:04.367187500</td>\n",
       "      <td>2020.0</td>\n",
       "      <td>1.930788e+09</td>\n",
       "      <td>2020-04-15</td>\n",
       "      <td>2020-04-30</td>\n",
       "      <td>2020-04-15</td>\n",
       "      <td>NAA8</td>\n",
       "      <td>121105.65</td>\n",
       "      <td>already cleared</td>\n",
       "    </tr>\n",
       "    <tr>\n",
       "      <th>4</th>\n",
       "      <td>U001</td>\n",
       "      <td>0200353024</td>\n",
       "      <td>DECA corporation</td>\n",
       "      <td>2020-04-23 01:04:28.390625000</td>\n",
       "      <td>2020.0</td>\n",
       "      <td>1.930817e+09</td>\n",
       "      <td>2020-04-23</td>\n",
       "      <td>2020-04-26</td>\n",
       "      <td>2020-04-16</td>\n",
       "      <td>NAM2</td>\n",
       "      <td>3726.06</td>\n",
       "      <td>already cleared</td>\n",
       "    </tr>\n",
       "  </tbody>\n",
       "</table>\n",
       "</div>"
      ],
      "text/plain": [
       "  business_code cust_number     name_customer                    clear_date  \\\n",
       "0          CA02  0140105686          SYSC llc 2020-04-13 23:34:50.750000000   \n",
       "1          U001  0200744019           TARG us 2020-04-12 10:10:05.312500000   \n",
       "2          U001  0200418007               AM  2020-04-22 09:14:31.500000000   \n",
       "3          U001  0200739534        OK systems 2020-04-28 21:47:04.367187500   \n",
       "4          U001  0200353024  DECA corporation 2020-04-23 01:04:28.390625000   \n",
       "\n",
       "   buisness_year        doc_id posting_date due_in_date baseline_create_date  \\\n",
       "0         2020.0  2.960623e+09   2020-03-30  2020-04-10           2020-03-31   \n",
       "1         2020.0  1.930659e+09   2020-03-19  2020-04-03           2020-03-19   \n",
       "2         2020.0  1.930611e+09   2020-03-11  2020-03-26           2020-03-11   \n",
       "3         2020.0  1.930788e+09   2020-04-15  2020-04-30           2020-04-15   \n",
       "4         2020.0  1.930817e+09   2020-04-23  2020-04-26           2020-04-16   \n",
       "\n",
       "  cust_payment_terms  converted_usd     Aging Bucket  \n",
       "0               CA10        2309.79             0-15  \n",
       "1               NAA8       11173.02             0-15  \n",
       "2               NAA8        3525.59            16-30  \n",
       "3               NAA8      121105.65  already cleared  \n",
       "4               NAM2        3726.06  already cleared  "
      ]
     },
     "execution_count": 163,
     "metadata": {},
     "output_type": "execute_result"
    }
   ],
   "source": [
    "Final.head(5)"
   ]
  },
  {
   "cell_type": "markdown",
   "id": "Ji7AoDCB1L_x",
   "metadata": {
    "id": "Ji7AoDCB1L_x"
   },
   "source": [
    "### Store this dataframe into the .csv format"
   ]
  },
  {
   "cell_type": "code",
   "execution_count": 164,
   "id": "727d0b8d",
   "metadata": {
    "id": "727d0b8d"
   },
   "outputs": [],
   "source": [
    "Final.to_csv(\"C:\\\\Users\\\\KIIT\\\\Desktop\\\\Internships\\\\HighRadius\\\\HRC60102WK_Drishti.csv\")"
   ]
  },
  {
   "cell_type": "markdown",
   "id": "FK0fabl61SkC",
   "metadata": {
    "id": "FK0fabl61SkC"
   },
   "source": [
    "# END OF THE PROJECT"
   ]
  }
 ],
 "metadata": {
  "colab": {
   "collapsed_sections": [
    "62633a84"
   ],
   "name": "Payment date prediction.ipynb",
   "provenance": []
  },
  "kernelspec": {
   "display_name": "Python 3",
   "language": "python",
   "name": "python3"
  },
  "language_info": {
   "codemirror_mode": {
    "name": "ipython",
    "version": 3
   },
   "file_extension": ".py",
   "mimetype": "text/x-python",
   "name": "python",
   "nbconvert_exporter": "python",
   "pygments_lexer": "ipython3",
   "version": "3.8.8"
  }
 },
 "nbformat": 4,
 "nbformat_minor": 5
}
